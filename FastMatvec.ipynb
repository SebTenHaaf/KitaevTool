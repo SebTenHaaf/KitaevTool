{
 "cells": [
  {
   "cell_type": "code",
   "execution_count": 1,
   "id": "b8d5363d-a4af-4574-9fb6-dfd9e709deec",
   "metadata": {},
   "outputs": [],
   "source": [
    "from Analysis.systems import kitaev_chain,kramers_chain,kitaev_chain_spinful\n",
    "\n",
    "import FockSystem.FockSystem as fst\n",
    "import numpy as np\n",
    "import matplotlib.pyplot as plt\n",
    "from importlib import reload\n",
    "import time"
   ]
  },
  {
   "cell_type": "code",
   "execution_count": 2,
   "id": "0fbbdf8b-400d-443a-a07a-f94b2e3b14dd",
   "metadata": {},
   "outputs": [],
   "source": [
    "from IPython.core.display import Markdown\n",
    "from IPython.display import display"
   ]
  },
  {
   "cell_type": "code",
   "execution_count": 3,
   "id": "cf8c30a6-aff9-48b7-a24c-23783ae88545",
   "metadata": {},
   "outputs": [],
   "source": [
    "import Analysis.systems as kt"
   ]
  },
  {
   "cell_type": "markdown",
   "id": "5f626bef-d3cc-4ffd-b642-bc2ee69c89d0",
   "metadata": {},
   "source": [
    "# Example"
   ]
  },
  {
   "cell_type": "code",
   "execution_count": 4,
   "id": "fc0abdf5-d3f3-4e5d-9604-20a4f1ffbbd2",
   "metadata": {},
   "outputs": [],
   "source": [
    "from FockSystem.FockSystemSparse import FockStatesSparse"
   ]
  },
  {
   "cell_type": "code",
   "execution_count": 5,
   "id": "b3e609b3-427c-470f-a270-4bdd913d9c68",
   "metadata": {},
   "outputs": [],
   "source": [
    "N = 9\n",
    "MU,U, ECT,CAR = kitaev_chain_spinful(N)\n",
    "H = MU + CAR + ECT + U\n",
    "H[MU] = 10\n",
    "H[CAR] = 25\n",
    "H[ECT] = 13\n",
    "H[U] = 8"
   ]
  },
  {
   "cell_type": "code",
   "execution_count": null,
   "id": "2cd3ba1b-12e1-4075-b160-98bedd6ad0a8",
   "metadata": {},
   "outputs": [],
   "source": [
    "normal_basis = fst.FockStates(N)\n",
    "sparse_basis = fst.FockStatesSparse(N)"
   ]
  },
  {
   "cell_type": "code",
   "execution_count": null,
   "id": "a042fc2b-49ec-4a87-b497-9871ecce3bb2",
   "metadata": {},
   "outputs": [],
   "source": [
    "input_vector = np.array([np.random.randint(2) for _ in range(4**N)], dtype=np.float64)\n",
    "comp = np.array(input_vector,dtype=complex)"
   ]
  },
  {
   "cell_type": "code",
   "execution_count": null,
   "id": "9a57f64d-4d2a-4280-aa71-b74bc4ca203a",
   "metadata": {},
   "outputs": [],
   "source": [
    "sparse_matr = H[normal_basis].to_sparse_csr()\n",
    "%time sparse_matr @ input_vector"
   ]
  },
  {
   "cell_type": "code",
   "execution_count": null,
   "id": "93889c3d-3418-4a38-8989-8a4184bba1f8",
   "metadata": {},
   "outputs": [],
   "source": [
    "test_sparse = H[sparse_basis] @ input_vector\n",
    "test_normal = H[normal_basis] @ comp\n",
    "np.all(test_sparse==test_normal)"
   ]
  },
  {
   "cell_type": "code",
   "execution_count": null,
   "id": "e33dd12e-0048-45cd-adca-c6636ca08a62",
   "metadata": {},
   "outputs": [
    {
     "name": "stdout",
     "output_type": "stream",
     "text": [
      "Testing sparse build\n",
      "2\n",
      "3\n",
      "4\n",
      "5\n",
      "6\n",
      "7\n",
      "8\n",
      "9\n",
      "10\n",
      "11\n",
      "12\n",
      "13\n",
      "14\n",
      "15\n",
      "16\n",
      "17\n",
      "18\n",
      "19\n",
      "Testing sparse matvec\n",
      "2\n",
      "3\n",
      "4\n",
      "5\n",
      "6\n",
      "7\n",
      "8\n",
      "9\n",
      "10\n",
      "11\n",
      "Testing normal build\n",
      "2\n",
      "3\n",
      "4\n",
      "5\n",
      "6\n",
      "7\n",
      "8\n",
      "9\n",
      "10\n",
      "Testing normal matvec\n",
      "2\n",
      "3\n",
      "4\n",
      "5\n",
      "6\n",
      "7\n",
      "8\n",
      "9\n",
      "10\n"
     ]
    }
   ],
   "source": [
    "build_normal_times = []\n",
    "matvec_normal_times = []\n",
    "memory_normal = []\n",
    "\n",
    "build_sparse_times = []\n",
    "matvec_sparse_times = []\n",
    "memory_sparse = []\n",
    "\n",
    "### Test Sparse build\n",
    "N_range_sparse = np.arange(2,20)\n",
    "print(\"Testing sparse build\")\n",
    "\n",
    "for n in N_range_sparse:\n",
    "    print(n)\n",
    "    ### Make H\n",
    "    MU,U, ECT,CAR = kitaev_chain_spinful(n)\n",
    "    H = MU + CAR + ECT + U\n",
    "    H[MU] = 10\n",
    "    H[CAR] = 25\n",
    "    H[ECT] = 13\n",
    "    H[U] = 8\n",
    "\n",
    "    ### Test Normal and Sparse\n",
    "    summed_constr = 0\n",
    "    repeated_constr = 5\n",
    "\n",
    "    for _ in range(repeated_constr):\n",
    "        ### CONSTRUCTION\n",
    "        sparse_basis = fst.FockStatesSparse(int(n))\n",
    "        start = time.perf_counter()\n",
    "        sparse_construct = H[sparse_basis]\n",
    "        end = time.perf_counter()\n",
    "        summed_constr += (end-start)        \n",
    "        del sparse_basis\n",
    "    memory_sparse.append(sparse_construct.rc_indices.nbytes)\n",
    "    del sparse_construct\n",
    "    build_sparse_times.append(summed_constr/repeated_constr)\n",
    "\n",
    "### Test Sparse MATRIX - VECTOR\n",
    "N_range_sparse_mv = np.arange(2,12)\n",
    "print(\"Testing sparse matvec\")\n",
    "\n",
    "for n in N_range_sparse_mv:\n",
    "    print(n)\n",
    "\n",
    "    ### Make H\n",
    "    MU,U, ECT,CAR = kitaev_chain_spinful(n)\n",
    "    H = MU + CAR + ECT + U\n",
    "    H[MU] = 10\n",
    "    H[CAR] = 25\n",
    "    H[ECT] = 13\n",
    "    H[U] = 8\n",
    "    sparse_basis = fst.FockStatesSparse(int(n))\n",
    "    sparse_construct = H[sparse_basis]\n",
    "\n",
    "    ### Test Normal and Sparse\n",
    "    summed_constr = 0\n",
    "    repeated_constr = 1\n",
    "    for _ in range(repeated_constr):\n",
    "        test_vector = np.array([np.random.randint(2) for _ in range(4**n)], dtype=np.float64)\n",
    "        ### CONSTRUCTION\n",
    "        start = time.perf_counter()\n",
    "        res = sparse_construct @ test_vector\n",
    "        end = time.perf_counter()\n",
    "        summed_constr += (end-start)        \n",
    "        del test_vector\n",
    "        del res\n",
    "    del sparse_basis\n",
    "    del sparse_construct\n",
    "    matvec_sparse_times.append(summed_constr/repeated_constr)\n",
    "\n",
    "### Test Normal build\n",
    "N_range_normal = np.arange(2,11)\n",
    "print(\"Testing normal build\")\n",
    "for n in N_range_normal:\n",
    "    print(n)\n",
    "    ### Make H\n",
    "    MU,U, ECT,CAR = kitaev_chain_spinful(n)\n",
    "    H = MU + CAR + ECT + U\n",
    "    H[MU] = 10\n",
    "    H[CAR] = 25\n",
    "    H[ECT] = 13\n",
    "    H[U] = 8\n",
    "\n",
    "    ### Test Normal\n",
    "    summed = 0\n",
    "    if n < 5:\n",
    "        repeated = 1\n",
    "    else:\n",
    "        repeated = 1\n",
    "    for _ in range(repeated):\n",
    "        normal_basis = fst.FockStates(int(n))\n",
    "        start = time.perf_counter()\n",
    "        normal_construct = H[normal_basis]\n",
    "        end = time.perf_counter()\n",
    "        summed += (end-start)\n",
    "        del normal_basis\n",
    "        del normal_construct\n",
    "    build_normal_times.append(summed/repeated)\n",
    "\n",
    "\n",
    "### Test Normal  MATRIX - VECTOR\n",
    "N_range_normal_mv = np.arange(2,11)\n",
    "print(\"Testing normal matvec\")\n",
    "for n in N_range_normal_mv:\n",
    "    print(n)\n",
    "    ### Make H\n",
    "    MU,U, ECT,CAR = kitaev_chain_spinful(n)\n",
    "    H = MU + CAR + ECT + U\n",
    "    H[MU] = 10\n",
    "    H[CAR] = 25\n",
    "    H[ECT] = 13\n",
    "    H[U] = 8\n",
    "    normal_basis = fst.FockStates(int(n))\n",
    "    normal_construct = H[normal_basis]\n",
    "\n",
    "    ### Test Normal\n",
    "    summed = 0\n",
    "    if n < 8:\n",
    "        repeated = 1\n",
    "    else:\n",
    "        repeated = 1\n",
    "    for _ in range(repeated):\n",
    "        csr_matr = normal_construct.to_sparse_csr()\n",
    "        memory_csr = csr_matr.data.nbytes + csr_matr.indices.nbytes + csr_matr.indptr.nbytes\n",
    "        memory_normal.append(memory_csr)\n",
    "        test_vector = np.array([np.random.randint(2) for _ in range(4**n)],  dtype=np.float64)\n",
    "        \n",
    "        start = time.perf_counter()\n",
    "        res = csr_matr @ test_vector\n",
    "        end = time.perf_counter()\n",
    "        \n",
    "        summed += (end-start)\n",
    "        del csr_matr\n",
    "        del test_vector\n",
    "        del res\n",
    "    \n",
    "        \n",
    "    del normal_basis\n",
    "    del normal_construct\n",
    "    matvec_normal_times.append(summed/repeated)\n"
   ]
  },
  {
   "cell_type": "code",
   "execution_count": null,
   "id": "23d4c2c6-7ca8-40f4-b097-2888a196b865",
   "metadata": {},
   "outputs": [],
   "source": [
    "fig,axs = plt.subplots(ncols = 3, figsize=(10,3))\n",
    "\n",
    "### Build Time\n",
    "axs[0].set_yscale('log')\n",
    "axs[0].plot(N_range_normal*2,build_normal_times, label = 'sparse', marker='x')\n",
    "axs[0].plot(N_range_sparse*2, build_sparse_times, label = 'very sparse', marker='o')\n",
    "\n",
    "axs[0].set_xlabel('# Fermions')\n",
    "axs[0].set_ylabel('Time (s)')\n",
    "axs[0].legend(loc='lower right',ncols=2,fontsize=8)\n",
    "axs[0].set_title('Build time')\n",
    "\n",
    "### Matrix - vector product\n",
    "axs[1].set_yscale('log')\n",
    "axs[1].set_ylabel('Time (s)')\n",
    "axs[1].set_xlabel('# Fermions')\n",
    "\n",
    "axs[1].plot(N_range_normal_mv*2, matvec_normal_times, label = 'scp.csr_matrix', marker='x')\n",
    "axs[1].plot(N_range_sparse_mv*2, matvec_sparse_times, label = 'very sparse', marker='o')\n",
    "axs[1].set_title('Matrix-vector product')\n",
    "axs[1].legend(loc='upper left',ncols=1,fontsize=8)\n",
    "\n",
    "### Memory requirement (excl. vector)\n",
    "axs[2].set_yscale('log')\n",
    "axs[2].set_title('Memory (excl. vector)')\n",
    "\n",
    "axs[2].plot(N_range_normal_mv*2, memory_normal, label = 'scp.csr_matrix', marker='x')\n",
    "axs[2].plot(N_range_sparse*2, memory_sparse, label = 'very sparse', marker='o')\n",
    "axs[2].legend(loc='upper left',ncols=1,fontsize=8)\n",
    "axs[2].set_ylabel('Bytes')\n",
    "axs[2].set_xlabel('# Fermions')\n",
    "plt.tight_layout()"
   ]
  },
  {
   "cell_type": "code",
   "execution_count": null,
   "id": "2f72c4e8-bfb5-45ce-9e8b-2eb518942b63",
   "metadata": {},
   "outputs": [],
   "source": []
  },
  {
   "cell_type": "markdown",
   "id": "f382e916-f1d0-4992-b410-2e72645be8b2",
   "metadata": {},
   "source": [
    "## Visualise"
   ]
  },
  {
   "cell_type": "code",
   "execution_count": null,
   "id": "c30805f8-a3d8-4351-a71c-ef433d6e5fd1",
   "metadata": {},
   "outputs": [],
   "source": [
    "def print_md(item):\n",
    "    display(Markdown(item._repr_markdown_()))"
   ]
  },
  {
   "cell_type": "code",
   "execution_count": null,
   "id": "8f89f2d2-e6b8-4de3-8757-c335200361e3",
   "metadata": {},
   "outputs": [],
   "source": [
    "## Build the Hamiltonian\n",
    "fig,axs = plt.subplots(ncols=4,figsize = (14,5))\n",
    "\n",
    "for idx,N in enumerate(range(2,6)):\n",
    "    ## Build the Hamiltonian\n",
    "    MU,CAR,ECT = kitaev_chain(N)\n",
    "    H = MU + CAR +ECT\n",
    "    H[MU] = 1\n",
    "    H[CAR] = 5\n",
    "    H[ECT] = 2\n",
    "\n",
    "    \n",
    "    axs[idx].matshow(np.real(H[basis].to_array()))\n",
    "\n",
    "plt.tight_layout()"
   ]
  },
  {
   "cell_type": "code",
   "execution_count": null,
   "id": "acec6a68-6fff-4f79-bf8b-894da4eb3d04",
   "metadata": {},
   "outputs": [],
   "source": [
    "def generate_minimal_data_tupels(H_base,N):\n",
    "    basis = fst.FockStates(2)\n",
    "    big_N = 4**N\n",
    "    start_tuples, all_tuples = [],[]\n",
    "\n",
    "    h_vals = []\n",
    "    h_data = []\n",
    "    for r,c,v,p,t in zip(H_base[basis].rows,H_base[basis].cols,H_base[basis].values, H_base[basis].parities, H_base[basis].type_strings):\n",
    "        if r!=c:\n",
    "            start_tuples.append((r,c,v*p,t))\n",
    "\n",
    "    for solo_tuple in start_tuples:\n",
    "        start_i,start_j = solo_tuple[0],solo_tuple[1]\n",
    "        base_type = solo_tuple[3]\n",
    "\n",
    "        for idx in range(2,N+1):\n",
    "            val = solo_tuple[2]\n",
    "            if (start_i < big_N and start_j < big_N):\n",
    "                h_vals.append(val)\n",
    "                h_data.append([start_i,start_j, 4**(idx-2), int(big_N/(4**idx)), 4**idx])\n",
    "            if start_i != start_j:\n",
    "                start_i <<= 2\n",
    "                start_j <<= 2\n",
    "            else:\n",
    "                break\n",
    "           \n",
    "    return np.array(h_vals, dtype=np.float64),np.array(h_data,dtype=np.int64)"
   ]
  },
  {
   "cell_type": "markdown",
   "id": "f249c5b2-17d7-4bdf-84a1-95efaa346fc9",
   "metadata": {},
   "source": [
    "## Systematic approach"
   ]
  },
  {
   "cell_type": "code",
   "execution_count": null,
   "id": "e2119b75-0df3-4ac8-ac35-7384482ca4df",
   "metadata": {},
   "outputs": [],
   "source": [
    "N = 5\n",
    "MU,CAR,ECT = kitaev_chain(N)\n",
    "H = MU + CAR + ECT\n",
    "H[MU] = 5\n",
    "H[CAR] = 25\n",
    "H[ECT] = 13"
   ]
  },
  {
   "cell_type": "code",
   "execution_count": null,
   "id": "61991a05-005f-4fa8-a085-3e99d6cf6cef",
   "metadata": {},
   "outputs": [],
   "source": [
    "c_dwn = fst.OperSequence(1)\n",
    "c_up = fst.OperSequence(3)"
   ]
  },
  {
   "cell_type": "code",
   "execution_count": null,
   "id": "0e0f5001-90d0-4feb-96d7-c39897db9bfc",
   "metadata": {},
   "outputs": [],
   "source": []
  },
  {
   "cell_type": "code",
   "execution_count": null,
   "id": "40f9dbb1-0322-4d45-8694-1d66aa4adcce",
   "metadata": {},
   "outputs": [],
   "source": [
    "def construct_sparse_tuples(H, N):\n",
    "    big_N = 4**N\n",
    "    ## (1) Map each subsequence to a base element\n",
    "    base_set_list = [] ## Set of minimal elements\n",
    "    order_list = [] ## Order of the operator\n",
    "    for i in range(len(H.oper_list)):\n",
    "        subseq = H[i]\n",
    "        sub_list = np.array(subseq.oper_list[0])\n",
    "        sub_list -= ((np.min(sub_list) >> 2) * 4) ## Shift sequence to minimal form\n",
    "        oper_order = (np.max(sub_list)>>2)-(np.min(sub_list)>>2) ## calculate 'order' of the sequence\n",
    "        \n",
    "        if list(sub_list) not in base_set_list:\n",
    "            base_set_list.append(list(sub_list))\n",
    "            order_list.append(int(oper_order))\n",
    "            \n",
    "    ## (2) Use the base set and orders to construct the minimal info needed for matvec\n",
    "    h_vals = []\n",
    "    h_types = []\n",
    "    h_rc_data = []\n",
    "\n",
    "    for order,base_set in zip(order_list,base_set_list):\n",
    "        oper_as_sequence = fst.OperSequence(list(base_set[::-1]))        \n",
    "        ## Calculate the relevant indices in the smallest possible subsystem\n",
    "        basis = fst.FockStates(order+1)\n",
    "        operseq_data = oper_as_sequence[basis]\n",
    "        start_tuples=[]\n",
    "\n",
    "        ## Shift the subsystem over the entire system\n",
    "        ## Checking if the term indeed exists along the way and grabbing the correct values\n",
    "        for row,col,parity in zip(operseq_data.rows,operseq_data.cols,operseq_data.parities):\n",
    "            start_i = row\n",
    "            start_j = col\n",
    "            ## Can shift a sequence N-order times before going out of bounds\n",
    "            for shift_idx in range(0, N-order):\n",
    "                shifted_sequence = oper_as_sequence >> shift_idx\n",
    "                ## Check if the sequence actually should be stored (store only if original H contains it)\n",
    "                if shifted_sequence in H:\n",
    "                    val = H.weights[H.oper_list.index(shifted_sequence.oper_list[0])]*parity ## grab value of the operator\n",
    "                    type_string = shifted_sequence.oper_list_to_str(shifted_sequence.oper_list[0])\n",
    "                    if (start_i < big_N and start_j < big_N):\n",
    "                        if start_i == start_j:\n",
    "                            h_vals.append(val/2)\n",
    "                        else:\n",
    "                            h_vals.append(val)\n",
    "\n",
    "                        ## Stores: [starting_i, starting_j, number of small reps, number of big reps, spacing between big reps]\n",
    "                        ## The latter 3 depend on the order of the sequence, the size of the array and the shifts that have been done\n",
    "                        h_rc_data.append([start_i,start_j, 4**(shift_idx), int(4**(N-(order+1)-shift_idx)), 4**(shift_idx+order+1)]) \n",
    "                        h_types.append(type_string)\n",
    "                start_i <<= 2\n",
    "                start_j <<= 2\n",
    "    return np.array(h_vals, dtype=np.float64),np.array(h_rc_data,dtype=np.int64), np.array(h_types)\n",
    "\n",
    "        "
   ]
  },
  {
   "cell_type": "code",
   "execution_count": null,
   "id": "ccd666de-fb7b-4b7e-a79d-611459866011",
   "metadata": {},
   "outputs": [],
   "source": [
    "## Build the Hamiltonian\n",
    "MU_2,CAR_2,ECT_2 = kt.kitaev_chain(2)\n",
    "H_base = MU_2 + CAR_2 +ECT_2\n",
    "H_base[MU_2] = 0\n",
    "H_base[CAR_2] = 25\n",
    "H_base[ECT_2] = 13"
   ]
  },
  {
   "cell_type": "code",
   "execution_count": null,
   "id": "3f13428b-ec4b-4799-9916-d03f0b3d25a1",
   "metadata": {},
   "outputs": [],
   "source": []
  },
  {
   "cell_type": "code",
   "execution_count": null,
   "id": "286685c8-4d9c-4e35-9776-25125d18bb5e",
   "metadata": {},
   "outputs": [],
   "source": [
    "N = 4\n",
    "h_vals,h_data,h_types = construct_sparse_tuples(H,N)"
   ]
  },
  {
   "cell_type": "code",
   "execution_count": null,
   "id": "1c0d6d4a-9f98-4a68-a636-ef13dac14c7f",
   "metadata": {},
   "outputs": [],
   "source": [
    "N = 7\n",
    "MU,ECT,CAR = kramers_chain(N)\n",
    "H = MU + CAR + ECT\n",
    "H[MU] = 1\n",
    "H[CAR] = 25\n",
    "H[ECT] = 13\n",
    "\n",
    "test_val,test_data,h_types = construct_sparse_tuples(H, N)\n",
    "#basis=fst.FockStates(N)\n"
   ]
  },
  {
   "cell_type": "code",
   "execution_count": null,
   "id": "13e971f2-8953-4e35-b390-3f0bd2b0cafd",
   "metadata": {},
   "outputs": [],
   "source": [
    "input_vector = np.array([np.random.randint(2) for _ in range(4**N)], dtype=np.float64)"
   ]
  },
  {
   "cell_type": "code",
   "execution_count": null,
   "id": "706c4cc6-ecaf-4055-b8bd-8ba85f3b8c03",
   "metadata": {},
   "outputs": [],
   "source": []
  },
  {
   "cell_type": "code",
   "execution_count": null,
   "id": "8c98ce28-5d51-4ba0-9efe-7f68b68892b2",
   "metadata": {},
   "outputs": [],
   "source": [
    "%time sparse_matrix = H[basis].to_sparse_coo()\n",
    "%time matr = csr_matrix(sparse_matrix)"
   ]
  },
  {
   "cell_type": "code",
   "execution_count": null,
   "id": "a181e7a0-a377-445c-b8c2-232b1ce1a305",
   "metadata": {},
   "outputs": [],
   "source": [
    "# Compute memory usage\n",
    "memory_bytes = (\n",
    "    matr.data.nbytes +        # non-zero values\n",
    "    matr.indices.nbytes +     # row indices\n",
    "    matr.indptr.nbytes        # column pointers\n",
    ")\n",
    "\n",
    "\n",
    "print(f\"Memory footprint: {memory_bytes / 1024**2:.2f} MB\")\n"
   ]
  },
  {
   "cell_type": "code",
   "execution_count": null,
   "id": "6f03f528-2dc1-45f7-bf6c-f37e88699b8d",
   "metadata": {},
   "outputs": [],
   "source": []
  },
  {
   "cell_type": "code",
   "execution_count": null,
   "id": "1d91f5fb-3bd0-4bd2-ad15-330b0186080c",
   "metadata": {},
   "outputs": [],
   "source": [
    "%time matvec_fast(input_vector, test_data,test_val)\n",
    "%time H[basis] @ np.array(input_vector, dtype=complex)\n",
    "%time matr @ input_vector"
   ]
  },
  {
   "cell_type": "code",
   "execution_count": null,
   "id": "e6de8096-0339-4edd-b725-44e53545d803",
   "metadata": {},
   "outputs": [],
   "source": [
    "test = matvec_fast(input_vector, test_data,test_val)\n",
    "test2 = H[basis] @ np.array(input_vector, dtype=complex)\n",
    "np.all(test==test2)"
   ]
  },
  {
   "cell_type": "code",
   "execution_count": null,
   "id": "96940996-f85a-4bcf-958e-080f2bfa2116",
   "metadata": {},
   "outputs": [],
   "source": [
    "%load_ext cython"
   ]
  },
  {
   "cell_type": "code",
   "execution_count": null,
   "id": "aec16a84-15cd-49b0-80d4-ac011d573f3d",
   "metadata": {},
   "outputs": [],
   "source": [
    "%%cython --compile-args=-fopenmp --link-args=-fopenmp\n",
    "\n",
    "from cython.parallel import prange\n",
    "\n",
    "import numpy as np\n",
    "cimport numpy as cnp\n",
    "from cython cimport boundscheck, wraparound\n",
    "from libc.stdlib cimport malloc, free\n",
    "\n",
    "\n",
    "@boundscheck(False)\n",
    "@wraparound(False)\n",
    "cdef int fill_memory(double[:] input_vec, double[:] output_vec,\n",
    "                long start_i, long start_j, long small_rep, long big_rep, long big_rep_spacing, double val) nogil:\n",
    "    cdef int i, j\n",
    "    cdef long i_val, j_val\n",
    "    cdef double tmp\n",
    "   \n",
    "    for i in range(big_rep):\n",
    "        for j in range(small_rep):\n",
    "            i_val = start_i + i * big_rep_spacing + j\n",
    "            j_val = start_j + i * big_rep_spacing + j\n",
    "            output_vec[i_val] += input_vec[j_val] * val\n",
    "            output_vec[j_val] += input_vec[i_val] * val\n",
    "    return 0\n",
    "\n",
    "# Parallel loop function in Cython using prange (OpenMP)\n",
    "@boundscheck(False)\n",
    "@wraparound(False)\n",
    "cpdef matvec_fast(cnp.ndarray[double, ndim=1] input_vec, long long[:,:] H_base_data, cnp.ndarray[double, ndim=1] H_base_vals):\n",
    "    cdef int counter=0\n",
    "    cdef int n_tuples = H_base_data.shape[0]\n",
    "    cdef cnp.ndarray[double,ndim=1] output_vec = np.zeros_like(input_vec,order='C')\n",
    "    cdef long base_i, base_j, small_rep, big_rep, big_rep_spacing\n",
    "    cdef double base_value = 0\n",
    "    cdef int n_threads = 0\n",
    "\n",
    "    for counter in range(n_tuples):\n",
    "        base_i = H_base_data[counter][0]\n",
    "        base_j = H_base_data[counter][1]\n",
    "        small_rep = H_base_data[counter][2]\n",
    "        big_rep = H_base_data[counter][3]\n",
    "        big_rep_spacing = H_base_data[counter][4]\n",
    "        base_value = H_base_vals[counter]\n",
    "        if base_value != 0:\n",
    "            fill_memory(input_vec,output_vec, base_i,base_j, small_rep,big_rep, big_rep_spacing,base_value)\n",
    "\n",
    "    return output_vec\n"
   ]
  },
  {
   "cell_type": "code",
   "execution_count": null,
   "id": "7e2326d2-7b0e-42ec-97dd-3e1fb24dc6cd",
   "metadata": {},
   "outputs": [],
   "source": [
    "## Build the Hamiltonian\n",
    "MU_2,CAR_2,ECT_2 = kt.kitaev_chain(2)\n",
    "H_base = MU_2 + CAR_2 +ECT_2\n",
    "H_base[MU_2] = 0\n",
    "H_base[CAR_2] = 25\n",
    "H_base[ECT_2] = 13"
   ]
  },
  {
   "cell_type": "code",
   "execution_count": null,
   "id": "48c4b412-93f6-4ed5-a881-79d5be7567ad",
   "metadata": {},
   "outputs": [],
   "source": [
    "N = 7\n",
    "h_vals,h_data = generate_minimal_data_tupels(H_base,N)"
   ]
  },
  {
   "cell_type": "code",
   "execution_count": null,
   "id": "781ec085-312a-405b-9012-a2a50e8c88c9",
   "metadata": {},
   "outputs": [],
   "source": [
    "N = 7\n",
    "h_vals,h_data = generate_minimal_data_tupels(H_base,N)\n",
    "\n",
    "MU,CAR,ECT = kitaev_chain(N)\n",
    "H = MU + CAR + ECT\n",
    "H[MU] = 0\n",
    "H[CAR] = 25\n",
    "H[ECT] = 13\n",
    "basis=fst.FockStates(N)\n",
    "H[basis]"
   ]
  },
  {
   "cell_type": "code",
   "execution_count": null,
   "id": "257fe3ba-4343-417e-85b7-f6c15b96412e",
   "metadata": {},
   "outputs": [],
   "source": [
    "input_vector = np.array([np.random.randint(2) for _ in range(4**N)], dtype=np.float64)\n",
    "#compl_vector = np.array(input_vector, dtype=complex)"
   ]
  },
  {
   "cell_type": "code",
   "execution_count": null,
   "id": "0540eb5c-9cf8-4060-833b-78cb0cee79d2",
   "metadata": {},
   "outputs": [],
   "source": [
    "%time test = matvec_fast(input_vector, h_data,h_vals)\n"
   ]
  },
  {
   "cell_type": "code",
   "execution_count": null,
   "id": "ce06bce4-a35f-4ac1-afeb-db4ef1d4f44e",
   "metadata": {},
   "outputs": [],
   "source": [
    "test = matvec_fast(input_vector, h_data,h_vals)\n",
    "test2 = H[basis] @ np.array(input_vector, dtype=complex)\n",
    "np.all(test==test2)"
   ]
  },
  {
   "cell_type": "code",
   "execution_count": null,
   "id": "13996c27-2c82-4d5a-89c2-bc65d67d32c4",
   "metadata": {},
   "outputs": [],
   "source": [
    "from functools import partial\n",
    "from scipy.sparse.linalg import LinearOperator, eigsh\n",
    "from scipy.sparse import csc_matrix\n",
    "sparse_func = partial(matvec_fast, H_base_data = h_data, H_base_vals = h_vals)"
   ]
  },
  {
   "cell_type": "code",
   "execution_count": null,
   "id": "400c41e3-c2cc-4d25-be91-2ae14cefd404",
   "metadata": {},
   "outputs": [],
   "source": [
    "%time sparse_matrix = H[basis].to_sparse_coo()\n",
    "%time matr = csr_matrix(sparse_matrix)"
   ]
  },
  {
   "cell_type": "code",
   "execution_count": null,
   "id": "bde870d9-e745-4a3f-9915-d43ad257acd7",
   "metadata": {},
   "outputs": [],
   "source": [
    "## Standard numpy matrix vector product\n",
    "#print(\"Standard full matrix-vector product\")\n",
    "#%timeit H[basis].to_array() @ compl_vector\n",
    "\n",
    "## Sparse matrix-vector product\n",
    "print(\"Sparse matrix-vector product\")\n",
    "%time H[basis] @ compl_vector\n",
    "\n",
    "print(\"CSR_matrix\")\n",
    "%time matr @ compl_vector\n",
    "\n",
    "## Memory-less matrix-vector product\n",
    "print(\"Memory-less matrix-vector product\")\n",
    "%time matvec_fast(input_vector, h_data,h_vals)\n",
    "\n"
   ]
  },
  {
   "cell_type": "code",
   "execution_count": null,
   "id": "07ed5831-a7c2-49e4-8a44-c4c58874310f",
   "metadata": {},
   "outputs": [],
   "source": [
    "%timeit eigsh(matr, k=10, which='SA')"
   ]
  },
  {
   "cell_type": "code",
   "execution_count": null,
   "id": "f29c52fe-979f-46c8-9753-43dd7ed47bee",
   "metadata": {},
   "outputs": [],
   "source": [
    "### With Sparse Coo\n",
    "sparse_matrix = H[basis].to_sparse_coo()\n",
    "E_odd,phi_odd = eigsh(sparse_matrix,k=10,which='SA')\n",
    "print(E_odd)\n",
    "\n",
    "%timeit eigsh(sparse_matrix, k=5, which='SA')"
   ]
  },
  {
   "cell_type": "code",
   "execution_count": null,
   "id": "76bac6ec-902d-4ae8-8123-f7bd496bc733",
   "metadata": {},
   "outputs": [],
   "source": [
    "### With Sparse cython loop\n",
    "M_even = LinearOperator((len(input_vector), len(input_vector)), \n",
    "                               matvec= H[basis].get_sparse_func(), dtype=complex)\n",
    "\n",
    "E_odd, phi_odd = eigsh(M_even, k=5, which='SA')\n",
    "print(E_odd)\n",
    "%timeit eigsh(M_even, k=5, which='SA')\n"
   ]
  },
  {
   "cell_type": "code",
   "execution_count": null,
   "id": "03ce681a-f499-4331-b515-06a4bcdc18f5",
   "metadata": {},
   "outputs": [],
   "source": [
    "### With Matvec Fast\n",
    "M_even = LinearOperator((len(input_vector), len(input_vector)), matvec= sparse_func, dtype=np.float64)\n",
    "\n",
    "E_odd, phi_odd = eigsh(M_even, k=5, which='SA')\n",
    "print(E_odd)\n",
    "%timeit eigsh(M_even, k=5, which='SA')\n"
   ]
  },
  {
   "cell_type": "code",
   "execution_count": null,
   "id": "5d0999cd-42b1-4960-9821-ff5872b57a56",
   "metadata": {},
   "outputs": [],
   "source": [
    "from scipy.sparse import csr_matrix"
   ]
  },
  {
   "cell_type": "code",
   "execution_count": null,
   "id": "c4036710-45a7-4743-be5a-f7ca65a611e3",
   "metadata": {},
   "outputs": [],
   "source": [
    "row = np.array([0, 0, 1, 2, 2, 2])\n",
    "col = np.array([0, 2, 2, 0, 1, 2])\n",
    "data = np.array([1, 2, 3, 4, 5, 6])\n",
    "t = csr_matrix((data, (row, col)), shape=(3, 3)).toarray()"
   ]
  },
  {
   "cell_type": "code",
   "execution_count": null,
   "id": "9ea08374-dc4e-4d59-9e8b-863429abcb9c",
   "metadata": {},
   "outputs": [],
   "source": [
    "t"
   ]
  },
  {
   "cell_type": "markdown",
   "id": "77a225c3-75cb-4487-bb41-6234dacfc400",
   "metadata": {},
   "source": [
    "## Spin"
   ]
  },
  {
   "cell_type": "code",
   "execution_count": null,
   "id": "5f42c272-a38b-453e-8645-159850838b81",
   "metadata": {},
   "outputs": [],
   "source": [
    "## Build the Hamiltonian\n",
    "MU_2,U_2, CAR_2,ECT_2 = kt.kitaev_chain_spinful(2)\n",
    "H_base = MU_2 +U_2 +  CAR_2 +ECT_2\n",
    "H_base[MU_2] = 0\n",
    "H_base[U_2] = 0\n",
    "H_base[CAR_2] = 15\n",
    "H_base[ECT_2] = 20"
   ]
  },
  {
   "cell_type": "code",
   "execution_count": null,
   "id": "6cc92299-e64a-48ed-8596-26b7ca934591",
   "metadata": {},
   "outputs": [],
   "source": [
    "start = time()\n",
    "N = 10\n",
    "h_vals,h_data = generate_minimal_data_tupels(H_base,N)\n",
    "\n",
    "MU,U,CAR,ECT = kt.kitaev_chain_spinful(N)\n",
    "H = MU +U+ CAR + ECT\n",
    "H[MU] = 5\n",
    "H[U] = 5\n",
    "H[CAR] = 15\n",
    "H[ECT] = 20\n",
    "basis=fst.FockStates(N)\n",
    "H[basis]\n",
    "end = time()\n",
    "print(f'Generated system in {np.round(end-start)}s')"
   ]
  },
  {
   "cell_type": "code",
   "execution_count": null,
   "id": "948e55ac-d285-4ce7-b27a-2818d8a46f4d",
   "metadata": {},
   "outputs": [],
   "source": [
    "input_vector=  np.array([np.random.randint(2) for _ in range(4**N)], dtype=np.float64)\n",
    "compl_vector = np.array(input_vector, dtype=complex)"
   ]
  },
  {
   "cell_type": "code",
   "execution_count": null,
   "id": "c7f537c4-dfe7-4cd9-9eac-671801cba052",
   "metadata": {},
   "outputs": [],
   "source": [
    "test = matvec_fast(input_vector, h_data,h_vals)\n",
    "test2 = H[basis] @ np.array(input_vector, dtype=complex)\n",
    "np.all(test==test2)"
   ]
  },
  {
   "cell_type": "code",
   "execution_count": null,
   "id": "8d82ddea-ded8-40f5-bc4a-773cf75ac263",
   "metadata": {},
   "outputs": [],
   "source": [
    "sparse_matrix = H[basis].to_sparse_coo()\n",
    "matr = csc_matrix(sparse_matrix)"
   ]
  },
  {
   "cell_type": "code",
   "execution_count": null,
   "id": "713d8e65-f0b4-4e27-8973-323e031dd503",
   "metadata": {},
   "outputs": [],
   "source": [
    "# Compute memory usage\n",
    "memory_bytes = (\n",
    "    matr.data.nbytes +        # non-zero values\n",
    "    matr.indices.nbytes +     # row indices\n",
    "    matr.indptr.nbytes        # column pointers\n",
    ")\n",
    "\n",
    "print(f\"Memory footprint: {memory_bytes / 1024**2:.2f} MB\")\n"
   ]
  },
  {
   "cell_type": "code",
   "execution_count": null,
   "id": "e6696a8e-6952-4411-b06d-6c4f4b04544c",
   "metadata": {},
   "outputs": [],
   "source": [
    "# Sparse matrix-vector product\n",
    "print(\"Sparse matrix-vector product\")\n",
    "%time H[basis] @ compl_vector\n",
    "\n",
    "print(\"CSC_matrix\")\n",
    "%time matr @ compl_vector\n",
    "\n",
    "## Memory-less matrix-vector product\n",
    "print(\"Memory-less matrix-vector product\")\n",
    "%time matvec_fast(input_vector, h_data,h_vals)"
   ]
  },
  {
   "cell_type": "code",
   "execution_count": null,
   "id": "96598843-cb0a-465f-89fd-7d6215622cb2",
   "metadata": {},
   "outputs": [],
   "source": [
    "start = time()\n",
    "\n",
    "sparse_func = partial(matvec_fast, H_base_data = h_data, H_base_vals = h_vals)\n",
    "M_even = LinearOperator((len(input_vector), len(input_vector)), \n",
    "                               matvec= sparse_func, dtype=np.float64)\n",
    "\n",
    "#E_odd, phi_odd = eigsh(M_even, k=10, which='SA')\n",
    "E,phi= eigsh(M_even, k=5, which='SA')\n",
    "print(E)\n",
    "end = time()\n",
    "print(f'Solved in {np.round(end-start,2)} seconds')"
   ]
  },
  {
   "cell_type": "code",
   "execution_count": null,
   "id": "f05ce257-38f7-4729-b180-fe3c56b2426b",
   "metadata": {},
   "outputs": [],
   "source": [
    "del phi"
   ]
  },
  {
   "cell_type": "code",
   "execution_count": null,
   "id": "3e5ec76a-6d77-4d9d-a739-1d090a37b56d",
   "metadata": {},
   "outputs": [],
   "source": [
    "start = time()\n",
    "\n",
    "sparse_func = partial(matvec_fast, H_base_data = h_data, H_base_vals = h_vals)\n",
    "M_even = LinearOperator((len(input_vector), len(input_vector)), \n",
    "                               matvec= sparse_func, dtype=np.float64)\n",
    "\n",
    "#E_odd, phi_odd = eigsh(M_even, k=10, which='SA')\n",
    "E = eigsh(M_even, k=5, which='SA',return_eigenvectors=False)\n",
    "print(E)\n",
    "end = time()\n",
    "print(f'Solved in {np.round(end-start,2)} seconds')"
   ]
  },
  {
   "cell_type": "code",
   "execution_count": null,
   "id": "4d611a51-53ed-4147-befe-37b27d0a73df",
   "metadata": {},
   "outputs": [],
   "source": [
    "start = time()\n",
    "M_even = LinearOperator((len(input_vector), len(input_vector)), \n",
    "                               matvec= H[basis].get_sparse_func(), dtype=complex)\n",
    "\n",
    "#E_odd, phi_odd = eigsh(M_even, k=10, which='SA')\n",
    "E,phi = eigsh(M_even, k=5, which='SA')\n",
    "end = time()\n",
    "print(f'Solved in {np.round(end-start,2)} seconds')\n",
    "print(E)"
   ]
  },
  {
   "cell_type": "code",
   "execution_count": null,
   "id": "99dcb428-d70e-4181-ab2f-4c739ec2e4b3",
   "metadata": {},
   "outputs": [],
   "source": []
  },
  {
   "cell_type": "code",
   "execution_count": null,
   "id": "7f156123-d8e1-4bba-97c6-8756952b03f5",
   "metadata": {},
   "outputs": [],
   "source": []
  },
  {
   "cell_type": "code",
   "execution_count": null,
   "id": "c3f3fda7-5b46-4b2b-8626-bce39092613e",
   "metadata": {},
   "outputs": [],
   "source": []
  }
 ],
 "metadata": {
  "kernelspec": {
   "display_name": "Python 3 (ipykernel)",
   "language": "python",
   "name": "python3"
  },
  "language_info": {
   "codemirror_mode": {
    "name": "ipython",
    "version": 3
   },
   "file_extension": ".py",
   "mimetype": "text/x-python",
   "name": "python",
   "nbconvert_exporter": "python",
   "pygments_lexer": "ipython3",
   "version": "3.12.8"
  }
 },
 "nbformat": 4,
 "nbformat_minor": 5
}
