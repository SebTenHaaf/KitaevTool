{
 "cells": [
  {
   "cell_type": "code",
   "execution_count": 1,
   "id": "50d34c2a-869e-4090-805a-ae60acccbcaa",
   "metadata": {},
   "outputs": [],
   "source": [
    "import numpy as np\n",
    "import matplotlib.pyplot as plt"
   ]
  },
  {
   "cell_type": "code",
   "execution_count": 2,
   "id": "d293f779-c8ec-41be-b199-3512bb71048e",
   "metadata": {},
   "outputs": [],
   "source": [
    "## Custom functions\n",
    "import FockSystem.FockSystem as fst"
   ]
  },
  {
   "cell_type": "markdown",
   "id": "fcde43e3-4046-4d25-85a1-622c689c83db",
   "metadata": {},
   "source": [
    "# Constructing operator sequences"
   ]
  },
  {
   "cell_type": "markdown",
   "id": "b030cfcb-0eab-4596-b596-f475aceb9e62",
   "metadata": {},
   "source": [
    "## Defining sequences"
   ]
  },
  {
   "cell_type": "markdown",
   "id": "023495db-1703-438f-a105-6e6a30fa15bf",
   "metadata": {},
   "source": [
    "<span style=\"font-size:20px; font-weight:bold;\">From Ints and Lists</span>\n"
   ]
  },
  {
   "cell_type": "code",
   "execution_count": null,
   "id": "3663e3a6-c61d-420d-b78a-b568619f943b",
   "metadata": {
    "scrolled": true
   },
   "outputs": [],
   "source": [
    "fst.OperSequence(0)"
   ]
  },
  {
   "cell_type": "code",
   "execution_count": null,
   "id": "4da4be0e-57a5-45b7-a510-47e0b795bc78",
   "metadata": {},
   "outputs": [],
   "source": [
    "fst.OperSequence(1)"
   ]
  },
  {
   "cell_type": "code",
   "execution_count": null,
   "id": "1404b397-8c50-45b7-98ac-792c4259141b",
   "metadata": {},
   "outputs": [],
   "source": [
    "fst.OperSequence(1,2)"
   ]
  },
  {
   "cell_type": "code",
   "execution_count": null,
   "id": "62e81b88-e176-4c3f-b886-a0758de6c0e2",
   "metadata": {},
   "outputs": [],
   "source": [
    "fst.OperSequence([0,1],[1,2])"
   ]
  },
  {
   "cell_type": "markdown",
   "id": "7219d392-d794-4e29-9fde-18d53d4e7c8b",
   "metadata": {},
   "source": [
    "<span style=\"font-size:20px; font-weight:bold;\">From Tuples</span>\n"
   ]
  },
  {
   "cell_type": "code",
   "execution_count": null,
   "id": "758ee726-785a-4426-a95c-74a68c03f98a",
   "metadata": {},
   "outputs": [],
   "source": [
    "fst.OperSequence((('c',0,'up'),('c',1,'down')), ('c',0,'down'), ('a',2,'up'))"
   ]
  },
  {
   "cell_type": "markdown",
   "id": "f44695ed-8ee8-4021-9050-232c1adf7f72",
   "metadata": {},
   "source": [
    "<span style=\"font-size:20px; font-weight:bold;\">From Strings</span>\n"
   ]
  },
  {
   "cell_type": "code",
   "execution_count": null,
   "id": "79a16ddb-ec2c-4858-abca-46a04ed8aa59",
   "metadata": {},
   "outputs": [],
   "source": [
    "## Following OpenFermions convention, strings will be parsed in a (somewhat) similar manner\n",
    "## Mismatch for now is that 'site 1' is displayed automatically as site 0 spin-up, rather than freely allowing for interpretation of 'site 1'"
   ]
  },
  {
   "cell_type": "code",
   "execution_count": null,
   "id": "698649bf-21e8-49b3-84d5-5fd87b4f0491",
   "metadata": {},
   "outputs": [],
   "source": [
    "fst.OperSequence('0^,1', '1^,0,2^')"
   ]
  },
  {
   "cell_type": "markdown",
   "id": "47dd6894-1e3a-43f0-af5b-426a8f717409",
   "metadata": {},
   "source": [
    "## Assigning weights"
   ]
  },
  {
   "cell_type": "code",
   "execution_count": null,
   "id": "ab763671-fa8b-44a8-bffa-a72f85a0304e",
   "metadata": {},
   "outputs": [],
   "source": [
    "## The weights of operator sequences can be set in many ways"
   ]
  },
  {
   "cell_type": "code",
   "execution_count": null,
   "id": "067b42c5-acb6-47d5-94d5-8964359fed4b",
   "metadata": {},
   "outputs": [],
   "source": [
    "c_down = fst.OperSequence(0, weights = [1j])\n",
    "c_up = fst.OperSequence(2, weights = [5])\n",
    "op = c_down + c_up\n",
    "op"
   ]
  },
  {
   "cell_type": "code",
   "execution_count": null,
   "id": "ef022d08-5cb0-4c7d-b91e-bc0db5a255c7",
   "metadata": {},
   "outputs": [],
   "source": [
    "## A OperSequence instance can be used to set the weight of that subsequence in a longer sequence"
   ]
  },
  {
   "cell_type": "code",
   "execution_count": null,
   "id": "9527aef9-98ce-460b-afec-e0de61fe8607",
   "metadata": {},
   "outputs": [],
   "source": [
    "op = c_down + c_up\n",
    "op[c_up] = 10\n",
    "op[c_down] = 20\n",
    "op"
   ]
  },
  {
   "cell_type": "markdown",
   "id": "60afb3db-1e41-44b8-8c2c-d6f66e619b8b",
   "metadata": {},
   "source": [
    "<span style=\"font-size:20px; font-weight:bold;\">Shorthand codes</span>\n"
   ]
  },
  {
   "cell_type": "code",
   "execution_count": null,
   "id": "45b1d355-ff7e-4f02-8948-e936b107ac4f",
   "metadata": {},
   "outputs": [],
   "source": [
    "## The 'greater than' operator has additionally been reserved to quickly assign values"
   ]
  },
  {
   "cell_type": "code",
   "execution_count": null,
   "id": "a12004f2-dc28-4e90-9734-38e6fed23b45",
   "metadata": {},
   "outputs": [],
   "source": [
    "## Passing a single value assigns the same value to each subsequence\n",
    "op > 3\n",
    "op"
   ]
  },
  {
   "cell_type": "code",
   "execution_count": null,
   "id": "69d7aa6a-c8e1-4120-b6f2-16a2bd290901",
   "metadata": {},
   "outputs": [],
   "source": [
    "## Passing an array assigns the values in order\n",
    "op > [5,2]"
   ]
  },
  {
   "cell_type": "markdown",
   "id": "ecbb2b79-23d2-49a0-950d-02e9cf744f8e",
   "metadata": {},
   "source": [
    "# Supported Operator methods"
   ]
  },
  {
   "cell_type": "markdown",
   "id": "ac845f7e-812c-43a2-8791-f42e67bf1cb8",
   "metadata": {},
   "source": [
    "## Basic operations"
   ]
  },
  {
   "cell_type": "markdown",
   "id": "c93be175-7af9-47d0-bc9b-13d04ee0705d",
   "metadata": {},
   "source": [
    "<span style=\"font-size:20px; font-weight:bold;\">Addition and Subtraction</span>\n"
   ]
  },
  {
   "cell_type": "code",
   "execution_count": null,
   "id": "cb05d161-e922-40fc-aa6a-45e7ff85d763",
   "metadata": {},
   "outputs": [],
   "source": [
    "c_down = fst.OperSequence(0)\n",
    "c_up = fst.OperSequence(2)"
   ]
  },
  {
   "cell_type": "code",
   "execution_count": null,
   "id": "8c8b93b2-8c9f-4904-b8b8-79488907e278",
   "metadata": {},
   "outputs": [],
   "source": [
    "c_down*(c_down >>1)"
   ]
  },
  {
   "cell_type": "code",
   "execution_count": null,
   "id": "f943370a-c4ab-4526-a50f-ad583a9c8976",
   "metadata": {},
   "outputs": [],
   "source": [
    "c_up - c_down + (~c_up) + 10"
   ]
  },
  {
   "cell_type": "markdown",
   "id": "7d1c675d-da5e-4251-83ad-a92894d9cbda",
   "metadata": {},
   "source": [
    "<span style=\"font-size:20px; font-weight:bold;\">Multiplication and Division</span>\n"
   ]
  },
  {
   "cell_type": "code",
   "execution_count": null,
   "id": "8b034ce1-ee40-432d-909c-7ad1bec640ef",
   "metadata": {},
   "outputs": [],
   "source": [
    "4*c_down*c_up"
   ]
  },
  {
   "cell_type": "code",
   "execution_count": null,
   "id": "924d1897-2114-4868-b029-a71528c9ed0d",
   "metadata": {},
   "outputs": [],
   "source": [
    "## Normal ordering is automatically applied for multiplication\n",
    "4*c_up*c_down"
   ]
  },
  {
   "cell_type": "code",
   "execution_count": null,
   "id": "15cf73c1-7e8f-46fb-8168-b486ea309f73",
   "metadata": {},
   "outputs": [],
   "source": [
    "test = c_up*c_down\n",
    "test"
   ]
  },
  {
   "cell_type": "code",
   "execution_count": null,
   "id": "0f69bc5a-be74-4714-8b48-b790608043da",
   "metadata": {},
   "outputs": [],
   "source": [
    "test"
   ]
  },
  {
   "cell_type": "code",
   "execution_count": null,
   "id": "e9d0f83f-ea27-403a-9782-9fb453735236",
   "metadata": {},
   "outputs": [],
   "source": [
    "test"
   ]
  },
  {
   "cell_type": "code",
   "execution_count": null,
   "id": "2b250ef3-40ec-4d79-b101-97656f126586",
   "metadata": {},
   "outputs": [],
   "source": [
    "H = c_up*(~c_up) + c_up*(~c_up>>1)\n",
    "H"
   ]
  },
  {
   "cell_type": "code",
   "execution_count": null,
   "id": "5fe40eb2-c65b-4de7-ae1d-4f161edd1bbf",
   "metadata": {},
   "outputs": [],
   "source": [
    "N = 7\n",
    "H = H >> np.arange(1,N)\n",
    "H"
   ]
  },
  {
   "cell_type": "code",
   "execution_count": null,
   "id": "33758d9a-f03a-418e-bb0c-36f8c1c9ef43",
   "metadata": {},
   "outputs": [],
   "source": [
    "test >> np.array([1,2,5,6])"
   ]
  },
  {
   "cell_type": "markdown",
   "id": "355fc082-af3e-470f-8dc8-c19899f7209d",
   "metadata": {},
   "source": [
    "<span style=\"font-size:20px; font-weight:bold;\">Exponentation</span>\n"
   ]
  },
  {
   "cell_type": "code",
   "execution_count": null,
   "id": "b8bbc5b1-8f3f-450f-babc-5605fd6ee370",
   "metadata": {},
   "outputs": [],
   "source": [
    "## Creating an operator t from some paper that should give t**4 = -1\n",
    "an, cr, up, dwn = \"a\", \"c\", \"u\", \"d\"\n",
    "weights = [1j, -1, 1, -1, 1j, -1j]\n",
    "operators = [\n",
    "    ((an, 0, up),(cr, 0, up), (an, 0, dwn)),\n",
    "    ((an, 0, dwn), (cr, 0, dwn),(cr, 0, up)),\n",
    "    (an, 0, up),\n",
    "    ((an, 0, dwn),(cr, 0, dwn), (an, 0, up)),\n",
    "    (cr, 0, dwn),\n",
    "    ((an, 0, up),(cr, 0, up), (cr, 0, dwn)),\n",
    "]\n",
    "t = fst.OperSequence(*operators, weights=weights)"
   ]
  },
  {
   "cell_type": "code",
   "execution_count": null,
   "id": "f47a29f0-f35c-4628-8901-02f0cb509d34",
   "metadata": {},
   "outputs": [],
   "source": []
  },
  {
   "cell_type": "code",
   "execution_count": null,
   "id": "3e5371d1-d880-4a92-b7d6-5d3cc1a94276",
   "metadata": {
    "scrolled": true
   },
   "outputs": [],
   "source": [
    "t "
   ]
  },
  {
   "cell_type": "code",
   "execution_count": null,
   "id": "922c75d3-a408-4b69-a869-c7a3589611a5",
   "metadata": {},
   "outputs": [],
   "source": [
    "t**2"
   ]
  },
  {
   "cell_type": "code",
   "execution_count": null,
   "id": "c6847b0d-a6e3-4d1e-aced-c3461a555707",
   "metadata": {},
   "outputs": [],
   "source": [
    "t**3"
   ]
  },
  {
   "cell_type": "code",
   "execution_count": null,
   "id": "bb3e6b0d-c40c-492b-9622-84519981f9c0",
   "metadata": {},
   "outputs": [],
   "source": [
    "t**4"
   ]
  },
  {
   "cell_type": "markdown",
   "id": "6ed69e88-0d4a-43b5-9e1e-f64f4ff766ba",
   "metadata": {},
   "source": [
    "## Additional Operations"
   ]
  },
  {
   "cell_type": "markdown",
   "id": "7e0d19e5-c161-407f-ac52-8d782708f62e",
   "metadata": {
    "jp-MarkdownHeadingCollapsed": true
   },
   "source": [
    "<span style=\"font-size:20px; font-weight:bold;\">Site shifting</span>\n"
   ]
  },
  {
   "cell_type": "code",
   "execution_count": null,
   "id": "c6870f9b-d337-48e3-bd11-57461a623410",
   "metadata": {},
   "outputs": [],
   "source": [
    "## The lshift and rshift operators will shift the entire sequence by the specified numbers of site"
   ]
  },
  {
   "cell_type": "code",
   "execution_count": null,
   "id": "59188153-0f42-442b-b38b-585bf834cbc0",
   "metadata": {},
   "outputs": [],
   "source": [
    "c_down_0 = fst.OperSequence(0, 8)\n",
    "c_down_0 >> 6"
   ]
  },
  {
   "cell_type": "code",
   "execution_count": null,
   "id": "2f84fef2-009e-4e9f-a58e-55f1c9ccf3e7",
   "metadata": {},
   "outputs": [],
   "source": [
    "c_down_5 = fst.OperSequence(('c',5,'dwn'), ('c',9,'up'))\n",
    "c_down_5 << 4"
   ]
  },
  {
   "cell_type": "code",
   "execution_count": null,
   "id": "5ecbdee3-26fa-4995-b20d-88c4494000d6",
   "metadata": {},
   "outputs": [],
   "source": [
    "H_base = c_up*(~c_up) + c_up*(~c_up>>1)\n",
    "H_base"
   ]
  },
  {
   "cell_type": "code",
   "execution_count": null,
   "id": "e27deb66-7b9e-4c96-beb5-5adf6d0830f5",
   "metadata": {},
   "outputs": [],
   "source": [
    "## Shift over an array of numbers\n",
    "N = 3\n",
    "H = H_base >> np.arange(1,N)\n",
    "H"
   ]
  },
  {
   "cell_type": "markdown",
   "id": "458a1342-c8cb-420e-8d05-031f894b6ee0",
   "metadata": {},
   "source": [
    "<span style=\"font-size:20px; font-weight:bold;\">Conjugation</span>\n"
   ]
  },
  {
   "cell_type": "code",
   "execution_count": null,
   "id": "4fb03417-3365-43f5-a377-aa333147d0d8",
   "metadata": {},
   "outputs": [],
   "source": [
    "arbitrary_sequence = fst.OperSequence([0,1],[4,12],[3,11],[5,6,7])\n",
    "arbitrary_sequence"
   ]
  },
  {
   "cell_type": "code",
   "execution_count": null,
   "id": "79225777-035d-45ce-b6d5-e355dae2d64a",
   "metadata": {},
   "outputs": [],
   "source": [
    "## Arbitraty sequence conjugated:\n",
    "~arbitrary_sequence"
   ]
  },
  {
   "cell_type": "markdown",
   "id": "786814d7-21dd-4e59-a1c4-6f250fbabf2f",
   "metadata": {},
   "source": [
    "<span style=\"font-size:20px; font-weight:bold;\">Normal Ordering</span>\n"
   ]
  },
  {
   "cell_type": "code",
   "execution_count": null,
   "id": "731b15a5-c0b2-4ac9-ac07-6f546a94148b",
   "metadata": {},
   "outputs": [],
   "source": [
    "## Create example\n",
    "example_seq = fst.OperSequence([1,0],[5,6,7])\n",
    "example_seq"
   ]
  },
  {
   "cell_type": "code",
   "execution_count": null,
   "id": "57692e99-3a69-4f36-be40-cf185cdeddaa",
   "metadata": {},
   "outputs": [],
   "source": [
    "## Normal order the example\n",
    "example_seq.normal_order()\n",
    "example_seq"
   ]
  },
  {
   "cell_type": "markdown",
   "id": "ab17d577-82c5-4513-80c2-a1f999440b72",
   "metadata": {},
   "source": [
    "# Connecting to Fock states"
   ]
  },
  {
   "cell_type": "code",
   "execution_count": null,
   "id": "8e45b023-ed49-4a2e-b61f-7a60d07c7fbd",
   "metadata": {},
   "outputs": [],
   "source": [
    "## The Fock State Class is interpreted by the OperSequence class to generate the data that represents a Hamiltonian"
   ]
  },
  {
   "cell_type": "code",
   "execution_count": null,
   "id": "a26ebd37-5ebe-4f31-be1c-62045083fae8",
   "metadata": {},
   "outputs": [],
   "source": [
    "## Create by passing number of Fermionic sites\n",
    "basis = fst.FockStates(3)\n",
    "basis"
   ]
  },
  {
   "cell_type": "code",
   "execution_count": null,
   "id": "256c3c57-74c0-47b9-bfb6-07a7cd04d4dd",
   "metadata": {},
   "outputs": [],
   "source": [
    "## Create by passing array of ints that represent specific states\n",
    "basis = fst.FockStates([0,1,2,5,8])\n",
    "basis"
   ]
  },
  {
   "cell_type": "markdown",
   "id": "788b4e80-81cf-407c-9728-442d2cf47fc0",
   "metadata": {},
   "source": [
    "<span style=\"font-size:20px; font-weight:bold;\">Restricting the Fock Space</span>\n"
   ]
  },
  {
   "cell_type": "code",
   "execution_count": null,
   "id": "79463d0f-2d7c-4164-b8c7-af206951d81f",
   "metadata": {},
   "outputs": [],
   "source": [
    "basis = fst.FockStates(3)\n",
    "even_states = basis.restrict(parity='even')\n",
    "even_states"
   ]
  },
  {
   "cell_type": "code",
   "execution_count": null,
   "id": "ce9e6c7f-be9e-4377-839d-f967b07c4341",
   "metadata": {},
   "outputs": [],
   "source": [
    "basis = fst.FockStates(3)\n",
    "only_spin_down = basis.restrict(Ez_inf=True,U_inf=True)\n",
    "only_spin_down"
   ]
  },
  {
   "cell_type": "markdown",
   "id": "3c4c4f31-7343-4b8e-b76d-cb13e6033f35",
   "metadata": {},
   "source": [
    "<span style=\"font-size:20px; font-weight:bold;\">Calculating Hamiltonian action on a basis</span>\n"
   ]
  },
  {
   "cell_type": "code",
   "execution_count": null,
   "id": "ed6bbf36-8332-4c4e-a51c-01e3714c038c",
   "metadata": {},
   "outputs": [],
   "source": [
    "## Define basic elements for convenience\n",
    "c_down = fst.OperSequence(0)\n",
    "c_up = fst.OperSequence(2)\n",
    "a_up = ~c_up\n",
    "a_down = ~c_down\n",
    "\n",
    "## Construct basic Hamiltonian\n",
    "H = c_down*a_down + 20*c_down*(c_down >>1) + 20*c_down*(a_down>>1)\n",
    "H"
   ]
  },
  {
   "cell_type": "code",
   "execution_count": null,
   "id": "f564cfb4-2721-4cd7-aacf-6f9e19c71474",
   "metadata": {},
   "outputs": [],
   "source": [
    "## Define basis\n",
    "basis = fst.FockStates(3)\n",
    "only_spin_down_basis = basis.restrict(Ez_inf=True,U_inf=True)\n",
    "only_spin_down_basis"
   ]
  },
  {
   "cell_type": "code",
   "execution_count": null,
   "id": "d2a5eeaa-e883-4852-907f-d5a4c0607048",
   "metadata": {},
   "outputs": [],
   "source": [
    "H_data = H[only_spin_down_basis]\n",
    "H_as_array = H_data.to_array()\n",
    "H_sparse = H_data.to_sparse_coo()\n",
    "H_as_array"
   ]
  },
  {
   "cell_type": "markdown",
   "id": "b2e4e5b3-f5b6-4677-81b8-4ca69702ad96",
   "metadata": {},
   "source": [
    "<span style=\"font-size:20px; font-weight:bold;\">Block diagonalization</span>\n"
   ]
  },
  {
   "cell_type": "code",
   "execution_count": null,
   "id": "f4ebe3b3-c45f-4ba7-a447-7c0c517edf18",
   "metadata": {},
   "outputs": [],
   "source": [
    "## The function .to_block_diagonal_basis() is provided to return a new FockStates instance that has been ordered to be block diagonal in the coupled OperSequence"
   ]
  },
  {
   "cell_type": "code",
   "execution_count": null,
   "id": "867ad86c-6c67-44a0-9194-c2a0562b775d",
   "metadata": {},
   "outputs": [],
   "source": [
    "bd_basis = H[only_spin_down_basis].to_block_diagonal_basis()\n",
    "fig,axs = plt.subplots(ncols = 2)\n",
    "axs[0].set_title(\"Original basis\")\n",
    "axs[0].matshow(np.real(H[only_spin_down].to_array()))\n",
    "axs[1].set_title(\"Block diagonal ordered basis\")\n",
    "axs[1].matshow(np.real(H[bd_basis].to_array()))"
   ]
  },
  {
   "cell_type": "markdown",
   "id": "0562734b-4a74-4030-9e3c-ad0d3883c298",
   "metadata": {},
   "source": [
    "<span style=\"font-size:20px; font-weight:bold;\">Matrix-Vector Multiplication</span>\n"
   ]
  },
  {
   "cell_type": "code",
   "execution_count": null,
   "id": "f16075d7-04f1-4975-bfc6-f80cdb2609e0",
   "metadata": {},
   "outputs": [],
   "source": [
    "random_vector = np.array([np.random.randint(10) for _ in  range(len(only_spin_down_basis.states))], dtype=complex)\n",
    "\n",
    "## The @ symbol implements matrix-vecotr multipliction of OperSequence in a selected basis\n",
    "print(\"Direct matrix-vector product\")\n",
    "result = H[only_spin_down] @ random_vector\n",
    "print(np.array(result))\n",
    "\n",
    "## This is identical to converting first to an array and handling the matrix-vector product there\n",
    "## The direct method becomes faster and less memory-intensive for larger systems (N > 5)\n",
    "array = H[only_spin_down_basis].to_array()\n",
    "print(\"Normal matrix-vector product\")\n",
    "result = array @ random_vector\n",
    "print(result)"
   ]
  },
  {
   "cell_type": "markdown",
   "id": "c1315c5a-0c85-477f-abda-74f568f9433a",
   "metadata": {},
   "source": [
    "# Minimal Example - The effective kitaev chain"
   ]
  },
  {
   "cell_type": "markdown",
   "id": "a359ec96-a4f3-43c3-8709-88c02ca670db",
   "metadata": {},
   "source": [
    "\n",
    "<span style=\"font-size:20px; font-weight:bold;\">Constructing the Hamiltonian from scratch</span>\n"
   ]
  },
  {
   "cell_type": "code",
   "execution_count": null,
   "id": "c3065bbc-03b0-4dbe-a7eb-afc54dfe1f3d",
   "metadata": {},
   "outputs": [],
   "source": [
    "## Define basic elements for convenience\n",
    "c_down = fst.OperSequence(0)\n",
    "c_up = fst.OperSequence(2)\n",
    "a_up = ~c_up\n",
    "a_down = ~c_down"
   ]
  },
  {
   "cell_type": "code",
   "execution_count": null,
   "id": "8efef03d-15c2-4700-b081-c6b143ec420e",
   "metadata": {},
   "outputs": [],
   "source": [
    "## Build the Hamiltonian\n",
    "## By building from subsequences, the value of individual terms can be easily accessed later\n",
    "N = 2\n",
    "\n",
    "ECT = c_down*(~c_down>>1)\n",
    "ECT = ECT >> np.arange(1,N-1)\n",
    "    \n",
    "CAR = c_down*(c_down>>1)\n",
    "CAR = CAR >> np.arange(1,N-1)\n",
    "\n",
    "MU = c_down*(~c_down)\n",
    "MU = MU >> np.arange(1,N)\n",
    "\n",
    "H = MU + CAR +ECT\n",
    "H"
   ]
  },
  {
   "cell_type": "code",
   "execution_count": null,
   "id": "f9835c06-aa50-4754-bcfa-8eea6220b715",
   "metadata": {},
   "outputs": [],
   "source": [
    "## Define a basis\n",
    "basis = fst.FockStates(N)\n",
    "basis = basis.restrict(Ez_inf=True,U_inf=True)"
   ]
  },
  {
   "cell_type": "code",
   "execution_count": null,
   "id": "1869757a-45f7-49a9-9541-6d0ee6f0a206",
   "metadata": {},
   "outputs": [],
   "source": [
    "ECT"
   ]
  },
  {
   "cell_type": "code",
   "execution_count": null,
   "id": "95896bee-de85-46e6-8382-cafc161db04c",
   "metadata": {},
   "outputs": [],
   "source": [
    "H[ECT] = 5"
   ]
  },
  {
   "cell_type": "code",
   "execution_count": null,
   "id": "e7203bd9-aa52-483a-a160-de044d615099",
   "metadata": {},
   "outputs": [],
   "source": [
    "H"
   ]
  },
  {
   "cell_type": "code",
   "execution_count": null,
   "id": "41be518d-e0a9-46cd-83d5-f77799d1fa3d",
   "metadata": {},
   "outputs": [],
   "source": [
    "H[ECT] = 5\n",
    "H[CAR] = 10\n",
    "H[MU[0]] = 6\n",
    "H[MU[1]] = 7"
   ]
  },
  {
   "cell_type": "code",
   "execution_count": null,
   "id": "39af0482-a8bc-4039-99cd-a5bb1cba933d",
   "metadata": {},
   "outputs": [],
   "source": [
    "H[ECT] = 12"
   ]
  },
  {
   "cell_type": "code",
   "execution_count": null,
   "id": "4169b36c-95bb-47b3-a348-45286f840efc",
   "metadata": {},
   "outputs": [],
   "source": [
    "H[basis]"
   ]
  },
  {
   "cell_type": "code",
   "execution_count": null,
   "id": "aa74633b-835a-4a13-9275-3b911ef233d2",
   "metadata": {},
   "outputs": [],
   "source": [
    "H[basis].to_array()"
   ]
  },
  {
   "cell_type": "code",
   "execution_count": null,
   "id": "e707fd9e-8501-421d-b2b1-429385d3fe50",
   "metadata": {},
   "outputs": [],
   "source": [
    "H[basis].to_sparse_coo()"
   ]
  },
  {
   "cell_type": "code",
   "execution_count": null,
   "id": "ec4c7bb3-0a4f-4da9-afae-19d6a7b23f70",
   "metadata": {},
   "outputs": [],
   "source": [
    "## Optional: Split basis into odd and even and restrict to inf U and inf Ez (i.e., exclude double occupation and spin-up occupation states)\n",
    "even_basis = basis.restrict('even',Ez_inf=True,U_inf=True)\n",
    "even_array = H[even_basis].to_array()\n",
    "odd_basis = basis.restrict('odd',Ez_inf=True,U_inf=True)\n",
    "odd_array = H[odd_basis].to_array()"
   ]
  },
  {
   "cell_type": "code",
   "execution_count": null,
   "id": "3dc852e8-33d4-4585-a54c-24be65022dde",
   "metadata": {},
   "outputs": [],
   "source": []
  },
  {
   "cell_type": "markdown",
   "id": "b6596bae-0e40-47db-b366-d28af9e55047",
   "metadata": {},
   "source": [
    "<span style=\"font-size:20px; font-weight:bold;\">Phase diagrams</span>\n"
   ]
  },
  {
   "cell_type": "markdown",
   "id": "3142286c-161f-4f00-be79-ed4716c964fd",
   "metadata": {},
   "source": [
    "<span style=\"font-size:20px; font-weight:bold;\">Pre-defined functions</span>\n"
   ]
  },
  {
   "cell_type": "code",
   "execution_count": null,
   "id": "aa09fbfa-72e8-403b-8ac6-02bd141407ce",
   "metadata": {},
   "outputs": [],
   "source": [
    "import Analysis.transport_tools as tu\n",
    "from Analysis.systems import kitaev_chain, kramers_chain"
   ]
  },
  {
   "cell_type": "code",
   "execution_count": null,
   "id": "c2ea0b3d-c9b3-42a6-9bd9-ae8d0317f7a3",
   "metadata": {},
   "outputs": [],
   "source": [
    "N=3\n",
    "MU,CAR,ECT = kitaev_chain(N)\n",
    "H = MU + CAR +ECT\n",
    "basis = fst.FockStates(N)\n",
    "even_basis = basis.restrict('even',Ez_inf=True,U_inf=True)\n",
    "odd_basis = basis.restrict('odd',Ez_inf=True,U_inf=True)\n",
    "\n",
    "H[CAR] = 50\n",
    "H[ECT] = 50"
   ]
  },
  {
   "cell_type": "code",
   "execution_count": null,
   "id": "dacbad3d-2421-4d44-ab94-b6f8751f1840",
   "metadata": {},
   "outputs": [],
   "source": [
    "H[basis]"
   ]
  },
  {
   "cell_type": "code",
   "execution_count": null,
   "id": "967158de-f01c-4165-9b70-54dd21e6fe57",
   "metadata": {},
   "outputs": [],
   "source": [
    "mu_range = np.linspace(-100,100,100)\n",
    "t_range = np.linspace(0,80,100)\n",
    "\n",
    "## Loop over range and get array, pass to linalg for eigenvalues\n",
    "result = tu.phase_diagram(H,odd_basis,even_basis, ECT, t_range, MU, mu_range)\n",
    "\n",
    "fig,ax = plt.subplots(ncols=1, figsize = (3,3))\n",
    "result['E'].plot()"
   ]
  },
  {
   "cell_type": "markdown",
   "id": "cb0ec551-3891-41c2-830d-7154f021b70c",
   "metadata": {},
   "source": [
    "<span style=\"font-size:20px; font-weight:bold;\">Lead Transitions</span>\n"
   ]
  },
  {
   "cell_type": "code",
   "execution_count": null,
   "id": "1822c492-9a77-4fcf-bbb7-aad0e1910849",
   "metadata": {},
   "outputs": [],
   "source": [
    "N=3\n",
    "MU,CAR,ECT = kitaev_chain(N)\n",
    "H = MU + CAR +ECT"
   ]
  },
  {
   "cell_type": "code",
   "execution_count": null,
   "id": "7619f455-eefb-4ff8-9545-c85b4373614b",
   "metadata": {},
   "outputs": [],
   "source": [
    "H[CAR] = 20\n",
    "H[CAR[1]]=-20\n",
    "H[ECT] = 20"
   ]
  },
  {
   "cell_type": "code",
   "execution_count": null,
   "id": "eaf8796a-91db-481f-8e98-4b31684e665f",
   "metadata": {},
   "outputs": [],
   "source": [
    "basis = fst.FockStates(N)\n",
    "inf_Ez_basis = basis.restrict(Ez_inf=True,U_inf=True)\n",
    "array = H[inf_Ez_basis].to_array()"
   ]
  },
  {
   "cell_type": "code",
   "execution_count": null,
   "id": "cadeddb9-0a8f-49fa-b7ed-9aa42af86e55",
   "metadata": {},
   "outputs": [],
   "source": [
    "fig, axs = plt.subplots(ncols = N, figsize = (3*N,3))\n",
    "for ax in axs:\n",
    "    ax.set_ylim([-100,100])\n",
    "    \n",
    "tu.energy_spectrum(H, inf_Ez_basis, MU[1], np.linspace(-100,100,100), np.arange(N), fig,axs)\n",
    "\n",
    "plt.tight_layout()"
   ]
  },
  {
   "cell_type": "markdown",
   "id": "658537aa-994d-4a85-a6cf-9939325d5bf3",
   "metadata": {},
   "source": [
    "<span style=\"font-size:20px; font-weight:bold;\">Conductance</span>\n"
   ]
  },
  {
   "cell_type": "code",
   "execution_count": null,
   "id": "7b50dfcc-f914-4f4c-b123-122f345d21a1",
   "metadata": {},
   "outputs": [],
   "source": [
    "N = 3\n",
    "MU,CAR,ECT = kitaev_chain(N)\n",
    "H = MU + CAR + ECT\n",
    "\n",
    "H[MU] = 0"
   ]
  },
  {
   "cell_type": "code",
   "execution_count": null,
   "id": "d2d17940-c881-479d-b459-a33325ec6c97",
   "metadata": {},
   "outputs": [],
   "source": [
    "basis = fst.FockStates(N)\n",
    "inf_Ez_basis = basis.restrict(Ez_inf=True,U_inf=True)\n",
    "array = H[inf_Ez_basis].to_array()"
   ]
  },
  {
   "cell_type": "code",
   "execution_count": null,
   "id": "40fe2b41-4e3c-45cc-813b-438dd9b04264",
   "metadata": {},
   "outputs": [],
   "source": [
    "H[CAR] = 20e-3\n",
    "H[ECT] = 20e-3"
   ]
  },
  {
   "cell_type": "code",
   "execution_count": null,
   "id": "ed69fbb9-2d9c-4239-9547-11cfcd455263",
   "metadata": {},
   "outputs": [],
   "source": [
    "lead_params = {\"gammas\": [0.001]*5, \"kBT\": 0.002, \"dV\": 0.001}\n",
    "bias_range = np.linspace(-70e-3,70e-3, 100)\n",
    "mu_range = np.linspace(-50e-3,50e-3,100)"
   ]
  },
  {
   "cell_type": "code",
   "execution_count": null,
   "id": "a723837f-691b-4fd6-8587-239665f3728f",
   "metadata": {},
   "outputs": [],
   "source": [
    "Gs = tu.conductance_spectrum(H,inf_Ez_basis,MU[0], mu_range, bias_range,sites = np.arange(N), lead_params = lead_params)\n",
    "\n",
    "fig, axs = plt.subplots(ncols = N,figsize = (N*3.5,2.5))\n",
    "for i in range(len(axs)):\n",
    "    Gs[f'G_{i}{i}'].plot(ax =axs[i], cmap='magma')\n",
    "plt.tight_layout()"
   ]
  }
 ],
 "metadata": {
  "kernelspec": {
   "display_name": "Python 3 (ipykernel)",
   "language": "python",
   "name": "python3"
  },
  "language_info": {
   "codemirror_mode": {
    "name": "ipython",
    "version": 3
   },
   "file_extension": ".py",
   "mimetype": "text/x-python",
   "name": "python",
   "nbconvert_exporter": "python",
   "pygments_lexer": "ipython3",
   "version": "3.12.8"
  }
 },
 "nbformat": 4,
 "nbformat_minor": 5
}
