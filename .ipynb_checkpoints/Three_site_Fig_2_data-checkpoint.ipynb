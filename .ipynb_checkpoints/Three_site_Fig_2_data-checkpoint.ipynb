{
 "cells": [
  {
   "cell_type": "code",
   "execution_count": 1,
   "id": "d417fe7e-3820-468c-b1ee-f244d09dcf46",
   "metadata": {},
   "outputs": [],
   "source": [
    "%matplotlib inline\n",
    "import matplotlib.pyplot as plt"
   ]
  },
  {
   "cell_type": "code",
   "execution_count": 2,
   "id": "0e60d75e-b328-4bf2-90d0-ae06452806d2",
   "metadata": {},
   "outputs": [],
   "source": [
    "import sys\n",
    "sys.path.append(\"../../0_general_functions/\")"
   ]
  },
  {
   "cell_type": "code",
   "execution_count": 3,
   "id": "127da11c-a1ae-4eec-b35f-b3d68e06fdd9",
   "metadata": {},
   "outputs": [],
   "source": [
    "import numpy as np\n",
    "import numpy.linalg as LA\n",
    "import itertools\n",
    "import time\n",
    "import pmm_module_v2 as pmm\n",
    "from itertools import product"
   ]
  },
  {
   "cell_type": "code",
   "execution_count": 4,
   "id": "3fc70947-c9c1-41fc-b261-0e642422dd5e",
   "metadata": {},
   "outputs": [],
   "source": [
    "import scipy.sparse.linalg as sla\n",
    "from scipy.sparse import csr_matrix, csc_matrix"
   ]
  },
  {
   "cell_type": "code",
   "execution_count": null,
   "id": "abd519ac-dffb-442e-8b35-00eb4b816cda",
   "metadata": {},
   "outputs": [],
   "source": []
  },
  {
   "cell_type": "code",
   "execution_count": 5,
   "id": "d0d26f9f-8b49-42ba-9249-9081ab1e0aa0",
   "metadata": {},
   "outputs": [],
   "source": [
    "# Bases are: 1up, 1down, 2up, 2down, 3up, 3down, 4up, 4down, 5up, 5down\n",
    "N_labels = 10\n",
    "dim_fock_space = 2**N_labels\n",
    "unsorted_bases = list(itertools.product([0, 1], repeat=N_labels))\n",
    "even_bases = []\n",
    "odd_bases = []\n",
    "\n",
    "for vec in unsorted_bases:\n",
    "    if np.sum(vec) % 2 == 0:\n",
    "        even_bases.append(vec)\n",
    "    else:\n",
    "        odd_bases.append(vec)\n",
    "\n",
    "bases = even_bases + odd_bases\n",
    "index_from_basis = {}\n",
    "for n in range(dim_fock_space):\n",
    "    index_from_basis[bases[n]] = n"
   ]
  },
  {
   "cell_type": "code",
   "execution_count": 6,
   "id": "15396ce5-b8c8-4cf0-88d5-daa44594db90",
   "metadata": {},
   "outputs": [],
   "source": [
    "H_1_up = pmm.get_h_2([0, 0], [1, -1], 1, bases, index_from_basis)\n",
    "H_1_down = pmm.get_h_2([1, 1], [1, -1], 1, bases, index_from_basis)\n",
    "H_1_U = pmm.get_h_coulomb([0, 1], 1, bases, index_from_basis)\n",
    "\n",
    "H_2_up = pmm.get_h_2([2, 2], [1, -1], 1, bases, index_from_basis)\n",
    "H_2_down = pmm.get_h_2([3, 3], [1, -1], 1, bases, index_from_basis)\n",
    "H_2_Delta = pmm.get_h_2([2, 3], [1, 1], 1, bases, index_from_basis)\n",
    "\n",
    "H_3_up = pmm.get_h_2([4, 4], [1, -1], 1, bases, index_from_basis)\n",
    "H_3_down = pmm.get_h_2([5, 5], [1, -1], 1, bases, index_from_basis)\n",
    "H_3_U = pmm.get_h_coulomb([4, 5], 1, bases, index_from_basis)\n",
    "\n",
    "H_4_up = pmm.get_h_2([6, 6], [1, -1], 1, bases, index_from_basis)\n",
    "H_4_down = pmm.get_h_2([7, 7], [1, -1], 1, bases, index_from_basis)\n",
    "H_4_Delta_real = pmm.get_h_2([6, 7], [1, 1], 1, bases, index_from_basis)\n",
    "H_4_Delta_imag = pmm.get_h_2([6, 7], [1, 1], 1j, bases, index_from_basis)\n",
    "\n",
    "H_5_up = pmm.get_h_2([8, 8], [1, -1], 1, bases, index_from_basis)\n",
    "H_5_down = pmm.get_h_2([9, 9], [1, -1], 1, bases, index_from_basis)\n",
    "H_5_U = pmm.get_h_coulomb([8, 9], 1, bases, index_from_basis)\n",
    "\n",
    "H_2up_1up = pmm.get_h_2([2, 0], [1, -1], 1, bases, index_from_basis)\n",
    "H_2down_1up = pmm.get_h_2([3, 0], [1, -1], 1, bases, index_from_basis)\n",
    "H_2up_1down = pmm.get_h_2([2, 1], [1, -1], 1, bases, index_from_basis)\n",
    "H_2down_1down = pmm.get_h_2([3, 1], [1, -1], 1, bases, index_from_basis)\n",
    "\n",
    "H_3up_2up = pmm.get_h_2([4, 2], [1, -1], 1, bases, index_from_basis)\n",
    "H_3down_2up = pmm.get_h_2([5, 2], [1, -1], 1, bases, index_from_basis)\n",
    "H_3up_2down = pmm.get_h_2([4, 3], [1, -1], 1, bases, index_from_basis)\n",
    "H_3down_2down = pmm.get_h_2([5, 3], [1, -1], 1, bases, index_from_basis)\n",
    "\n",
    "H_4up_3up = pmm.get_h_2([6, 4], [1, -1], 1, bases, index_from_basis)\n",
    "H_4down_3up = pmm.get_h_2([7, 4], [1, -1], 1, bases, index_from_basis)\n",
    "H_4up_3down = pmm.get_h_2([6, 5], [1, -1], 1, bases, index_from_basis)\n",
    "H_4down_3down = pmm.get_h_2([7, 5], [1, -1], 1, bases, index_from_basis)\n",
    "\n",
    "H_5up_4up = pmm.get_h_2([8, 6], [1, -1], 1, bases, index_from_basis)\n",
    "H_5down_4up = pmm.get_h_2([9, 6], [1, -1], 1, bases, index_from_basis)\n",
    "H_5up_4down = pmm.get_h_2([8, 7], [1, -1], 1, bases, index_from_basis)\n",
    "H_5down_4down = pmm.get_h_2([9, 7], [1, -1], 1, bases, index_from_basis)"
   ]
  },
  {
   "cell_type": "code",
   "execution_count": 7,
   "id": "18d21653-202d-4de4-b93a-a6cf54100244",
   "metadata": {},
   "outputs": [],
   "source": [
    "def get_H_mb(\n",
    "    mu1, Ez1, U1,\n",
    "    mu2, Ez2, Delta2,\n",
    "    mu3, Ez3, U3,\n",
    "    mu4, Ez4, Delta4, phi,\n",
    "    mu5, Ez5, U5,\n",
    "    t1, t2, t3, t4,\n",
    "    t1so, t2so, t3so, t4so):\n",
    "    \n",
    "    H = (mu1 + Ez1) * H_1_up + (mu1 - Ez1) * H_1_down + U1 * H_1_U \\\n",
    "        + (mu2 + Ez2) * H_2_up + (mu2 - Ez2) * H_2_down + Delta2 * H_2_Delta \\\n",
    "        + (mu3 + Ez3) * H_3_up + (mu3 - Ez3) * H_3_down + U3 * H_3_U \\\n",
    "        + (mu4 + Ez4) * H_4_up + (mu4 - Ez4) * H_4_down \\\n",
    "        + Delta4 * np.cos(phi) * H_4_Delta_real + Delta4 * np.sin(phi) * H_4_Delta_imag \\\n",
    "        + (mu5 + Ez5) * H_5_up + (mu5 - Ez5) * H_5_down + U5 * H_5_U \\\n",
    "        + t1 * (H_2up_1up + H_2down_1down) + t1so * (H_2down_1up - H_2up_1down) \\\n",
    "        + t2 * (H_3up_2up + H_3down_2down) + t2so * (H_3down_2up - H_3up_2down) \\\n",
    "        + t3 * (H_4up_3up + H_4down_3down) + t3so * (H_4down_3up - H_4up_3down) \\\n",
    "        + t4 * (H_5up_4up + H_5down_4down) + t4so * (H_5down_4up - H_5up_4down) \n",
    "        \n",
    "    return H"
   ]
  },
  {
   "cell_type": "code",
   "execution_count": null,
   "id": "4797b6f9-840e-4862-a587-a58cc908c5fa",
   "metadata": {},
   "outputs": [],
   "source": []
  },
  {
   "cell_type": "code",
   "execution_count": null,
   "id": "3b674666-cc2c-45ce-8a15-98b0d1558504",
   "metadata": {},
   "outputs": [],
   "source": []
  },
  {
   "cell_type": "code",
   "execution_count": null,
   "id": "c32be8c8-0a70-44d1-9614-6ae0614b5858",
   "metadata": {},
   "outputs": [],
   "source": []
  },
  {
   "cell_type": "markdown",
   "id": "8b87ca87-b566-48c2-b58b-8db303259345",
   "metadata": {},
   "source": [
    "# Global parameters"
   ]
  },
  {
   "cell_type": "code",
   "execution_count": 8,
   "id": "b88e3ac1-edfa-47c5-8767-0cb70cf1e08f",
   "metadata": {},
   "outputs": [],
   "source": [
    "t = 0.3\n",
    "tso = 0.1\n",
    "Ez = 2\n",
    "U = 5\n",
    "\n",
    "### sweet spots of Kitaev-3\n",
    "mu1_list = [-7.046, -0.804, -7.091, -0.804, -7.046]  ### uuu, neg-neg\n",
    "mu2_list = [-7.046, -0.804, -6.990, 0.704, -6.945]  ### uuu, neg-pos\n",
    "#mu3_list = [-7.046, -0.796, -7.092, -1.356, 1.945]  ### uud, neg-neg\n",
    "mu4_list = [-7.046, -0.796, -6.99, 1.300, 2.048]  ### uud, neg-pos\n",
    "muss_list = [mu1_list, mu2_list, mu4_list]"
   ]
  },
  {
   "cell_type": "code",
   "execution_count": 9,
   "id": "4c443441-5000-428e-a6a3-ba17a2a2ecd4",
   "metadata": {},
   "outputs": [],
   "source": [
    "lead_params = dict(\n",
    "    num_of_leads=1,\n",
    "    gammas=[0.005],\n",
    "    orbitals=[[8, 9]],\n",
    "    kBT=0.005,\n",
    "    dV=0.001\n",
    ")"
   ]
  },
  {
   "cell_type": "code",
   "execution_count": 10,
   "id": "b53c82d6-7837-4868-8931-dc3f3f336f96",
   "metadata": {},
   "outputs": [],
   "source": [
    "d_dg_list = pmm.get_d_dg(\n",
    "    orbitals=lead_params['orbitals'],\n",
    "    bases=bases,\n",
    "    index_from_basis=index_from_basis\n",
    ")"
   ]
  },
  {
   "cell_type": "code",
   "execution_count": 17,
   "id": "aa3b22e6-eb5c-4b94-a527-3363beb23d94",
   "metadata": {},
   "outputs": [],
   "source": [
    "num_of_detuning = 190\n",
    "num_of_bias = 200"
   ]
  },
  {
   "cell_type": "code",
   "execution_count": null,
   "id": "2ee44003-d307-4ebd-b0a5-e47b8f0557db",
   "metadata": {},
   "outputs": [],
   "source": []
  },
  {
   "cell_type": "code",
   "execution_count": null,
   "id": "eb10df07-931c-4078-80a8-c1504c37618d",
   "metadata": {},
   "outputs": [],
   "source": []
  },
  {
   "cell_type": "code",
   "execution_count": null,
   "id": "b0121fcc-dc66-4fc0-83f4-8d2a9bf83b50",
   "metadata": {},
   "outputs": [],
   "source": []
  },
  {
   "cell_type": "code",
   "execution_count": null,
   "id": "ac5688f6-6d97-400a-8429-c61d9f1ebe05",
   "metadata": {},
   "outputs": [],
   "source": []
  },
  {
   "cell_type": "code",
   "execution_count": null,
   "id": "39098d53-f3dc-4885-9426-ee1aefe33519",
   "metadata": {},
   "outputs": [],
   "source": []
  },
  {
   "cell_type": "markdown",
   "id": "9259c305-c7f2-4459-a73d-1eb01c707cd7",
   "metadata": {},
   "source": [
    "# $G$ vs. $\\Phi$"
   ]
  },
  {
   "cell_type": "code",
   "execution_count": 18,
   "id": "b55eda76-481f-442b-92cf-b9db00c30a9d",
   "metadata": {},
   "outputs": [],
   "source": [
    "ham_params = dict(\n",
    "    mu1=0, Ez1=Ez, U1=U,\n",
    "    mu2=0, Ez2=0, Delta2=1,\n",
    "    mu3=0, Ez3=Ez, U3=U,\n",
    "    mu4=0, Ez4=0, Delta4=1, phi=0,\n",
    "    mu5=0, Ez5=Ez, U5=U,\n",
    "    t1=t, t2=t, t3=t, t4=t,\n",
    "    t1so=tso, t2so=tso, t3so=tso, t4so=tso\n",
    ")"
   ]
  },
  {
   "cell_type": "code",
   "execution_count": 19,
   "id": "6aca0287-c87c-4bc4-b129-18547e10d84f",
   "metadata": {},
   "outputs": [],
   "source": [
    "Phi_range = np.linspace(-2*np.pi, 2*np.pi, num_of_detuning)\n",
    "bias_range = np.linspace(-0.15, 0.15, num_of_bias)\n",
    "Phis, biases = np.meshgrid(Phi_range, bias_range)\n",
    "G_Phi_list = []"
   ]
  },
  {
   "cell_type": "code",
   "execution_count": 20,
   "id": "46ce3ec3-7cdb-484c-af26-a86a4ddc5eac",
   "metadata": {},
   "outputs": [
    {
     "name": "stdout",
     "output_type": "stream",
     "text": [
      "0\n"
     ]
    },
    {
     "ename": "KeyboardInterrupt",
     "evalue": "",
     "output_type": "error",
     "traceback": [
      "\u001b[0;31m---------------------------------------------------------------------------\u001b[0m",
      "\u001b[0;31mKeyboardInterrupt\u001b[0m                         Traceback (most recent call last)",
      "Cell \u001b[0;32mIn[20], line 13\u001b[0m\n\u001b[1;32m     11\u001b[0m \u001b[38;5;28;01mfor\u001b[39;00m j, Phi \u001b[38;5;129;01min\u001b[39;00m \u001b[38;5;28menumerate\u001b[39m(Phi_range):        \n\u001b[1;32m     12\u001b[0m     ham_params[\u001b[38;5;124m'\u001b[39m\u001b[38;5;124mphi\u001b[39m\u001b[38;5;124m'\u001b[39m] \u001b[38;5;241m=\u001b[39m Phi\n\u001b[0;32m---> 13\u001b[0m     H \u001b[38;5;241m=\u001b[39m \u001b[43mget_H_mb\u001b[49m\u001b[43m(\u001b[49m\u001b[38;5;241;43m*\u001b[39;49m\u001b[38;5;241;43m*\u001b[39;49m\u001b[43mham_params\u001b[49m\u001b[43m)\u001b[49m\n\u001b[1;32m     14\u001b[0m     es, wfs \u001b[38;5;241m=\u001b[39m sla\u001b[38;5;241m.\u001b[39meigsh(csr_matrix(H), k\u001b[38;5;241m=\u001b[39m\u001b[38;5;241m20\u001b[39m, which\u001b[38;5;241m=\u001b[39m\u001b[38;5;124m'\u001b[39m\u001b[38;5;124mLM\u001b[39m\u001b[38;5;124m'\u001b[39m)\n\u001b[1;32m     16\u001b[0m     \u001b[38;5;66;03m# es, wfs = LA.eigh(H)\u001b[39;00m\n\u001b[1;32m     17\u001b[0m     \u001b[38;5;66;03m# N_red = 40\u001b[39;00m\n\u001b[1;32m     18\u001b[0m     \u001b[38;5;66;03m# es, wfs = es[0:N_red], wfs[:, 0:N_red]\u001b[39;00m\n",
      "Cell \u001b[0;32mIn[7], line 14\u001b[0m, in \u001b[0;36mget_H_mb\u001b[0;34m(mu1, Ez1, U1, mu2, Ez2, Delta2, mu3, Ez3, U3, mu4, Ez4, Delta4, phi, mu5, Ez5, U5, t1, t2, t3, t4, t1so, t2so, t3so, t4so)\u001b[0m\n\u001b[1;32m      1\u001b[0m \u001b[38;5;28;01mdef\u001b[39;00m \u001b[38;5;21mget_H_mb\u001b[39m(\n\u001b[1;32m      2\u001b[0m     mu1, Ez1, U1,\n\u001b[1;32m      3\u001b[0m     mu2, Ez2, Delta2,\n\u001b[0;32m   (...)\u001b[0m\n\u001b[1;32m      7\u001b[0m     t1, t2, t3, t4,\n\u001b[1;32m      8\u001b[0m     t1so, t2so, t3so, t4so):\n\u001b[1;32m     10\u001b[0m     H \u001b[38;5;241m=\u001b[39m (mu1 \u001b[38;5;241m+\u001b[39m Ez1) \u001b[38;5;241m*\u001b[39m H_1_up \u001b[38;5;241m+\u001b[39m (mu1 \u001b[38;5;241m-\u001b[39m Ez1) \u001b[38;5;241m*\u001b[39m H_1_down \u001b[38;5;241m+\u001b[39m U1 \u001b[38;5;241m*\u001b[39m H_1_U \\\n\u001b[1;32m     11\u001b[0m         \u001b[38;5;241m+\u001b[39m (mu2 \u001b[38;5;241m+\u001b[39m Ez2) \u001b[38;5;241m*\u001b[39m H_2_up \u001b[38;5;241m+\u001b[39m (mu2 \u001b[38;5;241m-\u001b[39m Ez2) \u001b[38;5;241m*\u001b[39m H_2_down \u001b[38;5;241m+\u001b[39m Delta2 \u001b[38;5;241m*\u001b[39m H_2_Delta \\\n\u001b[1;32m     12\u001b[0m         \u001b[38;5;241m+\u001b[39m (mu3 \u001b[38;5;241m+\u001b[39m Ez3) \u001b[38;5;241m*\u001b[39m H_3_up \u001b[38;5;241m+\u001b[39m (mu3 \u001b[38;5;241m-\u001b[39m Ez3) \u001b[38;5;241m*\u001b[39m H_3_down \u001b[38;5;241m+\u001b[39m U3 \u001b[38;5;241m*\u001b[39m H_3_U \\\n\u001b[1;32m     13\u001b[0m         \u001b[38;5;241m+\u001b[39m (mu4 \u001b[38;5;241m+\u001b[39m Ez4) \u001b[38;5;241m*\u001b[39m H_4_up \u001b[38;5;241m+\u001b[39m (mu4 \u001b[38;5;241m-\u001b[39m Ez4) \u001b[38;5;241m*\u001b[39m H_4_down \\\n\u001b[0;32m---> 14\u001b[0m         \u001b[38;5;241m+\u001b[39m Delta4 \u001b[38;5;241m*\u001b[39m \u001b[43mnp\u001b[49m\u001b[38;5;241;43m.\u001b[39;49m\u001b[43mcos\u001b[49m\u001b[43m(\u001b[49m\u001b[43mphi\u001b[49m\u001b[43m)\u001b[49m \u001b[38;5;241m*\u001b[39m H_4_Delta_real \u001b[38;5;241m+\u001b[39m Delta4 \u001b[38;5;241m*\u001b[39m np\u001b[38;5;241m.\u001b[39msin(phi) \u001b[38;5;241m*\u001b[39m H_4_Delta_imag \\\n\u001b[1;32m     15\u001b[0m         \u001b[38;5;241m+\u001b[39m (mu5 \u001b[38;5;241m+\u001b[39m Ez5) \u001b[38;5;241m*\u001b[39m H_5_up \u001b[38;5;241m+\u001b[39m (mu5 \u001b[38;5;241m-\u001b[39m Ez5) \u001b[38;5;241m*\u001b[39m H_5_down \u001b[38;5;241m+\u001b[39m U5 \u001b[38;5;241m*\u001b[39m H_5_U \\\n\u001b[1;32m     16\u001b[0m         \u001b[38;5;241m+\u001b[39m t1 \u001b[38;5;241m*\u001b[39m (H_2up_1up \u001b[38;5;241m+\u001b[39m H_2down_1down) \u001b[38;5;241m+\u001b[39m t1so \u001b[38;5;241m*\u001b[39m (H_2down_1up \u001b[38;5;241m-\u001b[39m H_2up_1down) \\\n\u001b[1;32m     17\u001b[0m         \u001b[38;5;241m+\u001b[39m t2 \u001b[38;5;241m*\u001b[39m (H_3up_2up \u001b[38;5;241m+\u001b[39m H_3down_2down) \u001b[38;5;241m+\u001b[39m t2so \u001b[38;5;241m*\u001b[39m (H_3down_2up \u001b[38;5;241m-\u001b[39m H_3up_2down) \\\n\u001b[1;32m     18\u001b[0m         \u001b[38;5;241m+\u001b[39m t3 \u001b[38;5;241m*\u001b[39m (H_4up_3up \u001b[38;5;241m+\u001b[39m H_4down_3down) \u001b[38;5;241m+\u001b[39m t3so \u001b[38;5;241m*\u001b[39m (H_4down_3up \u001b[38;5;241m-\u001b[39m H_4up_3down) \\\n\u001b[1;32m     19\u001b[0m         \u001b[38;5;241m+\u001b[39m t4 \u001b[38;5;241m*\u001b[39m (H_5up_4up \u001b[38;5;241m+\u001b[39m H_5down_4down) \u001b[38;5;241m+\u001b[39m t4so \u001b[38;5;241m*\u001b[39m (H_5down_4up \u001b[38;5;241m-\u001b[39m H_5up_4down) \n\u001b[1;32m     21\u001b[0m     \u001b[38;5;28;01mreturn\u001b[39;00m H\n",
      "\u001b[0;31mKeyboardInterrupt\u001b[0m: "
     ]
    }
   ],
   "source": [
    "t1 = time.time()\n",
    "for k in range(3):\n",
    "    print(k)\n",
    "    mu_list = muss_list[k]\n",
    "    ham_params['mu1'] = mu_list[0]\n",
    "    ham_params['mu2'] = mu_list[1]\n",
    "    ham_params['mu3'] = mu_list[2]\n",
    "    ham_params['mu4'] = mu_list[3]\n",
    "    ham_params['mu5'] = mu_list[4]\n",
    "    G_matrix = np.zeros((len(bias_range), len(Phi_range)))\n",
    "    for j, Phi in enumerate(Phi_range):        \n",
    "        ham_params['phi'] = Phi\n",
    "        H = get_H_mb(**ham_params)\n",
    "        es, wfs = sla.eigsh(csr_matrix(H), k=20, which='LM')\n",
    "        \n",
    "        # es, wfs = LA.eigh(H)\n",
    "        # N_red = 40\n",
    "        # es, wfs = es[0:N_red], wfs[:, 0:N_red]\n",
    "        \n",
    "        gs = pmm.get_G_matrix(\n",
    "            es=es,\n",
    "            wfs=wfs,\n",
    "            d_dg_list=d_dg_list,\n",
    "            bias_range=bias_range,\n",
    "            lead_params=lead_params\n",
    "        )\n",
    "        G_matrix[:, j] = gs[0, 0, :]\n",
    "    G_Phi_list.append(G_matrix)\n",
    "    t2 = time.time()\n",
    "    print(t2 - t1)"
   ]
  },
  {
   "cell_type": "code",
   "execution_count": 15,
   "id": "52837bd5-a963-4e61-b622-db64b2415e12",
   "metadata": {},
   "outputs": [
    {
     "name": "stdout",
     "output_type": "stream",
     "text": [
      "2.100373566761625e-06 0.8217235383130074\n",
      "3.092339381816501e-06 0.8844228625178552\n",
      "1.0122589506242704e-07 0.9140645589130837\n"
     ]
    }
   ],
   "source": [
    "for n in range(3):\n",
    "    print(np.min(G_Phi_list[n]), np.max(G_Phi_list[n]))\n",
    "G_Phi_max_list = [0.9, 0.9, 0.9]"
   ]
  },
  {
   "cell_type": "code",
   "execution_count": null,
   "id": "5981af5c-b51a-4707-8f05-dd8b31a9c102",
   "metadata": {},
   "outputs": [],
   "source": []
  },
  {
   "cell_type": "code",
   "execution_count": 16,
   "id": "f648db29-572f-48f3-abe2-5f1ede99389f",
   "metadata": {},
   "outputs": [
    {
     "data": {
      "image/png": "[encoded data removed]",
      "text/plain": [
       "<Figure size 900x250 with 6 Axes>"
      ]
     },
     "metadata": {},
     "output_type": "display_data"
    }
   ],
   "source": [
    "Phi_ticks = [-2*np.pi, -np.pi, 0, np.pi, 2*np.pi]\n",
    "Phi_ticklabels = [r'$-2\\pi$', r'$-\\pi$', '0', r'$\\pi$', r'$2\\pi$']\n",
    "cmap_name = 'Oranges'\n",
    "\n",
    "fig, axes = plt.subplots(1, 3, figsize=(9, 2.5))\n",
    "\n",
    "for n in [0,1,2]:\n",
    "    ax = axes[n]\n",
    "    im = ax.pcolor(Phis, biases, G_Phi_list[n], vmin=0, vmax=G_Phi_max_list[n], cmap=cmap_name)\n",
    "    ax.set_xlabel(r'$\\Phi$')\n",
    "    ax.set_xticks(Phi_ticks)\n",
    "    ax.set_xticklabels(Phi_ticklabels)\n",
    "    ax.set_ylabel(r'$V$')\n",
    "    ax.set_ylim([-0.15, 0.15])\n",
    "    ax.set_title(r'$G~[e^2/h]$')\n",
    "    cbar = plt.colorbar(im, ax=ax, ticks=[0, 0.4, 0.8])\n",
    "plt.tight_layout()"
   ]
  },
  {
   "cell_type": "code",
   "execution_count": null,
   "id": "3e462670-a1d2-4532-8158-253e21b9261b",
   "metadata": {},
   "outputs": [],
   "source": []
  },
  {
   "cell_type": "code",
   "execution_count": null,
   "id": "bcb0c6cb-7640-40ec-aeed-0add85d2ec91",
   "metadata": {},
   "outputs": [],
   "source": []
  },
  {
   "cell_type": "markdown",
   "id": "831f048e-bdfb-43ff-a385-36ef40433c50",
   "metadata": {},
   "source": [
    "# $G$ vs $\\mu$"
   ]
  },
  {
   "cell_type": "code",
   "execution_count": 36,
   "id": "c1a5d5b2-4348-4671-b315-0c769a8095e3",
   "metadata": {},
   "outputs": [],
   "source": [
    "ham_params = dict(\n",
    "    mu1=0, Ez1=Ez, U1=U,\n",
    "    mu2=0, Ez2=0, Delta2=1,\n",
    "    mu3=0, Ez3=Ez, U3=U,\n",
    "    mu4=0, Ez4=0, Delta4=1, phi=0,\n",
    "    mu5=0, Ez5=Ez, U5=U,\n",
    "    t1=t, t2=t, t3=t, t4=t,\n",
    "    t1so=tso, t2so=tso, t3so=tso, t4so=tso\n",
    ")"
   ]
  },
  {
   "cell_type": "code",
   "execution_count": 37,
   "id": "feeea08e-f653-4bf1-91a6-230ae2fa7781",
   "metadata": {},
   "outputs": [],
   "source": [
    "mu_range = np.linspace(-0.2, 0.2, num_of_detuning)\n",
    "bias_range = np.linspace(-0.15, 0.15, num_of_bias)\n",
    "mus, biases = np.meshgrid(mu_range, bias_range)\n",
    "G_mu_list = []"
   ]
  },
  {
   "cell_type": "code",
   "execution_count": 38,
   "id": "6638a5e8-f81b-4920-862f-fafddba29406",
   "metadata": {},
   "outputs": [
    {
     "name": "stdout",
     "output_type": "stream",
     "text": [
      "0\n",
      "74.21569442749023\n",
      "1\n",
      "158.02992582321167\n",
      "2\n",
      "224.5053722858429\n"
     ]
    }
   ],
   "source": [
    "t1 = time.time()\n",
    "for k in range(3):\n",
    "    print(k)\n",
    "    mu_list = muss_list[k]\n",
    "    ham_params['mu1'] = mu_list[0]\n",
    "    ham_params['mu2'] = mu_list[1]\n",
    "    ham_params['mu3'] = mu_list[2]\n",
    "    ham_params['mu4'] = mu_list[3]\n",
    "    ham_params['mu5'] = mu_list[4]\n",
    "    G_matrix = np.zeros((len(bias_range), len(mu_range)))\n",
    "    for j, mu in enumerate(mu_range):        \n",
    "        ham_params['mu5'] = mu_list[4] + mu\n",
    "        H = get_H_mb(**ham_params)\n",
    "        es, wfs = sla.eigsh(csr_matrix(H), k=10, which='LM')\n",
    "        \n",
    "        # es, wfs = LA.eigh(H)\n",
    "        # N_red = 40\n",
    "        # es, wfs = es[0:N_red], wfs[:, 0:N_red]\n",
    "        \n",
    "        gs = pmm.get_G_matrix(\n",
    "            es=es,\n",
    "            wfs=wfs,\n",
    "            d_dg_list=d_dg_list,\n",
    "            bias_range=bias_range,\n",
    "            lead_params=lead_params\n",
    "        )\n",
    "        G_matrix[:, j] = gs[0, 0, :]\n",
    "    G_mu_list.append(G_matrix)\n",
    "    t2 = time.time()\n",
    "    print(t2 - t1)"
   ]
  },
  {
   "cell_type": "code",
   "execution_count": 39,
   "id": "251d72bc-359f-4a71-966e-53aa7bd75464",
   "metadata": {},
   "outputs": [
    {
     "name": "stdout",
     "output_type": "stream",
     "text": [
      "-1.0351601097529363e-05 0.7315192276529394\n",
      "4.228173792116269e-07 0.24631016537208442\n",
      "-6.72241316763586e-06 0.7515177330947884\n"
     ]
    }
   ],
   "source": [
    "for n in range(3):\n",
    "    print(np.min(G_mu_list[n]), np.max(G_mu_list[n]))"
   ]
  },
  {
   "cell_type": "code",
   "execution_count": 40,
   "id": "703d796d-d43e-479f-a7ad-f5c548a07874",
   "metadata": {},
   "outputs": [],
   "source": [
    "G_mu_max_list = [0.7, 0.2, 0.7]"
   ]
  },
  {
   "cell_type": "code",
   "execution_count": 41,
   "id": "c89481cb-5d87-4a0a-81e7-e1ba25b23ee3",
   "metadata": {},
   "outputs": [
    {
     "data": {
      "image/png": "[encoded data removed]",
      "text/plain": [
       "<Figure size 900x250 with 6 Axes>"
      ]
     },
     "metadata": {},
     "output_type": "display_data"
    }
   ],
   "source": [
    "mu_ticks = [-0.2, -0.1, 0, 0.1, 0.2]\n",
    "cmap_name = 'Oranges'\n",
    "\n",
    "fig, axes = plt.subplots(1, 3, figsize=(9, 2.5))\n",
    "\n",
    "for n in [0, 1, 2]:\n",
    "    ax = axes[n]\n",
    "    im = ax.pcolor(mus, biases, G_mu_list[n], vmin=0, vmax=G_mu_max_list[n], cmap=cmap_name)\n",
    "    ax.set_xlabel(r'$\\delta \\mu_{D3}$')\n",
    "    ax.set_xticks(mu_ticks)\n",
    "    ax.set_ylabel(r'$V$')\n",
    "    ax.set_ylim([-0.15, 0.15])\n",
    "    ax.set_title(r'$G~[e^2/h]$')\n",
    "    cbar = plt.colorbar(im, ax=ax)\n",
    "\n",
    "plt.tight_layout()"
   ]
  },
  {
   "cell_type": "code",
   "execution_count": null,
   "id": "d205eae3-c722-4e14-803a-bd16b13eb78f",
   "metadata": {},
   "outputs": [],
   "source": []
  },
  {
   "cell_type": "code",
   "execution_count": 42,
   "id": "348697d4-0969-4ab8-9782-37e63fcf608e",
   "metadata": {},
   "outputs": [],
   "source": [
    "G_spectra_dict = dict(\n",
    "    Phis=Phis,\n",
    "    mus=mus,\n",
    "    biases=biases,\n",
    "    G_Phi_list=G_Phi_list,\n",
    "    G_Phi_max_list=G_Phi_max_list,\n",
    "    G_mu_list=G_mu_list,\n",
    "    G_mu_max_list=G_mu_max_list\n",
    ") "
   ]
  },
  {
   "cell_type": "code",
   "execution_count": 43,
   "id": "e17a9705-3dda-4c73-b966-48a4f2d333f1",
   "metadata": {},
   "outputs": [],
   "source": [
    "import pickle \n",
    "with open(r'G_spectra.pickle', 'wb') as handle: \n",
    "    pickle.dump(G_spectra_dict, handle) "
   ]
  },
  {
   "cell_type": "code",
   "execution_count": null,
   "id": "0a6e324f-b55b-448c-87cb-860aebd6f8db",
   "metadata": {},
   "outputs": [],
   "source": []
  },
  {
   "cell_type": "code",
   "execution_count": null,
   "id": "43ec5d54-6768-40f2-9268-ee8eb7435efa",
   "metadata": {},
   "outputs": [],
   "source": []
  },
  {
   "cell_type": "code",
   "execution_count": null,
   "id": "00770130-718d-4dff-83ff-08d2ed83bd7c",
   "metadata": {},
   "outputs": [],
   "source": []
  },
  {
   "cell_type": "code",
   "execution_count": null,
   "id": "da4f2483-e848-48ce-8983-1e2544f839c7",
   "metadata": {},
   "outputs": [],
   "source": []
  },
  {
   "cell_type": "code",
   "execution_count": null,
   "id": "e1524924-45af-4e86-95ac-0ac1a33bae56",
   "metadata": {},
   "outputs": [],
   "source": []
  },
  {
   "cell_type": "code",
   "execution_count": null,
   "id": "d714dba1-5d2c-4e72-a46a-3db1f430d263",
   "metadata": {},
   "outputs": [],
   "source": []
  },
  {
   "cell_type": "code",
   "execution_count": null,
   "id": "b10f5621-c3b5-4c4e-883b-0136529baf1e",
   "metadata": {},
   "outputs": [],
   "source": []
  }
 ],
 "metadata": {
  "kernelspec": {
   "display_name": "Python 3 (ipykernel)",
   "language": "python",
   "name": "python3"
  },
  "language_info": {
   "codemirror_mode": {
    "name": "ipython",
    "version": 3
   },
   "file_extension": ".py",
   "mimetype": "text/x-python",
   "name": "python",
   "nbconvert_exporter": "python",
   "pygments_lexer": "ipython3",
   "version": "3.12.8"
  }
 },
 "nbformat": 4,
 "nbformat_minor": 5
}
