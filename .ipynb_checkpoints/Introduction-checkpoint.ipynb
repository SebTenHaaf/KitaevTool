{
 "cells": [
  {
   "cell_type": "markdown",
   "id": "42bca638-c891-44c1-a022-76f3013640ff",
   "metadata": {},
   "source": [
    "## Definitions & Imports"
   ]
  },
  {
   "cell_type": "code",
   "execution_count": 1,
   "id": "af9b18c0-b7dd-4a64-a5ab-31f13b048bb9",
   "metadata": {},
   "outputs": [],
   "source": [
    "from functools import partial\n",
    "\n",
    "import numpy as np\n",
    "import matplotlib.pyplot as plt\n",
    "\n",
    "from IPython.display import display, Math,Markdown"
   ]
  },
  {
   "cell_type": "code",
   "execution_count": 2,
   "id": "b3925460-8662-4bfa-8181-72f3e5d1a1ae",
   "metadata": {},
   "outputs": [],
   "source": [
    "## Custom functions\n",
    "import FermionSystem as fst\n",
    "import KitaevTools as kt"
   ]
  },
  {
   "cell_type": "markdown",
   "id": "427b6812-efcf-470a-80fc-b26cf7ee877b",
   "metadata": {},
   "source": [
    "## Additional Functions"
   ]
  },
  {
   "cell_type": "code",
   "execution_count": 3,
   "id": "df7b1c18-f8cb-4d48-a2a1-ad93a397f466",
   "metadata": {},
   "outputs": [],
   "source": [
    "%load_ext cython"
   ]
  },
  {
   "cell_type": "code",
   "execution_count": 77,
   "id": "e5d38c57-b08c-4fdc-b6d2-14e4ef93d0da",
   "metadata": {},
   "outputs": [
    {
     "name": "stdout",
     "output_type": "stream",
     "text": [
      "Content of stdout:\n",
      "_cython_magic_6f51b71fac94c38c434ea6b52479148a0517b76a.c\n",
      "C:\\Users\\btenhaaf\\AppData\\Local\\anaconda3\\envs\\KitaevTool\\Lib\\site-packages\\numpy\\_core\\include\\numpy\\npy_1_7_deprecated_api.h(14) : Warning Msg: Using deprecated NumPy API, disable it with #define NPY_NO_DEPRECATED_API NPY_1_7_API_VERSION\n",
      "C:\\Users\\btenhaaf\\.ipython\\cython\\_cython_magic_6f51b71fac94c38c434ea6b52479148a0517b76a.c(5016): warning C4244: '=': conversion from 'npy_intp' to 'int', possible loss of data\n",
      "   Creating library C:\\Users\\btenhaaf\\.ipython\\cython\\Users\\btenhaaf\\.ipython\\cython\\_cython_magic_6f51b71fac94c38c434ea6b52479148a0517b76a.cp312-win_amd64.lib and object C:\\Users\\btenhaaf\\.ipython\\cython\\Users\\btenhaaf\\.ipython\\cython\\_cython_magic_6f51b71fac94c38c434ea6b52479148a0517b76a.cp312-win_amd64.exp\n",
      "Generating code\n",
      "Finished generating code"
     ]
    }
   ],
   "source": [
    "%%cython \n",
    "## For speed, using cython here to define the hamiltonian function utilised\n",
    "## by the sparse solver. \n",
    "## Should ideally be placed inside the FermionSystem file but did not yet figure out\n",
    "## how to generate the c code (platform independently) inside the .py file\n",
    "\n",
    "## TO DO: find out how to use this when the values are complex \n",
    "\n",
    "import numpy as np\n",
    "cimport numpy as cnp\n",
    "\n",
    "def hamiltonian_matvec(\n",
    "    cnp.ndarray[double complex, ndim=1] x,\n",
    "    cnp.ndarray[int, ndim=1] rows,\n",
    "    cnp.ndarray[int, ndim=1] cols,\n",
    "    cnp.ndarray[double complex, ndim=1] vals\n",
    "):\n",
    "    cdef int r, c, i\n",
    "    cdef double complex v\n",
    "    cdef cnp.ndarray[double complex, ndim=1] result = np.zeros_like(x)\n",
    "    cdef int n = rows.shape[0]\n",
    "\n",
    "    for i in range(n):\n",
    "        r = rows[i]\n",
    "        c = cols[i]\n",
    "        v = vals[i]\n",
    "        result[r] = result[r] + v * x[c]\n",
    "        result[c] = result[c] + v * x[r]\n",
    "    return result"
   ]
  },
  {
   "cell_type": "markdown",
   "id": "62481fcd-3733-4749-b4e9-89723606a56b",
   "metadata": {},
   "source": [
    "# Basic Functions"
   ]
  },
  {
   "cell_type": "markdown",
   "id": "63922869-13ce-41de-b146-6df664b1802c",
   "metadata": {},
   "source": [
    "## States and Operators"
   ]
  },
  {
   "cell_type": "code",
   "execution_count": 78,
   "id": "d08308d0-6766-4fe1-8104-893798d866c1",
   "metadata": {},
   "outputs": [
    {
     "data": {
      "text/markdown": [
       "|↓,0〉"
      ],
      "text/plain": [
       "<IPython.core.display.Markdown object>"
      ]
     },
     "metadata": {},
     "output_type": "display_data"
    },
    {
     "data": {
      "text/markdown": [
       "|↑,0〉"
      ],
      "text/plain": [
       "<IPython.core.display.Markdown object>"
      ]
     },
     "metadata": {},
     "output_type": "display_data"
    },
    {
     "data": {
      "text/markdown": [
       "|↓↑,0〉"
      ],
      "text/plain": [
       "<IPython.core.display.Markdown object>"
      ]
     },
     "metadata": {},
     "output_type": "display_data"
    },
    {
     "data": {
      "text/markdown": [
       "|0,↓〉"
      ],
      "text/plain": [
       "<IPython.core.display.Markdown object>"
      ]
     },
     "metadata": {},
     "output_type": "display_data"
    },
    {
     "data": {
      "text/markdown": [
       "|↓↑,↓〉"
      ],
      "text/plain": [
       "<IPython.core.display.Markdown object>"
      ]
     },
     "metadata": {},
     "output_type": "display_data"
    },
    {
     "data": {
      "text/markdown": [
       "|↓↑,↓↑〉"
      ],
      "text/plain": [
       "<IPython.core.display.Markdown object>"
      ]
     },
     "metadata": {},
     "output_type": "display_data"
    },
    {
     "data": {
      "text/markdown": [
       "|0,0,↓,↓↑,↓↑,↓〉"
      ],
      "text/plain": [
       "<IPython.core.display.Markdown object>"
      ]
     },
     "metadata": {},
     "output_type": "display_data"
    }
   ],
   "source": [
    "## FermionSystem provides functions for acting with 'operators' on Fock states using binary operations\n",
    "## where both states and operators are represented by integers.\n",
    "## Requires specifying the number of fermionic sites N:\n",
    "N = 2\n",
    "fs = fst.FermionSystem(N)\n",
    "\n",
    "## Each integer represents a fock state in binary, where each site covers two bits (00 = 0, 01 = down, 10 = up, 11 = up+down)\n",
    "fs.vis_state(1,displ=True)\n",
    "fs.vis_state(2,displ=True)\n",
    "fs.vis_state(3,displ=True)\n",
    "fs.vis_state(0B100,displ=True)\n",
    "fs.vis_state(0B111,displ=True)\n",
    "fs.vis_state(0B1111,displ=True)\n",
    "\n",
    "## The size of the system N is only relevant for the logic related to the operators\n",
    "## Integers exceeding the largest possible state still just exist, but\n",
    "## an operator acting on it will only be able to act on the first N sites\n",
    "fs.vis_state(2000, displ=True)"
   ]
  },
  {
   "cell_type": "code",
   "execution_count": 79,
   "id": "be43ace9-3d10-47f6-a66a-d541ae44db63",
   "metadata": {},
   "outputs": [
    {
     "data": {
      "text/markdown": [
       "Created operator $c^{†}_{1,↑}$, represented by the number: 3"
      ],
      "text/plain": [
       "<IPython.core.display.Markdown object>"
      ]
     },
     "metadata": {},
     "output_type": "display_data"
    }
   ],
   "source": [
    "## Operators are similarly represented by integers, storing the position on the fock state to act on \n",
    "## + a bit specifying if the operator is creation or annihilation. \n",
    "## The largest bit sets the purpose, such that creation operators are always larger numbers than annihilation operators (for sorting in normal order)\n",
    "\n",
    "# operator to create a spin up in site 1:\n",
    "operator = fs.operator('creation',1,'up')\n",
    "display(Markdown(f'Created operator {fs.vis_oper(operator)}, represented by the number: {operator}'))"
   ]
  },
  {
   "cell_type": "markdown",
   "id": "c3204fb9-9532-4f5d-94c6-11d0db694bad",
   "metadata": {},
   "source": [
    "## Acting on states"
   ]
  },
  {
   "cell_type": "code",
   "execution_count": 80,
   "id": "3b5b69d2-6518-4ee5-98d8-6bb7b6681fbe",
   "metadata": {},
   "outputs": [
    {
     "data": {
      "text/markdown": [
       "$c^{†}_{1,↑}$|↓↑,↓〉 = -|↓↑,↓↑〉"
      ],
      "text/plain": [
       "<IPython.core.display.Markdown object>"
      ]
     },
     "metadata": {},
     "output_type": "display_data"
    }
   ],
   "source": [
    "# The action of operators on fock states is handled by 'act_oper', returning the new states and the signs\n",
    "operator = fs.operator('creation',1,'up')\n",
    "state = 0B111\n",
    "\n",
    "new_state,sign = fs.act_oper(operator, np.array([state]))\n",
    "display(Markdown(f'{fs.vis_oper(operator)}{fs.vis_state(state)} = {\"-\" if sign[0] ==-1 else \"\"}{fs.vis_state(new_state[0])}'))"
   ]
  },
  {
   "cell_type": "code",
   "execution_count": 81,
   "id": "40da889d-f997-4ccb-891b-db461144b483",
   "metadata": {},
   "outputs": [
    {
     "data": {
      "text/plain": [
       "<module 'FermionSystem' from 'C:\\\\Users\\\\btenhaaf\\\\Documents\\\\Packages\\\\FermSystem\\\\FermionSystem.py'>"
      ]
     },
     "execution_count": 81,
     "metadata": {},
     "output_type": "execute_result"
    }
   ],
   "source": [
    "from importlib import reload\n",
    "reload(fst)"
   ]
  },
  {
   "cell_type": "code",
   "execution_count": 82,
   "id": "027c5d8d-6096-4107-8541-3eb290304a47",
   "metadata": {},
   "outputs": [
    {
     "data": {
      "text/markdown": [
       "Non-zero terms for operator $c^{†}_{0,↑}$$c^{†}_{1,↑}$"
      ],
      "text/plain": [
       "<IPython.core.display.Markdown object>"
      ]
     },
     "metadata": {},
     "output_type": "display_data"
    },
    {
     "data": {
      "text/markdown": [
       "$c^{†}_{0,↑}$$c^{†}_{1,↑}$|0,0,0〉 = |↑,↑,0〉"
      ],
      "text/plain": [
       "<IPython.core.display.Markdown object>"
      ]
     },
     "metadata": {},
     "output_type": "display_data"
    },
    {
     "data": {
      "text/markdown": [
       "$c^{†}_{0,↑}$$c^{†}_{1,↑}$|↓,0,0〉 = |↓↑,↑,0〉"
      ],
      "text/plain": [
       "<IPython.core.display.Markdown object>"
      ]
     },
     "metadata": {},
     "output_type": "display_data"
    },
    {
     "data": {
      "text/markdown": [
       "$c^{†}_{0,↑}$$c^{†}_{1,↑}$|0,↓,0〉 = -|↑,↓↑,0〉"
      ],
      "text/plain": [
       "<IPython.core.display.Markdown object>"
      ]
     },
     "metadata": {},
     "output_type": "display_data"
    },
    {
     "data": {
      "text/markdown": [
       "$c^{†}_{0,↑}$$c^{†}_{1,↑}$|↓,↓,0〉 = -|↓↑,↓↑,0〉"
      ],
      "text/plain": [
       "<IPython.core.display.Markdown object>"
      ]
     },
     "metadata": {},
     "output_type": "display_data"
    },
    {
     "data": {
      "text/markdown": [
       "$c^{†}_{0,↑}$$c^{†}_{1,↑}$|0,0,↓〉 = |↑,↑,↓〉"
      ],
      "text/plain": [
       "<IPython.core.display.Markdown object>"
      ]
     },
     "metadata": {},
     "output_type": "display_data"
    },
    {
     "data": {
      "text/markdown": [
       "$c^{†}_{0,↑}$$c^{†}_{1,↑}$|↓,0,↓〉 = |↓↑,↑,↓〉"
      ],
      "text/plain": [
       "<IPython.core.display.Markdown object>"
      ]
     },
     "metadata": {},
     "output_type": "display_data"
    },
    {
     "data": {
      "text/markdown": [
       "$c^{†}_{0,↑}$$c^{†}_{1,↑}$|0,↓,↓〉 = -|↑,↓↑,↓〉"
      ],
      "text/plain": [
       "<IPython.core.display.Markdown object>"
      ]
     },
     "metadata": {},
     "output_type": "display_data"
    },
    {
     "data": {
      "text/markdown": [
       "$c^{†}_{0,↑}$$c^{†}_{1,↑}$|↓,↓,↓〉 = -|↓↑,↓↑,↓〉"
      ],
      "text/plain": [
       "<IPython.core.display.Markdown object>"
      ]
     },
     "metadata": {},
     "output_type": "display_data"
    },
    {
     "data": {
      "text/markdown": [
       "$c^{†}_{0,↑}$$c^{†}_{1,↑}$|0,0,↑〉 = |↑,↑,↑〉"
      ],
      "text/plain": [
       "<IPython.core.display.Markdown object>"
      ]
     },
     "metadata": {},
     "output_type": "display_data"
    },
    {
     "data": {
      "text/markdown": [
       "$c^{†}_{0,↑}$$c^{†}_{1,↑}$|↓,0,↑〉 = |↓↑,↑,↑〉"
      ],
      "text/plain": [
       "<IPython.core.display.Markdown object>"
      ]
     },
     "metadata": {},
     "output_type": "display_data"
    },
    {
     "data": {
      "text/markdown": [
       "$c^{†}_{0,↑}$$c^{†}_{1,↑}$|0,↓,↑〉 = -|↑,↓↑,↑〉"
      ],
      "text/plain": [
       "<IPython.core.display.Markdown object>"
      ]
     },
     "metadata": {},
     "output_type": "display_data"
    },
    {
     "data": {
      "text/markdown": [
       "$c^{†}_{0,↑}$$c^{†}_{1,↑}$|↓,↓,↑〉 = -|↓↑,↓↑,↑〉"
      ],
      "text/plain": [
       "<IPython.core.display.Markdown object>"
      ]
     },
     "metadata": {},
     "output_type": "display_data"
    },
    {
     "data": {
      "text/markdown": [
       "$c^{†}_{0,↑}$$c^{†}_{1,↑}$|0,0,↓↑〉 = |↑,↑,↓↑〉"
      ],
      "text/plain": [
       "<IPython.core.display.Markdown object>"
      ]
     },
     "metadata": {},
     "output_type": "display_data"
    },
    {
     "data": {
      "text/markdown": [
       "$c^{†}_{0,↑}$$c^{†}_{1,↑}$|↓,0,↓↑〉 = |↓↑,↑,↓↑〉"
      ],
      "text/plain": [
       "<IPython.core.display.Markdown object>"
      ]
     },
     "metadata": {},
     "output_type": "display_data"
    },
    {
     "data": {
      "text/markdown": [
       "$c^{†}_{0,↑}$$c^{†}_{1,↑}$|0,↓,↓↑〉 = -|↑,↓↑,↓↑〉"
      ],
      "text/plain": [
       "<IPython.core.display.Markdown object>"
      ]
     },
     "metadata": {},
     "output_type": "display_data"
    },
    {
     "data": {
      "text/markdown": [
       "$c^{†}_{0,↑}$$c^{†}_{1,↑}$|↓,↓,↓↑〉 = -|↓↑,↓↑,↓↑〉"
      ],
      "text/plain": [
       "<IPython.core.display.Markdown object>"
      ]
     },
     "metadata": {},
     "output_type": "display_data"
    }
   ],
   "source": [
    "# A sequence of operators is represented as a list of ints\n",
    "# Applying the sequence to states uses fs.act_oper_list, which returns only states that are not destroyed by the sequence\n",
    "fs = fst.FermionSystem(N=3)\n",
    "\n",
    "oper_1 = fs.operator('creation',0,'up')\n",
    "oper_2 = fs.operator('creation',1,'up')\n",
    "CAR_up_up = [oper_2,oper_1]\n",
    "\n",
    "## Here: applying the CAR operator to the list of all possible Fock states\n",
    "old_states,new_states,signs = fs.act_oper_list(CAR_up_up, fs.fock_states)\n",
    "\n",
    "## Show results of the operation\n",
    "display(Markdown(f\"Non-zero terms for operator {fs.vis_oper_list(CAR_up_up,displ=False)}\"))\n",
    "for state,new_state,parity in zip(old_states,new_states,signs):\n",
    "    if parity == 1:\n",
    "        display(Markdown(f\"{fs.vis_oper_list(CAR_up_up)}{fs.vis_state(state)} = {fs.vis_state(new_state)}\"))\n",
    "    else:\n",
    "        display(Markdown(f\"{fs.vis_oper_list(CAR_up_up)}{fs.vis_state(state)} = -{fs.vis_state(new_state)}\"))"
   ]
  },
  {
   "cell_type": "markdown",
   "id": "59e58923-5897-4a5d-8d6f-a18360c1aa82",
   "metadata": {},
   "source": [
    "## Convert between states/operators"
   ]
  },
  {
   "cell_type": "code",
   "execution_count": 83,
   "id": "081f92fa-c824-483b-a8b0-bf02d9cc34cb",
   "metadata": {},
   "outputs": [
    {
     "data": {
      "text/markdown": [
       "|↓,↑,↓,↓↑〉 = $c^{†}_{0,↓}$$c^{†}_{1,↑}$$c^{†}_{2,↓}$$c^{†}_{3,↓}$$c^{†}_{3,↑}$|0,0,0,0〉"
      ],
      "text/plain": [
       "<IPython.core.display.Markdown object>"
      ]
     },
     "metadata": {},
     "output_type": "display_data"
    }
   ],
   "source": [
    "## Convert from a state to the creation operators\n",
    "\n",
    "fs = fst.FermionSystem(N=4)\n",
    "state = 0B11011001\n",
    "\n",
    "opers = fs.state_to_oper_list(state)\n",
    "display(Markdown(f'{fs.vis_state(state)} = {fs.vis_oper_list(opers)}{fs.vis_state(0)}'))"
   ]
  },
  {
   "cell_type": "code",
   "execution_count": 84,
   "id": "d916db0a-4520-4d7e-8587-3d87445e9111",
   "metadata": {},
   "outputs": [
    {
     "data": {
      "text/markdown": [
       "|↓,↓↑,0,0〉 = $c^{†}_{1,↓}$$c_{0,↑}$$c_{2,↑}$|↓↑,↑,↑,0〉"
      ],
      "text/plain": [
       "<IPython.core.display.Markdown object>"
      ]
     },
     "metadata": {},
     "output_type": "display_data"
    }
   ],
   "source": [
    "## Given two states, return the operator and sign to convert the first state into the second state\n",
    "## TO DO: fix sign issue (boils down to fixing bug in normal ordering for same-site operators)\n",
    "fs = fst.FermionSystem(N=4)\n",
    "\n",
    "state_1 = 0B101011\n",
    "state_2 = 0B1101\n",
    "\n",
    "oper,sign = fs.state_to_state(state_1,state_2)\n",
    "display(Markdown(f'{fs.vis_state(state_2)} = {\"-\" if sign < 0  else \"\"}{fs.vis_oper_list(oper)}{fs.vis_state(state_1)}'))"
   ]
  },
  {
   "cell_type": "markdown",
   "id": "e924db91-4c51-4e92-a553-1795ea665a47",
   "metadata": {},
   "source": [
    "## Normal Ordering"
   ]
  },
  {
   "cell_type": "code",
   "execution_count": 85,
   "id": "0bb85a74-55d4-4d20-85c5-fc7d6ac389a9",
   "metadata": {},
   "outputs": [
    {
     "data": {
      "text/markdown": [
       "Original sequence: $c^{†}_{2,↓}$$c^{†}_{1,↓}$$c_{0,↓}$$c^{†}_{1,↑}$ ([3, 8, 2, 4])"
      ],
      "text/plain": [
       "<IPython.core.display.Markdown object>"
      ]
     },
     "metadata": {},
     "output_type": "display_data"
    },
    {
     "data": {
      "text/markdown": [
       "Normal order: -$c^{†}_{1,↓}$$c^{†}_{1,↑}$$c^{†}_{2,↓}$$c_{0,↓}$ ([8, 4, 3, 2])"
      ],
      "text/plain": [
       "<IPython.core.display.Markdown object>"
      ]
     },
     "metadata": {},
     "output_type": "display_data"
    }
   ],
   "source": [
    "## Normal ordering of the states requires sorting the list of operators (integers) in size \n",
    "## This is now done with a bubble sort, which straightforwardly allows tracking the number of swaps\n",
    "\n",
    "fs = fst.FermionSystem(N=3)\n",
    "\n",
    "## Example of an non-ordered list of operators:\n",
    "oper_list = [fs.operator('creation',1,'up'), fs.operator('annihilation',0,'down'),fs.operator('creation',1,'down'), fs.operator('creation',2,'down')]\n",
    "display(Markdown(f'Original sequence: {fs.vis_oper_list(oper_list)} ({oper_list})'))\n",
    "\n",
    "## Retrieving the list in order + the sign\n",
    "normal_ordered,sign = fs.normal_order(oper_list)\n",
    "display(Markdown(f'Normal order: {\"-\" if sign < 1 else \"\"}{fs.vis_oper_list(normal_ordered)} ({normal_ordered})'))"
   ]
  },
  {
   "cell_type": "markdown",
   "id": "29499dca-6553-44e7-8788-c61fce24f778",
   "metadata": {},
   "source": [
    "## Bra-Kets"
   ]
  },
  {
   "cell_type": "code",
   "execution_count": 86,
   "id": "308e57c4-d246-4022-a8df-de0f48ada45e",
   "metadata": {},
   "outputs": [
    {
     "data": {
      "text/markdown": [
       "$c^{†}_{0,↓}$$c^{†}_{1,↓}$|0,0〉 = |↓,↓〉"
      ],
      "text/plain": [
       "<IPython.core.display.Markdown object>"
      ]
     },
     "metadata": {},
     "output_type": "display_data"
    },
    {
     "data": {
      "text/markdown": [
       "$c^{†}_{0,↓}$$c^{†}_{1,↓}$|↑,0〉 = -|↓↑,↓〉"
      ],
      "text/plain": [
       "<IPython.core.display.Markdown object>"
      ]
     },
     "metadata": {},
     "output_type": "display_data"
    },
    {
     "data": {
      "text/markdown": [
       "$c^{†}_{0,↓}$$c^{†}_{1,↓}$|0,↑〉 = |↓,↓↑〉"
      ],
      "text/plain": [
       "<IPython.core.display.Markdown object>"
      ]
     },
     "metadata": {},
     "output_type": "display_data"
    },
    {
     "data": {
      "text/markdown": [
       "$c^{†}_{0,↓}$$c^{†}_{1,↓}$|↑,↑〉 = -|↓↑,↓↑〉"
      ],
      "text/plain": [
       "<IPython.core.display.Markdown object>"
      ]
     },
     "metadata": {},
     "output_type": "display_data"
    }
   ],
   "source": [
    "## <phi|(operators)|phi> matrices can be calculated with bra_oper_ket function\n",
    "## Where (phi) is an array storign the weights of the system eigenvectors \n",
    "\n",
    "fs = fst.FermionSystem(N=2)\n",
    "states = fs.fock_states\n",
    "\n",
    "## Phi are the weights of the eigenstates. For this example just the I matrix\n",
    "phi = np.zeros((len(states),len(states)))\n",
    "np.fill_diagonal(phi,1)\n",
    "\n",
    "## Make an operator list. This simple example returns a matrix representing which Fock states are connected by CAR_down_down\n",
    "CAR_down_down = [fs.operator('creation',0,'down'),fs.operator('creation',1,'down')]\n",
    "operators = [fs.normal_order(CAR_down_down)[0]]\n",
    "\n",
    "## Calculate matrix\n",
    "M = fs.bra_oper_ket(states, phi, operators)\n",
    "\n",
    "## Visualize outcome\n",
    "non_zero_terms = np.where(M!=0)\n",
    "for row,col in zip(non_zero_terms[0], non_zero_terms[1]):\n",
    "    display(Markdown(f'{fs.vis_oper_list(CAR_down_down)}{fs.vis_state(col)} = {\"-\" if M[row][col]<0 else \"\"}{fs.vis_state(row)}'))\n",
    "\n"
   ]
  },
  {
   "cell_type": "markdown",
   "id": "6d37214e-f4ae-4bf9-a579-c630c52fcba6",
   "metadata": {},
   "source": [
    "# Example: Effective Kitaev Model"
   ]
  },
  {
   "cell_type": "markdown",
   "id": "5fd3063e-1e9e-42bb-ace6-c430a2bd1f69",
   "metadata": {},
   "source": [
    "## Constructing and solving system"
   ]
  },
  {
   "cell_type": "code",
   "execution_count": 87,
   "id": "41fc01c2-e0ee-4386-992c-136d816fa719",
   "metadata": {},
   "outputs": [
    {
     "data": {
      "text/markdown": [
       "Hamiltonian representation: [[5, 3], [3, 1], [5, 2], [2, 1], [4, 3], [3, 0], [4, 2], [2, 0], [5, 1], [7, 3], [4, 0], [6, 2], [5, 4, 1, 0], [7, 6, 3, 2]]"
      ],
      "text/plain": [
       "<IPython.core.display.Markdown object>"
      ]
     },
     "metadata": {},
     "output_type": "display_data"
    },
    {
     "data": {
      "text/markdown": [
       "H = $t_{↑↑}^{0}$$c^{†}_{1,↑}$$c_{0,↑}$ + $Δ_{↑↑}^{0}$$c^{†}_{0,↑}$$c^{†}_{1,↑}$ + $t_{↑↓}^{0}$$c^{†}_{1,↓}$$c_{0,↑}$ + $Δ_{↑↓}^{0}$$c^{†}_{0,↑}$$c^{†}_{1,↓}$ + $t_{↓↑}^{0}$$c^{†}_{1,↑}$$c_{0,↓}$ + $Δ_{↓↑}^{0}$$c^{†}_{0,↓}$$c^{†}_{1,↑}$ + $t_{↓↓}^{0}$$c^{†}_{1,↓}$$c_{0,↓}$ + $Δ_{↓↓}^{0}$$c^{†}_{0,↓}$$c^{†}_{1,↓}$ + $μ_{↑,0}$$c^{†}_{0,↑}$$c_{0,↑}$ + $μ_{↑,1}$$c^{†}_{1,↑}$$c_{1,↑}$ + $μ_{↓,0}$$c^{†}_{0,↓}$$c_{0,↓}$ + $μ_{↓,1}$$c^{†}_{1,↓}$$c_{1,↓}$ + $U_{0}$$c^{†}_{0,↓}$$c^{†}_{0,↑}$$c_{0,↓}$$c_{0,↑}$ + $U_{1}$$c^{†}_{1,↓}$$c^{†}_{1,↑}$$c_{1,↓}$$c_{1,↑}$ "
      ],
      "text/plain": [
       "<IPython.core.display.Markdown object>"
      ]
     },
     "metadata": {},
     "output_type": "display_data"
    }
   ],
   "source": [
    "## Generating a Hamiltonian requires creating the list of operator-lists\n",
    "## The function 'generate_kitaev_hamiltonian' generates all nearest neighbour interactions + chemical potentials + Us\n",
    "N=2\n",
    "fs = fst.FermionSystem(N,store_fock_states=False)\n",
    "hamiltonian = kt.make_kitaev_hamiltonian(fs)\n",
    "operator_list = hamiltonian[0]\n",
    "display(Markdown(f'Hamiltonian representation: {operator_list}'))\n",
    "\n",
    "## A mapping is needed to map  operators -> values and readable symbols, such that the H_params can be entered as readable\n",
    "## A function 'map_H_params' maps both the operator lists and the H_params below to the same string representation.\n",
    "H_params = {\n",
    "    'd_dd': [0]*(N-1),'d_uu': [0]*(N-1),'d_ud': [20]*(N-1),'d_du': [20]*(N-1),\n",
    "    't_dd': [20]*(N-1),'t_uu': [20]*(N-1),'t_ud': [0]*(N-1),'t_du': [0]*(N-1),\n",
    "    'mu': [0]*N,'Ez': [0]*N,'U': [0]*N,\n",
    "}\n",
    "H_vals,H_symbols,H_types = kt.map_H_params_kitaev(fs,H_params)\n",
    "\n",
    "str = 'H = '\n",
    "for oper in operator_list:\n",
    "    str += f'{H_symbols[fs.oper_list_to_str(oper)]}'+ f'{fs.vis_oper_list(oper)}' + ' + '\n",
    "display(Markdown(str[:-2]))"
   ]
  },
  {
   "cell_type": "code",
   "execution_count": 89,
   "id": "3bc012fa-4110-4d83-b891-817aabf12765",
   "metadata": {},
   "outputs": [
    {
     "data": {
      "text/plain": [
       "<module 'FermionSystem' from 'C:\\\\Users\\\\btenhaaf\\\\Documents\\\\Packages\\\\FermSystem\\\\FermionSystem.py'>"
      ]
     },
     "execution_count": 89,
     "metadata": {},
     "output_type": "execute_result"
    }
   ],
   "source": [
    "reload(fst)"
   ]
  },
  {
   "cell_type": "code",
   "execution_count": 94,
   "id": "c3cf3a73-89c8-4854-a8da-aefaffa955bb",
   "metadata": {},
   "outputs": [
    {
     "data": {
      "text/markdown": [
       "**Method: Sparse**"
      ],
      "text/plain": [
       "<IPython.core.display.Markdown object>"
      ]
     },
     "metadata": {},
     "output_type": "display_data"
    },
    {
     "name": "stdout",
     "output_type": "stream",
     "text": [
      "Odd ground state energy: -28.284\n",
      "Odd ground state: (-0.21+0.454j)|↓,0,0〉+(0.297-0.642j)|0,↓,0〉(-0.21+0.454j)|0,0,↓〉\n",
      "\n",
      "Even ground state energy: -28.284\n",
      "Even ground state: +(0.374+0.332j)|↓,↓,0〉(-0.529-0.47j)|↓,0,↓〉+(0.374+0.332j)|0,↓,↓〉\n",
      "\n",
      "________________\n"
     ]
    },
    {
     "data": {
      "text/markdown": [
       "**Method: Linalg**"
      ],
      "text/plain": [
       "<IPython.core.display.Markdown object>"
      ]
     },
     "metadata": {},
     "output_type": "display_data"
    },
    {
     "name": "stdout",
     "output_type": "stream",
     "text": [
      "Odd ground state energy: -28.284\n",
      "Odd ground state: -0.5|↓,0,0〉+0.707|0,↓,0〉-0.5|0,0,↓〉\n",
      "\n",
      "Even ground state energy: -28.284\n",
      "Even ground state: -0.5|↓,↓,0〉+0.707|↓,0,↓〉-0.5|0,↓,↓〉\n",
      "\n"
     ]
    }
   ],
   "source": [
    "# An additional class (ParitySystem) is relevant for cases where a division of the fock states \n",
    "# into odd and even parity sectors is desired (i.e.: the Kitaev chain)\n",
    "N=3\n",
    "\n",
    "## Dictionary with all relevant parameters\n",
    "## Parameter names used here are arbitrary, a function is required to link them to the correct 'operators' ('map_H_params_Kitaev' in this case)\n",
    "H_params = {\n",
    "    'd_dd': [0]*(N-1),'d_uu': [0]*(N-1),'d_ud': [20]*(N-1),'d_du': [20]*(N-1),\n",
    "    't_dd': [20]*(N-1),'t_uu': [20]*(N-1),'t_ud': [0]*(N-1),'t_du': [0]*(N-1),\n",
    "    'mu': [0]*N,'Ez': [0]*N,'U': [0]*N,\n",
    "}\n",
    "fs = fst.FermionSystem(N)\n",
    "\n",
    "## Generate a list of all relevant operators for the Kitaev chain (with interactions)\n",
    "## This is just a list with lists of integers representing the operator sequences\n",
    "generate_kitaev_hamiltonian = partial(kt.make_kitaev_hamiltonian,fs)\n",
    "\n",
    "## Links operators to understandable parameter names\n",
    "generate_mapping = partial(kt.map_H_params_kitaev,fs,H_params)\n",
    "\n",
    "## Create a ParitySystem (builds on FermionSystem): seperates the fock states into odd and even parity states \n",
    "## and applies the provided Hamiltonian to calculate non-zero terms for later use\n",
    "chain = fst.ParitySystem(N = N, H_generator=generate_kitaev_hamiltonian,H_mapping = generate_mapping, Ez_inf = True, U_inf=True, sparse_function = hamiltonian_matvec)\n",
    "\n",
    "## Once chain is constructed, can use solve_system to get eigenvalues and eigenvector\n",
    "## Two methods are included:\n",
    "## 'linalg' -> uses numpy's linalg.eigh, requires constructing the matrix\n",
    "## 'sparse' -> uses scipy's LinearOperator class, does not require explicitly filling a matrix\n",
    "##             returns the lowest N eigenvalues and eigenvectors (set by 'n_values')\n",
    "##             The method is faster for N>4, if only a small number of eigenvalues are needed\n",
    "display(Markdown(\"**Method: Sparse**\"))\n",
    "E_odd,E_even, phi_odd,phi_even = chain.solve_system(method='sparse', n_values=2)\n",
    "print(f\"Odd ground state energy: {np.round(E_odd[0],3)}\")\n",
    "print(f\"Odd ground state: {chain.vis_state_list(chain.odd_states,phi_odd[0])}\\n\")\n",
    "print(f\"Even ground state energy: {np.round(E_even[0],3)}\")\n",
    "print(f\"Even ground state: {chain.vis_state_list(chain.even_states,phi_even[0])}\\n\")\n",
    "print(\"________________\")\n",
    "display(Markdown(\"**Method: Linalg**\"))\n",
    "E_odd,E_even, phi_odd,phi_even = chain.solve_system(method='linalg')\n",
    "print(f\"Odd ground state energy: {np.round(E_odd[0],3)}\")\n",
    "print(f\"Odd ground state: {chain.vis_state_list(chain.odd_states,phi_odd[0])}\\n\")\n",
    "print(f\"Even ground state energy: {np.round(E_even[0],3)}\")\n",
    "print(f\"Even ground state: {chain.vis_state_list(chain.even_states,phi_even[0])}\\n\")"
   ]
  },
  {
   "cell_type": "code",
   "execution_count": 95,
   "id": "26b694bb-81cb-4750-93c4-c143fb13c5e4",
   "metadata": {},
   "outputs": [
    {
     "name": "stdout",
     "output_type": "stream",
     "text": [
      "(ground) (even)      E = -28.28     |φ〉= +0.707|0,0〉+0.5|↑,↓〉-0.5|↓,↑〉\n",
      "(excited) (odd)      E = -20.00     |φ〉= -0.707|↓,0〉+0.707|0,↓〉\n",
      "(excited) (odd)      E = -20.00     |φ〉= +0.707|↑,0〉-0.707|0,↑〉\n",
      "(excited) (even)     E = 0.00       |φ〉= +1.0|↓,↓〉\n",
      "(excited) (even)     E = 0.00       |φ〉= +1.0|↑,↑〉\n",
      "(excited) (even)     E = 0.00       |φ〉= +0.707|↑,↓〉+0.707|↓,↑〉\n",
      "(excited) (odd)      E = 20.00      |φ〉= +0.707|↑,0〉+0.707|0,↑〉\n",
      "(excited) (odd)      E = 20.00      |φ〉= -0.707|↓,0〉-0.707|0,↓〉\n",
      "(excited) (even)     E = 28.28      |φ〉= +0.707|0,0〉-0.5|↑,↓〉+0.5|↓,↑〉\n"
     ]
    }
   ],
   "source": [
    "## To show all eigenstates and solutions:\n",
    "chain = kt.make_kitaev_chain(2, H_params, Ez_inf = False, U_inf=True) # shortcut for the Kitaev chain construction\n",
    "chain.eigenstates(only_ground_states=False,only_energies=False)"
   ]
  },
  {
   "cell_type": "code",
   "execution_count": 96,
   "id": "b4248609-73a6-4c3d-83bb-2b7bff32035b",
   "metadata": {},
   "outputs": [
    {
     "name": "stdout",
     "output_type": "stream",
     "text": [
      "Basis: |0,0〉, |↓,↓〉, |↑,↓〉, |↓,↑〉, |↑,↑〉\n"
     ]
    },
    {
     "data": {
      "image/png": "[encoded data removed]",
      "text/plain": [
       "<Figure size 416.667x416.667 with 1 Axes>"
      ]
     },
     "metadata": {},
     "output_type": "display_data"
    }
   ],
   "source": [
    "## For small Hamiltonians and debugging: print a symbolic Hamiltonian (only shows non-diagonal terms)\n",
    "\n",
    "chain = kt.make_kitaev_chain(2, H_params, Ez_inf = False, U_inf=True) # shortcut for the Kitaev chain construction\n",
    "#chain.eigenstates(only_ground_states=False,only_energies=False)\n",
    "chain.show_hamiltonian(parity = 'even')"
   ]
  },
  {
   "cell_type": "code",
   "execution_count": 97,
   "id": "0936bc98-51e6-4909-8c8d-6e46d55caf63",
   "metadata": {},
   "outputs": [
    {
     "name": "stdout",
     "output_type": "stream",
     "text": [
      "Updated to have value of 5 for mu_0_down:\n",
      "Basis: |0,0〉, |↓,↓〉, |↑,↓〉, |↓,↑〉, |↑,↑〉\n"
     ]
    },
    {
     "data": {
      "image/png": "[encoded data removed]",
      "text/plain": [
       "<Figure size 416.667x416.667 with 1 Axes>"
      ]
     },
     "metadata": {},
     "output_type": "display_data"
    }
   ],
   "source": [
    "## The hamiltonian parameters can be updated without having to redo the entire matrix\n",
    "chain = kt.make_kitaev_chain(2, H_params, Ez_inf = False, U_inf=True, make_arrays=True) # shortcut for the Kitaev chain construction\n",
    "chain.update_H_param_list(['mu_d_0'], 5, update_matrix=True)\n",
    "print(\"Updated to have value of 5 for mu_0_down:\")\n",
    "chain.show_hamiltonian(parity = 'even', numeric=True)\n"
   ]
  },
  {
   "cell_type": "markdown",
   "id": "ac8ba994-5d68-4a88-868f-55e89e2cab5b",
   "metadata": {},
   "source": [
    "## Energy Spectrum "
   ]
  },
  {
   "cell_type": "code",
   "execution_count": 98,
   "id": "02cad640-ab66-4e44-9d54-70ef878f67a3",
   "metadata": {},
   "outputs": [
    {
     "name": "stderr",
     "output_type": "stream",
     "text": [
      "<>:13: SyntaxWarning: invalid escape sequence '\\d'\n",
      "<>:13: SyntaxWarning: invalid escape sequence '\\d'\n",
      "C:\\Users\\btenhaaf\\AppData\\Local\\Temp\\ipykernel_4464\\1487836875.py:13: SyntaxWarning: invalid escape sequence '\\d'\n",
      "  ax.set_xlabel('$\\delta \\mu$')\n",
      "100%|███████████████████████████████████████████████████████████████████████████████| 100/100 [00:00<00:00, 143.41it/s]\n"
     ]
    },
    {
     "data": {
      "image/png": "[encoded data removed]",
      "text/plain": [
       "<Figure size 1100x250 with 5 Axes>"
      ]
     },
     "metadata": {},
     "output_type": "display_data"
    }
   ],
   "source": [
    "## To calculate a simplified energy spectrum (for comparing to finite bias conductace measurements)\n",
    "## the function'energy_spectrum' extracts transitions and probablities for transitions \n",
    "## between even and odd ground states to excited states. \n",
    "## This gives a simplified representation, but provides speed over solving the rate equation (below)\n",
    "\n",
    "N = 5\n",
    "\n",
    "## Create Figure\n",
    "fig, axs = plt.subplots(ncols = N, figsize = (N*2.2, 2.5))\n",
    "for ax in axs:\n",
    "    ax.grid(False)\n",
    "    ax.set_ylim ([-150,150])\n",
    "    ax.set_xlabel('$\\\\delta \\\\mu$')\n",
    "    ax.set_ylabel('$E_{T}$')\n",
    "\n",
    "\n",
    "## Set parameters\n",
    "H_params = {\n",
    "    'd_dd': [20]*(N-1),'d_uu': [20]*(N-1),'d_ud': [20]*(N-1),'d_du': [20]*(N-1),\n",
    "    't_dd': [20]*(N-1),'t_uu': [20]*(N-1),'t_ud': [0]*(N-1),'t_du': [0]*(N-1),\n",
    "    'mu': [0]*N,'Ez': [0]*N,'U': [0]*N,\n",
    "}\n",
    "\n",
    "## Create chain\n",
    "chain = kt.make_kitaev_chain(N,H_params, Ez_inf=True,U_inf=True, make_arrays=True, sparse_function =hamiltonian_matvec)\n",
    "\n",
    "## Range and parameters to vary \n",
    "mu_range = np.linspace(-100,100,100)\n",
    "vary_params =  [f'mu_d_{i}' for i in range(chain.N) ] + [f'mu_u_{i}' for i in range(chain.N)] # All mu_down parameters int he chain\n",
    "\n",
    "## PLot energy spectrum for all sites\n",
    "timed = 0\n",
    "kt.energy_spectrum(chain, vary_params, mu_range, range(N), fig, axs, plot=True)\n",
    "plt.tight_layout()"
   ]
  },
  {
   "cell_type": "markdown",
   "id": "216d34eb-a5fa-4dcf-97e7-6865e24dc5f4",
   "metadata": {},
   "source": [
    "## Conductance from rate equation"
   ]
  },
  {
   "cell_type": "code",
   "execution_count": 99,
   "id": "107c9448-825c-4f55-bb72-57d66e19d58d",
   "metadata": {},
   "outputs": [],
   "source": [
    "lead_params = {\n",
    "    'gammas': [0.001],\n",
    "    'kBT':0.002,\n",
    "    'dV':0.001\n",
    "}"
   ]
  },
  {
   "cell_type": "code",
   "execution_count": 100,
   "id": "9b1de908-598c-44d7-8917-1a2b2846447d",
   "metadata": {},
   "outputs": [
    {
     "name": "stderr",
     "output_type": "stream",
     "text": [
      "100%|████████████████████████████████████████████████████████████████████████████████| 100/100 [00:56<00:00,  1.76it/s]\n"
     ]
    },
    {
     "data": {
      "image/png": "[encoded data removed]",
      "text/plain": [
       "<Figure size 1250x200 with 10 Axes>"
      ]
     },
     "metadata": {},
     "output_type": "display_data"
    }
   ],
   "source": [
    "N = 5\n",
    "H_params = {\n",
    "    'd_dd': [20e-3]*(N-1),'d_uu': [20e-3]*(N-1),'d_ud': [0]*(N-1),'d_du': [0]*(N-1),\n",
    "    't_dd': [20e-3]*(N-1),'t_uu': [20e-3]*(N-1),'t_ud': [0]*(N-1),'t_du': [0]*(N-1),\n",
    "    'mu': [0]*N,'Ez': [0]*N,'U': [0]*N,\n",
    "}\n",
    "chain = kt.make_kitaev_chain(N, H_params, Ez_inf = True, U_inf=True, make_arrays=True, sparse_function=hamiltonian_matvec) # shortcut for the Kitaev chain construction\n",
    "\n",
    "vary_params = [f'mu_d_{i}' for i in range(N)] + [f'mu_u_{i}' for i in range(N)]\n",
    "param_range = np.linspace(-100e-3,100e-3,100)\n",
    "bias_range = np.linspace(-100e-3,100e-3,100)\n",
    "\n",
    "## When getting conductance, can truncate the number of eigenvectors to pass to the rate equation (given by n_values)\n",
    "lead_params['gammas'] = [0.001]*N\n",
    "Gs_dataset = kt.conductance_spectrum(chain, vary_params, param_range,bias_range, sites = [i for i in range(N)], lead_params = lead_params, plot=True, method='linalg', n_values = 30)\n"
   ]
  },
  {
   "cell_type": "code",
   "execution_count": 101,
   "id": "e3c2717a-1b32-40dc-ba5b-7379d47e624b",
   "metadata": {},
   "outputs": [
    {
     "name": "stderr",
     "output_type": "stream",
     "text": [
      "100%|██████████████████████████████████████████████████████████████████████████████████| 80/80 [00:08<00:00,  9.07it/s]\n"
     ]
    },
    {
     "data": {
      "image/png": "[encoded data removed]",
      "text/plain": [
       "<Figure size 500x200 with 4 Axes>"
      ]
     },
     "metadata": {},
     "output_type": "display_data"
    }
   ],
   "source": [
    "N = 2\n",
    "H_params = {\n",
    "    'd_dd': [0e-3]*(N-1),'d_uu': [0e-3]*(N-1),'d_ud': [20e-3]*(N-1),'d_du': [20e-3]*(N-1),\n",
    "    't_dd': [np.sqrt(2)*20e-3]*(N-1),'t_uu': [np.sqrt(2)*20e-3]*(N-1),'t_ud': [0]*(N-1),'t_du': [0]*(N-1),\n",
    "    'mu': [0]*N,'Ez': [0]*N,'U': [0]*N,\n",
    "}\n",
    "\n",
    "chain = kt.make_kitaev_chain(N, H_params, Ez_inf = False, U_inf=True, make_arrays=True, sparse_function=hamiltonian_matvec) # shortcut for the Kitaev chain construction\n",
    "\n",
    "vary_params = [f'mu_d_1','mu_u_1']\n",
    "param_range = np.linspace(-100e-3,100e-3,80)\n",
    "bias_range = np.linspace(-100e-3,100e-3,80)\n",
    "\n",
    "## When getting conductance, can truncate the number of eigenvectors to pass to the rate equation (given by n_values)\n",
    "lead_params['gammas'] = [0.001]*N\n",
    "Gs_dataset = kt.conductance_spectrum(chain, vary_params, param_range,bias_range, sites = [i for i in range(N)], lead_params =  lead_params, plot=True, method='linalg', n_values = 50)\n"
   ]
  },
  {
   "cell_type": "code",
   "execution_count": 102,
   "id": "dfb6060a-490e-4f3d-876b-fe7ff9a35044",
   "metadata": {},
   "outputs": [
    {
     "name": "stderr",
     "output_type": "stream",
     "text": [
      "100%|██████████████████████████████████████████████████████████████████████████████████| 80/80 [00:16<00:00,  4.79it/s]\n"
     ]
    },
    {
     "data": {
      "image/png": "[encoded data removed]",
      "text/plain": [
       "<Figure size 400x400 with 4 Axes>"
      ]
     },
     "metadata": {},
     "output_type": "display_data"
    }
   ],
   "source": [
    "fig,axs = plt.subplots(ncols=2,nrows=2, figsize = (4,4))\n",
    "for ax_row in axs:\n",
    "    for ax in ax_row:\n",
    "        ax.set_xlabel('$\\\\mu_0$')\n",
    "        ax.set_ylabel('$\\\\mu_1$')\n",
    "\n",
    "## Set up a Kitaev chain\n",
    "N=2\n",
    "H_params = {\n",
    "    'd_dd': [30e-3]*(N-1),'d_uu': [30e-3]*(N-1),'d_ud': [0]*(N-1),'d_du': [0]*(N-1),\n",
    "    't_dd': [30e-3]*(N-1),'t_uu': [30e-3]*(N-1),'t_ud': [0]*(N-1),'t_du': [0]*(N-1),\n",
    "    'mu': [0]*N,'Ez': [0]*N,'U': [0]*N,\n",
    "}\n",
    "chain = kt.make_kitaev_chain(N,H_params, Ez_inf=True,U_inf=True, make_arrays=True)\n",
    "\n",
    "## Select parameters and ranges\n",
    "x_range = np.linspace(-100e-3,100e-3, 80)\n",
    "y_range = np.linspace(-100e-3,100e-3, 80)\n",
    "\n",
    "## Instruct to vary mu_0 vs mu_1\n",
    "vary_x = ['mu_d_0']\n",
    "vary_y = ['mu_d_1']\n",
    "sites = [0,1]\n",
    "\n",
    "lead_params['gammas'] = [0.001]*N\n",
    "results = kt.charge_stability_diagram(chain,vary_x,x_range, vary_y,y_range,sites=sites,lead_params=lead_params,method='linalg')\n",
    "count = 0\n",
    "for i in range(len(sites)):\n",
    "    for j in range(len(sites)):\n",
    "        if i != j:\n",
    "            axs[i][j].pcolormesh(results[f'G_{sites[i]}{sites[j]}'], cmap='RdBu_r')\n",
    "        else:\n",
    "            vmax = np.max(results[f'G_{sites[i]}{sites[j]}'])\n",
    "            axs[i][j].pcolormesh(results[f'G_{sites[i]}{sites[j]}'], cmap='RdBu_r',vmin=-vmax,vmax=vmax)\n",
    "\n",
    "plt.tight_layout()\n"
   ]
  },
  {
   "cell_type": "markdown",
   "id": "ed89811b-5051-4546-9ddc-863ccfad50c9",
   "metadata": {},
   "source": [
    "## Odd-Even Phase Space"
   ]
  },
  {
   "cell_type": "code",
   "execution_count": 108,
   "id": "79f7f29e-e244-4327-acdc-74853b617598",
   "metadata": {},
   "outputs": [
    {
     "name": "stderr",
     "output_type": "stream",
     "text": [
      "100%|████████████████████████████████████████████████████████████████████████████████| 150/150 [00:10<00:00, 14.31it/s]\n"
     ]
    },
    {
     "data": {
      "text/plain": [
       "[<matplotlib.lines.Line2D at 0x296c958e300>]"
      ]
     },
     "execution_count": 108,
     "metadata": {},
     "output_type": "execute_result"
    },
    {
     "data": {
      "image/png": "[encoded data removed]",
      "text/plain": [
       "<Figure size 400x400 with 1 Axes>"
      ]
     },
     "metadata": {},
     "output_type": "display_data"
    }
   ],
   "source": [
    "N=3\n",
    "phi = np.arccos(-1/4)\n",
    "delta= 30\n",
    "\n",
    "H_params = {\n",
    "    'd_dd': [0]*(N-1),'d_uu': [0]*(N-1),'d_ud': [delta,delta*(np.exp(-1j*phi))],'d_du': [delta,delta*np.exp(-1j*phi)],\n",
    "    't_dd': [40e-3]*(N-1),'t_uu': [40e-3]*(N-1),'t_ud': [0]*(N-1),'t_du': [0]*(N-1),\n",
    "    'mu': [0]*N,'Ez': [0]*N,'U': [0]*N,\n",
    "}\n",
    "chain = kt.make_kitaev_chain(N,H_params, Ez_inf=False,U_inf=True, make_arrays=True,sparse_function = hamiltonian_matvec)\n",
    "\n",
    "## Select parameters and ranges\n",
    "mu_range = np.array(np.linspace(-60,60,150))\n",
    "t_range = np.linspace(0,2*delta, 150)\n",
    "\n",
    "## Instruct to vary all mu parameters and all t parameters\n",
    "vary_mu = [f'mu_d_{i}' for i in range(N)] + [f'mu_u_{i}' for i in range(N)]\n",
    "vary_t = [f't_uu_{i}' for i in range(N-1)] + [f't_dd_{i}' for i in range(N-1)] \n",
    "\n",
    "## Calculate energy differences\n",
    "results = np.array(kt.phase_space(chain,vary_t,t_range, vary_mu, mu_range,T=1,disable=False)[0])\n",
    "\n",
    "res_array = np.zeros(np.shape(results))\n",
    "threshhold = 0.001\n",
    "pos = np.where(results > threshhold)\n",
    "neg = np.where(results < -threshhold)\n",
    "res_array[pos]=1\n",
    "res_array[neg]=-1\n",
    "\n",
    "fig,ax = plt.subplots(ncols=1,nrows=1,figsize=(4,4))\n",
    "ax.pcolormesh(t_range,mu_range,res_array,cmap='RdBu_r',shading='auto')\n",
    "ax.set_title('Odd/Even GS phase diagram, $\\\\phi$='+f'{phi}')\n",
    "ax.set_xlabel('t/$\\\\Delta$')\n",
    "ax.set_ylabel('$\\\\mu$/$\\\\Delta$')\n",
    "ax.plot([0,60],[0,0],linestyle='dashed',color='black')\n",
    "ax.plot([np.sqrt(2)*delta, np.sqrt(2)*delta],[-60,60],color='black',linestyle='dashed')"
   ]
  },
  {
   "cell_type": "code",
   "execution_count": null,
   "id": "1d7049fc-22ba-4e15-9f6f-27aa33e0d903",
   "metadata": {},
   "outputs": [],
   "source": []
  }
 ],
 "metadata": {
  "kernelspec": {
   "display_name": "Python 3 (ipykernel)",
   "language": "python",
   "name": "python3"
  },
  "language_info": {
   "codemirror_mode": {
    "name": "ipython",
    "version": 3
   },
   "file_extension": ".py",
   "mimetype": "text/x-python",
   "name": "python",
   "nbconvert_exporter": "python",
   "pygments_lexer": "ipython3",
   "version": "3.12.8"
  }
 },
 "nbformat": 4,
 "nbformat_minor": 5
}
