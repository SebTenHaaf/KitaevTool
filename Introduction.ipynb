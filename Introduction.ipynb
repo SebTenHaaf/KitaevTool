{
 "cells": [
  {
   "cell_type": "markdown",
   "id": "c6a27df3",
   "metadata": {},
   "source": [
    "## Definitions & Imports"
   ]
  },
  {
   "cell_type": "code",
   "execution_count": null,
   "id": "a658b06a",
   "metadata": {},
   "outputs": [],
   "source": [
    "from functools import partial\n",
    "\n",
    "import numpy as np\n",
    "import matplotlib.pyplot as plt\n",
    "\n",
    "from IPython.display import display, Markdown"
   ]
  },
  {
   "cell_type": "code",
   "execution_count": null,
   "id": "3c4a0ff0",
   "metadata": {},
   "outputs": [],
   "source": [
    "## Custom functions\n",
    "import FermionSystem as fst\n",
    "import KitaevTools as kt"
   ]
  },
  {
   "cell_type": "code",
   "execution_count": null,
   "id": "7ecce775",
   "metadata": {},
   "outputs": [],
   "source": [
    "def printmd(item):\n",
    "    display(Markdown(item._repr_markdown_()))"
   ]
  },
  {
   "cell_type": "markdown",
   "id": "bb03a57f",
   "metadata": {},
   "source": [
    "## Additional Functions"
   ]
  },
  {
   "cell_type": "code",
   "execution_count": null,
   "id": "bb55f1a9",
   "metadata": {},
   "outputs": [],
   "source": [
    "%load_ext cython"
   ]
  },
  {
   "cell_type": "code",
   "execution_count": null,
   "id": "072cfa39",
   "metadata": {},
   "outputs": [],
   "source": [
    "%%cython\n",
    "## For speed, using cython here to define the hamiltonian function utilised\n",
    "## by the sparse solver.\n",
    "## Should ideally be placed inside the FermionSystem file but did not yet figure out\n",
    "## how to generate the c code (platform independently) inside the .py file\n",
    "\n",
    "## TO DO: find out how to use this when the values are complex\n",
    "\n",
    "import numpy as np\n",
    "cimport numpy as cnp\n",
    "\n",
    "def hamiltonian_matvec(\n",
    "    cnp.ndarray[double complex, ndim=1] x,\n",
    "    cnp.ndarray[int, ndim=1] rows,\n",
    "    cnp.ndarray[int, ndim=1] cols,\n",
    "    cnp.ndarray[double complex, ndim=1] vals\n",
    "):\n",
    "    cdef int r, c, i\n",
    "    cdef double complex v\n",
    "    cdef cnp.ndarray[double complex, ndim=1] result = np.zeros_like(x)\n",
    "    cdef int n = rows.shape[0]\n",
    "\n",
    "    for i in range(n):\n",
    "        r = rows[i]\n",
    "        c = cols[i]\n",
    "        v = vals[i]\n",
    "        result[r] = result[r] + v * x[c]\n",
    "        result[c] = result[c] + v * x[r]\n",
    "    return result"
   ]
  },
  {
   "cell_type": "markdown",
   "id": "6cfbeffe",
   "metadata": {},
   "source": [
    "# Basic Functions"
   ]
  },
  {
   "cell_type": "markdown",
   "id": "2f5d7611",
   "metadata": {},
   "source": [
    "## States and Operators"
   ]
  },
  {
   "cell_type": "code",
   "execution_count": null,
   "id": "55106cc6",
   "metadata": {},
   "outputs": [],
   "source": [
    "## FermionSystem provides functions for acting with 'operators' on Fock states using binary operations\n",
    "## where both states and operators are represented by integers.\n",
    "## Requires specifying the number of fermionic sites N:\n",
    "N = 2\n",
    "fs = fst.FockSystemBase(N)\n",
    "\n",
    "## Each integer represents a fock state in binary, where each site covers two bits (00 = 0, 01 = down, 10 = up, 11 = up+down)\n",
    "fs.vis_state(0, displ=True)\n",
    "fs.vis_state(1, displ=True)\n",
    "fs.vis_state(2, displ=True)\n",
    "fs.vis_state(3, displ=True)\n",
    "fs.vis_state(0b100, displ=True)\n",
    "fs.vis_state(0b111, displ=True)\n",
    "fs.vis_state(0b1111, displ=True)\n",
    "\n",
    "## The size of the system N is only relevant for the logic related to the operators\n",
    "## Integers exceeding the largest possible state still just exist, but\n",
    "## an operator acting on it will only be able to act on the first N sites\n",
    "fs.vis_state(2000, displ=True)"
   ]
  },
  {
   "cell_type": "code",
   "execution_count": null,
   "id": "3262f20c",
   "metadata": {},
   "outputs": [],
   "source": [
    "## Operators are similarly represented by integers, storing the position on the fock state to act on\n",
    "## + a bit specifying if the operator is creation or annihilation.\n",
    "## The largest bit sets the purpose, such that creation operators are always larger numbers than annihilation operators (for sorting in normal order)\n",
    "\n",
    "# operator to create a spin up in site 1:\n",
    "operator = fs.operator(\"creation\", 1, \"up\")\n",
    "display(\n",
    "    Markdown(\n",
    "        f\"Created operator {fs.vis_oper(operator)}, represented by the number: {operator}\"\n",
    "    )\n",
    ")"
   ]
  },
  {
   "cell_type": "markdown",
   "id": "11135f46",
   "metadata": {},
   "source": [
    "## Acting on states"
   ]
  },
  {
   "cell_type": "code",
   "execution_count": null,
   "id": "f9168e55",
   "metadata": {},
   "outputs": [],
   "source": [
    "# The action of operators on fock states is handled by 'act_oper', returning the new states and the signs\n",
    "operator = fs.operator(\"creation\", 1, \"up\")\n",
    "state = 0b111\n",
    "\n",
    "new_state, sign = fs.act_oper(operator, np.array([state]))\n",
    "display(\n",
    "    Markdown(\n",
    "        f'{fs.vis_oper(operator)}{fs.vis_state(state)} = {\"-\" if sign[0] ==-1 else \"\"}{fs.vis_state(new_state[0])}'\n",
    "    )\n",
    ")"
   ]
  },
  {
   "cell_type": "code",
   "execution_count": null,
   "id": "947ddf77",
   "metadata": {},
   "outputs": [],
   "source": [
    "# A sequence of operators is represented as a list of ints\n",
    "# Applying the sequence to states uses fs.act_oper_list, which returns only states that are not destroyed by the sequence\n",
    "fs = fst.FockSystemBase(3)\n",
    "\n",
    "oper_1 = fs.operator(\"creation\", 0, \"up\")\n",
    "oper_2 = fs.operator(\"creation\", 1, \"up\")\n",
    "CAR_up_up = [oper_2, oper_1]\n",
    "\n",
    "## Here: applying the CAR operator to the list of all possible Fock states\n",
    "old_states, new_states, signs = fs.act_oper_list(CAR_up_up, np.arange(2**6))\n",
    "\n",
    "## Show results of the operation\n",
    "display(\n",
    "    Markdown(f\"Non-zero terms for operator {fs.vis_oper_list(CAR_up_up,displ=False)}\")\n",
    ")\n",
    "for state, new_state, parity in zip(old_states, new_states, signs):\n",
    "    if parity == 1:\n",
    "        display(\n",
    "            Markdown(\n",
    "                f\"{fs.vis_oper_list(CAR_up_up)}{fs.vis_state(state)} = {fs.vis_state(new_state)}\"\n",
    "            )\n",
    "        )\n",
    "    else:\n",
    "        display(\n",
    "            Markdown(\n",
    "                f\"{fs.vis_oper_list(CAR_up_up)}{fs.vis_state(state)} = -{fs.vis_state(new_state)}\"\n",
    "            )\n",
    "        )"
   ]
  },
  {
   "cell_type": "markdown",
   "id": "65763843",
   "metadata": {},
   "source": [
    "## Convert between states/operators"
   ]
  },
  {
   "cell_type": "code",
   "execution_count": null,
   "id": "86962449",
   "metadata": {},
   "outputs": [],
   "source": [
    "## Convert from a state to the creation operators\n",
    "\n",
    "fs = fst.FockSystemBase(N=4)\n",
    "state = 0b11011001\n",
    "\n",
    "opers = fs.state_to_oper_list(state)\n",
    "display(Markdown(f\"{fs.vis_state(state)} = {fs.vis_oper_list(opers)}{fs.vis_state(0)}\"))"
   ]
  },
  {
   "cell_type": "markdown",
   "id": "c9fce620",
   "metadata": {},
   "source": [
    "## Normal Ordering"
   ]
  },
  {
   "cell_type": "code",
   "execution_count": null,
   "id": "320afb98",
   "metadata": {},
   "outputs": [],
   "source": [
    "## Normal ordering of the states requires sorting the list of operators (integers) in size\n",
    "## This is now done with a bubble sort, which straightforwardly allows tracking the number of swaps\n",
    "\n",
    "fs = fst.FockSystemBase(N=3)\n",
    "\n",
    "## Example of an non-ordered list of operators:\n",
    "oper_list = [\n",
    "    fs.operator(\"creation\", 1, \"up\"),\n",
    "    fs.operator(\"annihilation\", 0, \"down\"),\n",
    "    fs.operator(\"creation\", 1, \"down\"),\n",
    "    fs.operator(\"creation\", 2, \"down\"),\n",
    "]\n",
    "display(Markdown(f\"Original sequence: {fs.vis_oper_list(oper_list)} ({oper_list})\"))\n",
    "\n",
    "## Retrieving the list in order + the sign\n",
    "normal_ordered, sign = fs.normal_order_naive(oper_list)\n",
    "display(\n",
    "    Markdown(\n",
    "        f'Normal order: {\"-\" if sign < 1 else \"\"}{fs.vis_oper_list(normal_ordered)} ({normal_ordered})'\n",
    "    )\n",
    ")"
   ]
  },
  {
   "cell_type": "markdown",
   "id": "72ac6c73",
   "metadata": {},
   "source": [
    "## Bra-Kets"
   ]
  },
  {
   "cell_type": "code",
   "execution_count": null,
   "id": "3b03c101",
   "metadata": {
    "lines_to_end_of_cell_marker": 2
   },
   "outputs": [],
   "source": [
    "## <phi|(operators)|phi> matrices can be calculated with bra_oper_ket function\n",
    "## Where (phi) is an array storign the weights of the system eigenvectors\n",
    "\n",
    "fs = fst.FockSystemBase(N=2)\n",
    "states = fs.fock_states\n",
    "\n",
    "## Phi are the weights of the eigenstates. For this example just the I matrix\n",
    "phi = np.zeros((len(states), len(states)))\n",
    "np.fill_diagonal(phi, 1)\n",
    "\n",
    "## Make an operator list. This simple example returns a matrix representing which Fock states are connected by CAR_down_down\n",
    "CAR_down_down = [fs.operator(\"creation\", 0, \"down\"), fs.operator(\"creation\", 1, \"down\")]\n",
    "operators = [fs.normal_order_naive(CAR_down_down)[0]]\n",
    "\n",
    "## Calculate matrix\n",
    "M = fs.bra_oper_ket(states, phi, operators)\n",
    "\n",
    "## Visualize outcome\n",
    "non_zero_terms = np.where(M != 0)\n",
    "for row, col in zip(non_zero_terms[0], non_zero_terms[1]):\n",
    "    display(\n",
    "        Markdown(\n",
    "            f'{fs.vis_oper_list(CAR_down_down)}{fs.vis_state(col)} = {\"-\" if M[row][col]<0 else \"\"}{fs.vis_state(row)}'\n",
    "        )\n",
    "    )"
   ]
  },
  {
   "cell_type": "markdown",
   "id": "9afb3258",
   "metadata": {},
   "source": [
    "# OperSequence -> multiplication, addition etc"
   ]
  },
  {
   "cell_type": "code",
   "execution_count": null,
   "id": "4ecab072",
   "metadata": {},
   "outputs": [],
   "source": [
    "## The OperSequence wrapper class is included for visualisation and construction of more complicated operators."
   ]
  },
  {
   "cell_type": "code",
   "execution_count": null,
   "id": "bbd4f825",
   "metadata": {},
   "outputs": [],
   "source": [
    "# Wrapping simple operators in OperSequence allows for constructing more complicated obejcts\n",
    "c_up = fst.FockOperSequence([[fs.op(\"cr\", 0, \"up\")]])\n",
    "c_dwn = fst.FockOperSequence([[fs.op(\"cr\", 0, \"dwn\")]])\n",
    "a_up = fst.FockOperSequence([[fs.op(\"a\", 0, \"up\")]])\n",
    "a_dwn = fst.FockOperSequence([[fs.op(\"a\", 0, \"dwn\")]])"
   ]
  },
  {
   "cell_type": "code",
   "execution_count": null,
   "id": "be63ebe2",
   "metadata": {},
   "outputs": [],
   "source": [
    "## Addition\n",
    "maj = c_up + a_up\n",
    "maj"
   ]
  },
  {
   "cell_type": "code",
   "execution_count": null,
   "id": "e5ff6b5a",
   "metadata": {},
   "outputs": [],
   "source": [
    "## Subtraction\n",
    "maj = c_up - a_up\n",
    "maj"
   ]
  },
  {
   "cell_type": "code",
   "execution_count": null,
   "id": "1758146d",
   "metadata": {},
   "outputs": [],
   "source": [
    "## Assigns weights\n",
    "ex > [2, 2j]"
   ]
  },
  {
   "cell_type": "code",
   "execution_count": null,
   "id": "a3de402b",
   "metadata": {},
   "outputs": [],
   "source": [
    "## Shift all operators to another site\n",
    "c_up >> 3"
   ]
  },
  {
   "cell_type": "code",
   "execution_count": null,
   "id": "363f0cf7",
   "metadata": {},
   "outputs": [],
   "source": [
    "## Exponentation\n",
    "ex = c_up + a_up\n",
    "ex**2"
   ]
  },
  {
   "cell_type": "code",
   "execution_count": null,
   "id": "41879538",
   "metadata": {},
   "outputs": [],
   "source": [
    "## Multiplication\n",
    "2 * c_up * c_dwn"
   ]
  },
  {
   "cell_type": "code",
   "execution_count": null,
   "id": "e40cb0a3",
   "metadata": {},
   "outputs": [],
   "source": [
    "## conjugation\n",
    "c_up > 1j  # assign complex weight as example\n",
    "~c_up"
   ]
  },
  {
   "cell_type": "markdown",
   "id": "ed6abb77",
   "metadata": {},
   "source": [
    "## More complex example"
   ]
  },
  {
   "cell_type": "code",
   "execution_count": null,
   "id": "50648ab0",
   "metadata": {},
   "outputs": [],
   "source": [
    "## Create in one go a more complex string of operators\n",
    "an, cr, up, dwn = \"a\", \"c\", \"u\", \"d\"\n",
    "weights = [1j, -1, 1, -1, 1j, -1j]\n",
    "operators = [\n",
    "    [fs.op(an, 0, up), fs.op(cr, 0, up), fs.op(an, 0, dwn)],\n",
    "    [fs.op(an, 0, dwn), fs.op(cr, 0, dwn), fs.op(cr, 0, up)],\n",
    "    [fs.op(an, 0, up)],\n",
    "    [fs.op(an, 0, dwn), fs.op(cr, 0, dwn), fs.op(an, 0, up)],\n",
    "    [fs.op(cr, 0, dwn)],\n",
    "    [fs.op(an, 0, up), fs.op(cr, 0, up), fs.op(cr, 0, dwn)],\n",
    "]\n",
    "t = fst.FockOperSequence(operators, weights)"
   ]
  },
  {
   "cell_type": "code",
   "execution_count": null,
   "id": "063036c9",
   "metadata": {},
   "outputs": [],
   "source": [
    "t"
   ]
  },
  {
   "cell_type": "code",
   "execution_count": null,
   "id": "c76721e6",
   "metadata": {},
   "outputs": [],
   "source": [
    "t + t"
   ]
  },
  {
   "cell_type": "code",
   "execution_count": null,
   "id": "7a14ae38",
   "metadata": {},
   "outputs": [],
   "source": [
    "t**3"
   ]
  },
  {
   "cell_type": "code",
   "execution_count": null,
   "id": "638d3e95",
   "metadata": {},
   "outputs": [],
   "source": [
    "## Shift the site of all operators\n",
    "t_shifted = t >> 1"
   ]
  },
  {
   "cell_type": "code",
   "execution_count": null,
   "id": "ac5aeed0",
   "metadata": {},
   "outputs": [],
   "source": [
    "t_shifted * (~t)"
   ]
  },
  {
   "cell_type": "code",
   "execution_count": null,
   "id": "71bc26fe",
   "metadata": {},
   "outputs": [],
   "source": [
    "## Sanity check: the operator ^4 = -1"
   ]
  },
  {
   "cell_type": "code",
   "execution_count": null,
   "id": "1db91ae3",
   "metadata": {},
   "outputs": [],
   "source": [
    "t**4"
   ]
  },
  {
   "cell_type": "markdown",
   "id": "8a2506e5",
   "metadata": {},
   "source": [
    "# Constructing Hamiltonian"
   ]
  },
  {
   "cell_type": "code",
   "execution_count": null,
   "id": "d3b65645",
   "metadata": {},
   "outputs": [],
   "source": [
    "c_up = fst.FockOperSequence([[fs.op(\"cr\", 0, \"up\")]])\n",
    "c_dwn = fst.FockOperSequence([[fs.op(\"cr\", 0, \"dwn\")]])\n",
    "a_up = fst.FockOperSequence([[fs.op(\"a\", 0, \"up\")]])\n",
    "a_dwn = fst.FockOperSequence([[fs.op(\"a\", 0, \"dwn\")]])"
   ]
  },
  {
   "cell_type": "code",
   "execution_count": null,
   "id": "36a46353",
   "metadata": {},
   "outputs": [],
   "source": [
    "# Create down-down CAR and assign an initial value of 20\n",
    "CAR_dd = c_dwn * (c_dwn >> 1) > 20\n",
    "CAR_dd"
   ]
  },
  {
   "cell_type": "code",
   "execution_count": null,
   "id": "5fbc72c9",
   "metadata": {},
   "outputs": [],
   "source": [
    "## Create down-down ECT and assign an initial value of 20\n",
    "ECT_dd = c_dwn * (a_dwn >> 1) > 20\n",
    "ECT_dd"
   ]
  },
  {
   "cell_type": "code",
   "execution_count": null,
   "id": "9d574dcf",
   "metadata": {},
   "outputs": [],
   "source": [
    "## Create mu and assign a weight of 0\n",
    "mu_d = c_dwn * a_dwn > 0\n",
    "mu_d"
   ]
  },
  {
   "cell_type": "code",
   "execution_count": null,
   "id": "82de892c",
   "metadata": {},
   "outputs": [],
   "source": [
    "N = 2\n",
    "H_base = [\n",
    "    (CAR_dd, range(0, N - 1), \"d_dd\", \"\\u0394\"),\n",
    "    (ECT_dd, range(0, N - 1), \"t_dd\", \"t\"),\n",
    "    (mu_d, range(0, N), \"mu_d\", \"\\u03bc\"),\n",
    "]"
   ]
  },
  {
   "cell_type": "code",
   "execution_count": null,
   "id": "5a379119",
   "metadata": {},
   "outputs": [],
   "source": [
    "def create_H(H_base):\n",
    "    H_vals, H_types, H_symbols = {}, {}, {}\n",
    "    H_terms, H_signs = [], []\n",
    "    for h_basis in H_base:\n",
    "        base_opers = h_basis[0]\n",
    "        for i in h_basis[1]:\n",
    "            add_oper = base_opers >> i\n",
    "            oper_as_str = fs.oper_list_to_str(add_oper.oper_list[0])\n",
    "            H_vals[oper_as_str] = add_oper.weights[0]\n",
    "            H_symbols[oper_as_str] = \"$\" + h_basis[3] + \"^\" + f\"{i}\" + \"$\"\n",
    "            H_types[f\"{h_basis[2]}_{i}\"] = oper_as_str\n",
    "            H_terms.append(add_oper.oper_list[0])\n",
    "\n",
    "            sign = -1 if int(np.sign(add_oper.weights[0])) == -1 else 1\n",
    "            H_signs.append(sign)\n",
    "    return H_terms, H_signs, H_vals, H_types, H_symbols"
   ]
  },
  {
   "cell_type": "markdown",
   "id": "35da72dd",
   "metadata": {},
   "source": [
    "# Solving Hamiltonian: Effective Kitaev Model"
   ]
  },
  {
   "cell_type": "markdown",
   "id": "a91cadaf",
   "metadata": {},
   "source": [
    "## Constructing and solving system"
   ]
  },
  {
   "cell_type": "code",
   "execution_count": null,
   "id": "b85dbcba",
   "metadata": {},
   "outputs": [],
   "source": [
    "## Generating a Hamiltonian requires creating the list of operator-lists\n",
    "## The function 'generate_kitaev_hamiltonian' generates all nearest neighbour interactions + chemical potentials + Us\n",
    "N = 2\n",
    "fs = fst.FockSystemBase(N, store_fock_states=False)\n",
    "hamiltonian = kt.make_kitaev_hamiltonian(fs)\n",
    "operator_list = hamiltonian[0]\n",
    "display(Markdown(f\"Hamiltonian representation: {operator_list}\"))\n",
    "\n",
    "## A mapping is needed to map  operators -> values and readable symbols, such that the H_params can be entered as readable\n",
    "## A function 'map_H_params' maps both the operator lists and the H_params below to the same string representation.\n",
    "H_params = {\n",
    "    \"d_dd\": [0] * (N - 1),\n",
    "    \"d_uu\": [0] * (N - 1),\n",
    "    \"d_ud\": [20] * (N - 1),\n",
    "    \"d_du\": [20] * (N - 1),\n",
    "    \"t_dd\": [20] * (N - 1),\n",
    "    \"t_uu\": [20] * (N - 1),\n",
    "    \"t_ud\": [0] * (N - 1),\n",
    "    \"t_du\": [0] * (N - 1),\n",
    "    \"mu\": [0] * N,\n",
    "    \"Ez\": [0] * N,\n",
    "    \"U\": [0] * N,\n",
    "}\n",
    "H_vals, H_symbols, H_types = kt.map_H_params_kitaev(fs, H_params)\n",
    "\n",
    "str = \"H = \"\n",
    "for oper in operator_list:\n",
    "    str += f\"{H_symbols[fs.oper_list_to_str(oper)]}\" + f\"{fs.vis_oper_list(oper)}\" + \" + \"\n",
    "display(Markdown(str[:-2]))"
   ]
  },
  {
   "cell_type": "code",
   "execution_count": null,
   "id": "da7b72ce",
   "metadata": {},
   "outputs": [],
   "source": [
    "# An additional class (ParitySystem) is relevant for cases where a division of the fock states\n",
    "# into odd and even parity sectors is desired (i.e.: the Kitaev chain)\n",
    "N = 3\n",
    "\n",
    "## Dictionary with all relevant parameters\n",
    "## Parameter names used here are arbitrary, a function is required to link them to the correct 'operators' ('map_H_params_Kitaev' in this case)\n",
    "H_params = {\n",
    "    \"d_dd\": [0] * (N - 1),\n",
    "    \"d_uu\": [0] * (N - 1),\n",
    "    \"d_ud\": [20] * (N - 1),\n",
    "    \"d_du\": [20] * (N - 1),\n",
    "    \"t_dd\": [20] * (N - 1),\n",
    "    \"t_uu\": [20] * (N - 1),\n",
    "    \"t_ud\": [0] * (N - 1),\n",
    "    \"t_du\": [0] * (N - 1),\n",
    "    \"mu\": [0] * N,\n",
    "    \"Ez\": [0] * N,\n",
    "    \"U\": [0] * N,\n",
    "}\n",
    "fs = fst.FockSystemBase(N)\n",
    "\n",
    "## Generate a list of all relevant operators for the Kitaev chain (with interactions)\n",
    "## This is just a list with lists of integers representing the operator sequences\n",
    "generate_kitaev_hamiltonian = partial(kt.make_kitaev_hamiltonian, fs)\n",
    "\n",
    "## Links operators to understandable parameter names\n",
    "generate_mapping = partial(kt.map_H_params_kitaev, fs, H_params)\n",
    "\n",
    "## Create a ParitySystem (builds on FermionSystem): seperates the fock states into odd and even parity states\n",
    "## and applies the provided Hamiltonian to calculate non-zero terms for later use\n",
    "chain = fst.ParitySystem(\n",
    "    N=N,\n",
    "    H_generator=generate_kitaev_hamiltonian,\n",
    "    H_mapping=generate_mapping,\n",
    "    Ez_inf=True,\n",
    "    U_inf=True,\n",
    "    sparse_function=hamiltonian_matvec,\n",
    ")\n",
    "chain.gather_H()\n",
    "## Once chain is constructed, can use solve_system to get eigenvalues and eigenvector\n",
    "## Two methods are included:\n",
    "## 'linalg' -> uses numpy's linalg.eigh, requires constructing the matrix\n",
    "## 'sparse' -> uses scipy's LinearOperator class, does not require explicitly filling a matrix\n",
    "##             returns the lowest N eigenvalues and eigenvectors (set by 'n_values')\n",
    "##             The method is faster for N>4, if only a small number of eigenvalues are needed\n",
    "display(Markdown(\"**Method: Sparse**\"))\n",
    "E_odd, E_even, phi_odd, phi_even = chain.solve_system(method=\"sparse\", n_values=1)\n",
    "print(f\"Odd ground state energy: {np.round(E_odd[0],3)}\")\n",
    "print(f\"Odd ground state: {chain.vis_state_list(chain.odd_states,phi_odd[0])}\\n\")\n",
    "print(f\"Even ground state energy: {np.round(E_even[0],3)}\")\n",
    "print(f\"Even ground state: {chain.vis_state_list(chain.even_states,phi_even[0])}\\n\")\n",
    "print(\"________________\")\n",
    "display(Markdown(\"**Method: Linalg**\"))\n",
    "E_odd, E_even, phi_odd, phi_even = chain.solve_system(method=\"linalg\")\n",
    "print(f\"Odd ground state energy: {np.round(E_odd[0],3)}\")\n",
    "print(f\"Odd ground state: {chain.vis_state_list(chain.odd_states,phi_odd[0])}\\n\")\n",
    "print(f\"Even ground state energy: {np.round(E_even[0],3)}\")\n",
    "print(f\"Even ground state: {chain.vis_state_list(chain.even_states,phi_even[0])}\\n\")"
   ]
  },
  {
   "cell_type": "code",
   "execution_count": null,
   "id": "4403f833",
   "metadata": {},
   "outputs": [],
   "source": [
    "## To show all eigenstates and solutions:\n",
    "chain = kt.make_kitaev_chain(\n",
    "    2, H_params, Ez_inf=False, U_inf=True\n",
    ")  # shortcut for the Kitaev chain construction\n",
    "chain.eigenstates(only_ground_states=False, only_energies=False)"
   ]
  },
  {
   "cell_type": "code",
   "execution_count": null,
   "id": "8d97f35d",
   "metadata": {},
   "outputs": [],
   "source": [
    "## For small Hamiltonians and debugging: print a symbolic Hamiltonian (only shows non-diagonal terms)\n",
    "\n",
    "chain = kt.make_kitaev_chain(\n",
    "    2, H_params, Ez_inf=False, U_inf=True\n",
    ")  # shortcut for the Kitaev chain construction\n",
    "# chain.eigenstates(only_ground_states=False,only_energies=False)\n",
    "chain.show_hamiltonian(parity=\"even\")"
   ]
  },
  {
   "cell_type": "code",
   "execution_count": null,
   "id": "e4e0d02c",
   "metadata": {
    "lines_to_next_cell": 2
   },
   "outputs": [],
   "source": [
    "## The hamiltonian parameters can be updated without having to redo the entire matrix\n",
    "chain = kt.make_kitaev_chain(\n",
    "    2, H_params, Ez_inf=False, U_inf=True, make_arrays=True\n",
    ")  # shortcut for the Kitaev chain construction\n",
    "chain.update_H_param_list([\"mu_d_0\"], 5, update_matrix=True)\n",
    "print(\"Updated to have value of 5 for mu_0_down:\")\n",
    "chain.show_hamiltonian(parity=\"even\", numeric=True)"
   ]
  },
  {
   "cell_type": "markdown",
   "id": "6d1bf997",
   "metadata": {},
   "source": [
    "## Energy Spectrum"
   ]
  },
  {
   "cell_type": "code",
   "execution_count": null,
   "id": "240ecf9f",
   "metadata": {},
   "outputs": [],
   "source": [
    "## To calculate a simplified energy spectrum (for comparing to finite bias conductace measurements)\n",
    "## the function'energy_spectrum' extracts transitions and probablities for transitions\n",
    "## between even and odd ground states to excited states.\n",
    "## This gives a simplified representation, but provides speed over solving the rate equation (below)\n",
    "N = 2\n",
    "\n",
    "\n",
    "## Create Figure\n",
    "fig, axs = plt.subplots(ncols=N, figsize=(N * 2.2, 2.5))\n",
    "for ax in axs:\n",
    "    ax.grid(False)\n",
    "    ax.set_ylim([-150, 150])\n",
    "    ax.set_xlabel(\"$\\\\delta \\\\mu$\")\n",
    "    ax.set_ylabel(\"$E_{T}$\")\n",
    "\n",
    "## Set parameters\n",
    "H_params = {\n",
    "    \"d_dd\": [20] * (N - 1),\n",
    "    \"d_uu\": [20] * (N - 1),\n",
    "    \"d_ud\": [20] * (N - 1),\n",
    "    \"d_du\": [20] * (N - 1),\n",
    "    \"t_dd\": [20] * (N - 1),\n",
    "    \"t_uu\": [20] * (N - 1),\n",
    "    \"t_ud\": [0] * (N - 1),\n",
    "    \"t_du\": [0] * (N - 1),\n",
    "    \"mu\": [0] * N,\n",
    "    \"Ez\": [0] * N,\n",
    "    \"U\": [0] * N,\n",
    "}\n",
    "\n",
    "## Create chain\n",
    "chain = kt.make_kitaev_chain(\n",
    "    N,\n",
    "    H_params,\n",
    "    Ez_inf=True,\n",
    "    U_inf=True,\n",
    "    make_arrays=True,\n",
    "    sparse_function=hamiltonian_matvec,\n",
    ")\n",
    "\n",
    "## Range and parameters to vary\n",
    "mu_range = np.linspace(-100, 100, 100)\n",
    "vary_params = [f\"mu_d_{i}\" for i in range(chain.N)] + [\n",
    "    f\"mu_u_{i}\" for i in range(chain.N)\n",
    "]  # All mu_down parameters int he chain\n",
    "\n",
    "## PLot energy spectrum for all sites\n",
    "timed = 0\n",
    "kt.energy_spectrum(chain, vary_params, mu_range, range(N), fig, axs, plot=True)\n",
    "plt.tight_layout()"
   ]
  },
  {
   "cell_type": "markdown",
   "id": "32b25870",
   "metadata": {},
   "source": [
    "## Conductance from rate equation"
   ]
  },
  {
   "cell_type": "code",
   "execution_count": null,
   "id": "12cee1b5",
   "metadata": {},
   "outputs": [],
   "source": [
    "lead_params = {\"gammas\": [0.001], \"kBT\": 0.002, \"dV\": 0.001}"
   ]
  },
  {
   "cell_type": "code",
   "execution_count": null,
   "id": "48886e9e",
   "metadata": {
    "lines_to_next_cell": 2
   },
   "outputs": [],
   "source": [
    "N = 5\n",
    "H_params = {\n",
    "    \"d_dd\": [20e-3] * (N - 1),\n",
    "    \"d_uu\": [20e-3] * (N - 1),\n",
    "    \"d_ud\": [0] * (N - 1),\n",
    "    \"d_du\": [0] * (N - 1),\n",
    "    \"t_dd\": [20e-3] * (N - 1),\n",
    "    \"t_uu\": [20e-3] * (N - 1),\n",
    "    \"t_ud\": [0] * (N - 1),\n",
    "    \"t_du\": [0] * (N - 1),\n",
    "    \"mu\": [0] * N,\n",
    "    \"Ez\": [0] * N,\n",
    "    \"U\": [0] * N,\n",
    "}\n",
    "chain = kt.make_kitaev_chain(\n",
    "    N,\n",
    "    H_params,\n",
    "    Ez_inf=True,\n",
    "    U_inf=True,\n",
    "    make_arrays=True,\n",
    "    sparse_function=hamiltonian_matvec,\n",
    ")  # shortcut for the Kitaev chain construction\n",
    "\n",
    "vary_params = [f\"mu_d_{i}\" for i in range(N)] + [f\"mu_u_{i}\" for i in range(N)]\n",
    "param_range = np.linspace(-100e-3, 100e-3, 50)\n",
    "bias_range = np.linspace(-100e-3, 100e-3, 50)\n",
    "\n",
    "## When getting conductance, can truncate the number of eigenvectors to pass to the rate equation (given by n_values)\n",
    "lead_params[\"gammas\"] = [0.001] * N\n",
    "Gs_dataset = kt.conductance_spectrum(\n",
    "    chain,\n",
    "    vary_params,\n",
    "    param_range,\n",
    "    bias_range,\n",
    "    sites=[i for i in range(N)],\n",
    "    lead_params=lead_params,\n",
    "    plot=True,\n",
    "    method=\"linalg\",\n",
    "    n_values=30,\n",
    ")"
   ]
  },
  {
   "cell_type": "code",
   "execution_count": null,
   "id": "cddb8d82",
   "metadata": {
    "lines_to_next_cell": 2
   },
   "outputs": [],
   "source": [
    "N = 2\n",
    "H_params = {\n",
    "    \"d_dd\": [0e-3] * (N - 1),\n",
    "    \"d_uu\": [0e-3] * (N - 1),\n",
    "    \"d_ud\": [20e-3] * (N - 1),\n",
    "    \"d_du\": [20e-3] * (N - 1),\n",
    "    \"t_dd\": [np.sqrt(2) * 20e-3] * (N - 1),\n",
    "    \"t_uu\": [np.sqrt(2) * 20e-3] * (N - 1),\n",
    "    \"t_ud\": [0] * (N - 1),\n",
    "    \"t_du\": [0] * (N - 1),\n",
    "    \"mu\": [0] * N,\n",
    "    \"Ez\": [0] * N,\n",
    "    \"U\": [0] * N,\n",
    "}\n",
    "\n",
    "chain = kt.make_kitaev_chain(\n",
    "    N,\n",
    "    H_params,\n",
    "    Ez_inf=False,\n",
    "    U_inf=True,\n",
    "    make_arrays=True,\n",
    "    sparse_function=hamiltonian_matvec,\n",
    ")  # shortcut for the Kitaev chain construction\n",
    "\n",
    "vary_params = [\"mu_d_1\", \"mu_u_1\"]\n",
    "param_range = np.linspace(-100e-3, 100e-3, 80)\n",
    "bias_range = np.linspace(-100e-3, 100e-3, 80)\n",
    "\n",
    "## When getting conductance, can truncate the number of eigenvectors to pass to the rate equation (given by n_values)\n",
    "lead_params[\"gammas\"] = [0.001] * N\n",
    "Gs_dataset = kt.conductance_spectrum(\n",
    "    chain,\n",
    "    vary_params,\n",
    "    param_range,\n",
    "    bias_range,\n",
    "    sites=[i for i in range(N)],\n",
    "    lead_params=lead_params,\n",
    "    plot=True,\n",
    "    method=\"linalg\",\n",
    "    n_values=50,\n",
    ")"
   ]
  },
  {
   "cell_type": "code",
   "execution_count": null,
   "id": "44dbc96f",
   "metadata": {},
   "outputs": [],
   "source": [
    "fig, axs = plt.subplots(ncols=2, nrows=2, figsize=(4, 4))\n",
    "for ax_row in axs:\n",
    "    for ax in ax_row:\n",
    "        ax.set_xlabel(\"$\\\\mu_0$\")\n",
    "        ax.set_ylabel(\"$\\\\mu_1$\")\n",
    "\n",
    "## Set up a Kitaev chain\n",
    "N = 2\n",
    "H_params = {\n",
    "    \"d_dd\": [30e-3] * (N - 1),\n",
    "    \"d_uu\": [30e-3] * (N - 1),\n",
    "    \"d_ud\": [0] * (N - 1),\n",
    "    \"d_du\": [0] * (N - 1),\n",
    "    \"t_dd\": [30e-3] * (N - 1),\n",
    "    \"t_uu\": [30e-3] * (N - 1),\n",
    "    \"t_ud\": [0] * (N - 1),\n",
    "    \"t_du\": [0] * (N - 1),\n",
    "    \"mu\": [0] * N,\n",
    "    \"Ez\": [0] * N,\n",
    "    \"U\": [0] * N,\n",
    "}\n",
    "chain = kt.make_kitaev_chain(N, H_params, Ez_inf=True, U_inf=True, make_arrays=True)\n",
    "\n",
    "## Select parameters and ranges\n",
    "x_range = np.linspace(-100e-3, 100e-3, 80)\n",
    "y_range = np.linspace(-100e-3, 100e-3, 80)\n",
    "\n",
    "## Instruct to vary mu_0 vs mu_1\n",
    "vary_x = [\"mu_d_0\"]\n",
    "vary_y = [\"mu_d_1\"]\n",
    "sites = [0, 1]\n",
    "\n",
    "lead_params[\"gammas\"] = [0.001] * N\n",
    "results = kt.charge_stability_diagram(\n",
    "    chain,\n",
    "    vary_x,\n",
    "    x_range,\n",
    "    vary_y,\n",
    "    y_range,\n",
    "    sites=sites,\n",
    "    lead_params=lead_params,\n",
    "    method=\"linalg\",\n",
    ")\n",
    "count = 0\n",
    "for i in range(len(sites)):\n",
    "    for j in range(len(sites)):\n",
    "        if i != j:\n",
    "            axs[i][j].pcolormesh(results[f\"G_{sites[i]}{sites[j]}\"], cmap=\"RdBu_r\")\n",
    "        else:\n",
    "            vmax = np.max(results[f\"G_{sites[i]}{sites[j]}\"])\n",
    "            axs[i][j].pcolormesh(\n",
    "                results[f\"G_{sites[i]}{sites[j]}\"], cmap=\"RdBu_r\", vmin=-vmax, vmax=vmax\n",
    "            )\n",
    "\n",
    "plt.tight_layout()\n"
   ]
  },
  {
   "cell_type": "markdown",
   "id": "bc6b82cf",
   "metadata": {},
   "source": [
    "## Odd-Even Phase Space"
   ]
  },
  {
   "cell_type": "code",
   "execution_count": null,
   "id": "6dbc837f",
   "metadata": {},
   "outputs": [],
   "source": [
    "N = 3\n",
    "phi = np.arccos(-1 / 4)\n",
    "delta = 30\n",
    "\n",
    "H_params = {\n",
    "    \"d_dd\": [0] * (N - 1),\n",
    "    \"d_uu\": [0] * (N - 1),\n",
    "    \"d_ud\": [delta, delta * (np.exp(-1j * phi))],\n",
    "    \"d_du\": [delta, delta * np.exp(-1j * phi)],\n",
    "    \"t_dd\": [40e-3] * (N - 1),\n",
    "    \"t_uu\": [40e-3] * (N - 1),\n",
    "    \"t_ud\": [0] * (N - 1),\n",
    "    \"t_du\": [0] * (N - 1),\n",
    "    \"mu\": [0] * N,\n",
    "    \"Ez\": [0] * N,\n",
    "    \"U\": [0] * N,\n",
    "}\n",
    "chain = kt.make_kitaev_chain(\n",
    "    N,\n",
    "    H_params,\n",
    "    Ez_inf=False,\n",
    "    U_inf=True,\n",
    "    make_arrays=True,\n",
    "    sparse_function=hamiltonian_matvec,\n",
    ")\n",
    "## Select parameters and ranges\n",
    "mu_range = np.array(np.linspace(-60, 60, 150))\n",
    "t_range = np.linspace(0, 2 * delta, 150)\n",
    "\n",
    "## Instruct to vary all mu parameters and all t parameters\n",
    "vary_mu = [f\"mu_d_{i}\" for i in range(N)] + [f\"mu_u_{i}\" for i in range(N)]\n",
    "vary_t = [f\"t_uu_{i}\" for i in range(N - 1)] + [f\"t_dd_{i}\" for i in range(N - 1)]\n",
    "\n",
    "## Calculate energy differences\n",
    "results = np.array(\n",
    "    kt.phase_space(chain, vary_t, t_range, vary_mu, mu_range, T=1, disable=False)[0]\n",
    ")\n",
    "\n",
    "res_array = np.zeros(np.shape(results))\n",
    "threshhold = 0.001\n",
    "pos = np.where(results > threshhold)\n",
    "neg = np.where(results < -threshhold)\n",
    "res_array[pos] = 1\n",
    "res_array[neg] = -1\n",
    "fig, ax = plt.subplots(ncols=1, nrows=1, figsize=(4, 4))\n",
    "ax.pcolormesh(t_range, mu_range, res_array, cmap=\"RdBu_r\", shading=\"auto\")\n",
    "ax.set_title(\"Odd/Even GS phase diagram, $\\\\phi$=\" + f\"{phi}\")\n",
    "ax.set_xlabel(\"t/$\\\\Delta$\")\n",
    "ax.set_ylabel(\"$\\\\mu$/$\\\\Delta$\")\n",
    "ax.plot([0, 60], [0, 0], linestyle=\"dashed\", color=\"black\")\n",
    "ax.plot(\n",
    "    [np.sqrt(2) * delta, np.sqrt(2) * delta], [-60, 60], color=\"black\", linestyle=\"dashed\"\n",
    ")"
   ]
  },
  {
   "cell_type": "markdown",
   "id": "7c0c8e61",
   "metadata": {},
   "source": [
    "## Block Diagonalize"
   ]
  },
  {
   "cell_type": "code",
   "execution_count": null,
   "id": "23226423",
   "metadata": {},
   "outputs": [],
   "source": [
    "## Block diagonalize the matrix and visualize with graphs or with plt.matshow\n",
    "## block_diagonalize function reorders the basis states and regenerates the hamiltonian\n",
    "## If a state is nonzero but only couples to itself I.e. only shows up on the diagonal) it is removed from the basis"
   ]
  },
  {
   "cell_type": "code",
   "execution_count": null,
   "id": "487fe336",
   "metadata": {},
   "outputs": [],
   "source": [
    "N = 3\n",
    "H_params = {\n",
    "    \"d_dd\": [0] * (N - 1),\n",
    "    \"d_uu\": [0] * (N - 1),\n",
    "    \"d_ud\": [40] * (N - 1),\n",
    "    \"d_du\": [40] * (N - 1),\n",
    "    \"t_dd\": [40] * (N - 1),\n",
    "    \"t_uu\": [40] * (N - 1),\n",
    "    \"t_ud\": [0] * (N - 1),\n",
    "    \"t_du\": [0] * (N - 1),\n",
    "    \"mu\": [1] * N,\n",
    "    \"Ez\": [0] * N,\n",
    "    \"U\": [0] * N,\n",
    "}\n",
    "times = []\n",
    "\n",
    "chain = kt.make_kitaev_chain(\n",
    "    N,\n",
    "    H_params,\n",
    "    Ez_inf=False,\n",
    "    U_inf=True,\n",
    "    make_arrays=True,\n",
    "    sparse_function=hamiltonian_matvec,\n",
    ")\n"
   ]
  },
  {
   "cell_type": "code",
   "execution_count": null,
   "id": "3d055d11",
   "metadata": {},
   "outputs": [],
   "source": [
    "blocks = chain.block_diagonalize(print_result=True, graph=True)"
   ]
  }
 ],
 "metadata": {
  "kernelspec": {
   "display_name": "Python 3 (ipykernel)",
   "language": "python",
   "name": "python3"
  }
 },
 "nbformat": 4,
 "nbformat_minor": 5
}
